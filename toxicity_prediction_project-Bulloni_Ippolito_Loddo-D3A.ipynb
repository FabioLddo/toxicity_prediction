{
 "cells": [
  {
   "attachments": {},
   "cell_type": "markdown",
   "metadata": {},
   "source": [
    "# Toxicity Prediction Project\n",
    "Final Project - Applied Case Studies of Machine Learning and Deep Learning in Key Areas 2\n",
    "\n",
    "Bulloni Dyuman, Ippolito Manuel, Loddo Fabio - D3A"
   ]
  },
  {
   "attachments": {},
   "cell_type": "markdown",
   "metadata": {},
   "source": [
    "Import the required Python libraries"
   ]
  },
  {
   "cell_type": "code",
   "execution_count": 44,
   "metadata": {},
   "outputs": [],
   "source": [
    "# Data handling\n",
    "import pandas as pd\n",
    "import numpy as np\n",
    "import random\n",
    "\n",
    "# Plotting\n",
    "import matplotlib.pyplot as plt\n",
    "import seaborn as sns\n",
    "\n",
    "# File handling\n",
    "import os\n",
    "from pathlib import Path\n",
    "import datetime\n",
    "\n",
    "# RDKit modules\n",
    "import rdkit as rd\n",
    "from rdkit import Chem, DataStructs\n",
    "from rdkit.Chem import AllChem\n",
    "\n",
    "# Deep learning\n",
    "from DeepPurpose import *\n",
    "from DeepPurpose import ProteinPred as models\n",
    "from DeepPurpose.utils import *\n",
    "from DeepPurpose.dataset import *\n",
    "from DeepPurpose import CompoundPred, dataset, utils\n",
    "\n",
    "\n",
    "# Modeling\n",
    "import sklearn \n",
    "from sklearn.model_selection import train_test_split\n",
    "from sklearn.metrics import accuracy_score, f1_score, roc_auc_score\n",
    "\n",
    "# Warnings\n",
    "import warnings\n",
    "warnings.filterwarnings(\"ignore\")\n",
    "\n",
    "import torch\n",
    "from torch.utils.data import Dataset, DataLoader\n",
    "device=torch.device(\"cuda:0\" if torch.cuda.is_available() else \"cpu\")  # use GPU if available"
   ]
  },
  {
   "attachments": {},
   "cell_type": "markdown",
   "metadata": {},
   "source": [
    "Settings"
   ]
  },
  {
   "cell_type": "code",
   "execution_count": 2,
   "metadata": {},
   "outputs": [],
   "source": [
    "# Set seed value\n",
    "seed_value = 124 #122 123 124, as used in MoleculeNet\n",
    "\n",
    "# Set torch settings\n",
    "torch.manual_seed(seed_value)\n",
    "torch.cuda.manual_seed(seed_value)\n",
    "np.random.seed(seed_value)\n",
    "random.seed(seed_value)\n",
    "torch.backends.cudnn.enabled=False\n",
    "torch.backends.cudnn.deterministic=True"
   ]
  },
  {
   "attachments": {},
   "cell_type": "markdown",
   "metadata": {},
   "source": [
    "Constants"
   ]
  },
  {
   "cell_type": "code",
   "execution_count": 3,
   "metadata": {},
   "outputs": [],
   "source": [
    "# Number of bits for morgan fingerprints\n",
    "MORGAN_BITS = 4096\n",
    "\n",
    "# Number of radius for morgan fingerprints\n",
    "MORGAN_RADIUS = 2"
   ]
  },
  {
   "attachments": {},
   "cell_type": "markdown",
   "metadata": {},
   "source": [
    "## Data Exploration"
   ]
  },
  {
   "attachments": {},
   "cell_type": "markdown",
   "metadata": {},
   "source": [
    "Import the data"
   ]
  },
  {
   "cell_type": "code",
   "execution_count": 4,
   "metadata": {},
   "outputs": [
    {
     "data": {
      "text/plain": [
       "WindowsPath('c:/Users/loddo/SUPSI/AppliedCaseStudiesOfMachineLearningAndDeepLearningInKeyAreas2/Chem/Repo/toxicity_prediction/Data')"
      ]
     },
     "execution_count": 4,
     "metadata": {},
     "output_type": "execute_result"
    }
   ],
   "source": [
    "# Define path to the Data folder\n",
    "DATA_PATH: Path = Path(os.getcwd() + \"/Data\")\n",
    "DATA_PATH"
   ]
  },
  {
   "cell_type": "code",
   "execution_count": 5,
   "metadata": {},
   "outputs": [
    {
     "data": {
      "text/html": [
       "<div>\n",
       "<style scoped>\n",
       "    .dataframe tbody tr th:only-of-type {\n",
       "        vertical-align: middle;\n",
       "    }\n",
       "\n",
       "    .dataframe tbody tr th {\n",
       "        vertical-align: top;\n",
       "    }\n",
       "\n",
       "    .dataframe thead th {\n",
       "        text-align: right;\n",
       "    }\n",
       "</style>\n",
       "<table border=\"1\" class=\"dataframe\">\n",
       "  <thead>\n",
       "    <tr style=\"text-align: right;\">\n",
       "      <th></th>\n",
       "      <th>smiles</th>\n",
       "      <th>FDA_APPROVED</th>\n",
       "      <th>CT_TOX</th>\n",
       "    </tr>\n",
       "  </thead>\n",
       "  <tbody>\n",
       "    <tr>\n",
       "      <th>0</th>\n",
       "      <td>*C(=O)[C@H](CCCCNC(=O)OCCOC)NC(=O)OCCOC</td>\n",
       "      <td>1</td>\n",
       "      <td>0</td>\n",
       "    </tr>\n",
       "    <tr>\n",
       "      <th>1</th>\n",
       "      <td>[C@@H]1([C@@H]([C@@H]([C@H]([C@@H]([C@@H]1Cl)C...</td>\n",
       "      <td>1</td>\n",
       "      <td>0</td>\n",
       "    </tr>\n",
       "    <tr>\n",
       "      <th>2</th>\n",
       "      <td>[C@H]([C@@H]([C@@H](C(=O)[O-])O)O)([C@H](C(=O)...</td>\n",
       "      <td>1</td>\n",
       "      <td>0</td>\n",
       "    </tr>\n",
       "    <tr>\n",
       "      <th>3</th>\n",
       "      <td>[H]/[NH+]=C(/C1=CC(=O)/C(=C\\C=c2ccc(=C([NH3+])...</td>\n",
       "      <td>1</td>\n",
       "      <td>0</td>\n",
       "    </tr>\n",
       "    <tr>\n",
       "      <th>4</th>\n",
       "      <td>[H]/[NH+]=C(\\N)/c1ccc(cc1)OCCCCCOc2ccc(cc2)/C(...</td>\n",
       "      <td>1</td>\n",
       "      <td>0</td>\n",
       "    </tr>\n",
       "  </tbody>\n",
       "</table>\n",
       "</div>"
      ],
      "text/plain": [
       "                                              smiles  FDA_APPROVED  CT_TOX\n",
       "0            *C(=O)[C@H](CCCCNC(=O)OCCOC)NC(=O)OCCOC             1       0\n",
       "1  [C@@H]1([C@@H]([C@@H]([C@H]([C@@H]([C@@H]1Cl)C...             1       0\n",
       "2  [C@H]([C@@H]([C@@H](C(=O)[O-])O)O)([C@H](C(=O)...             1       0\n",
       "3  [H]/[NH+]=C(/C1=CC(=O)/C(=C\\C=c2ccc(=C([NH3+])...             1       0\n",
       "4  [H]/[NH+]=C(\\N)/c1ccc(cc1)OCCCCCOc2ccc(cc2)/C(...             1       0"
      ]
     },
     "execution_count": 5,
     "metadata": {},
     "output_type": "execute_result"
    }
   ],
   "source": [
    "# Import the clintox dataset\n",
    "# Clintox dataset contains clinical toxicology data\n",
    "clintox = pd.read_csv(DATA_PATH / \"clintox.csv\")\n",
    "clintox_task = ['CT_TOX']\n",
    "clintox.head()"
   ]
  },
  {
   "cell_type": "code",
   "execution_count": 6,
   "metadata": {},
   "outputs": [
    {
     "data": {
      "text/html": [
       "<div>\n",
       "<style scoped>\n",
       "    .dataframe tbody tr th:only-of-type {\n",
       "        vertical-align: middle;\n",
       "    }\n",
       "\n",
       "    .dataframe tbody tr th {\n",
       "        vertical-align: top;\n",
       "    }\n",
       "\n",
       "    .dataframe thead th {\n",
       "        text-align: right;\n",
       "    }\n",
       "</style>\n",
       "<table border=\"1\" class=\"dataframe\">\n",
       "  <thead>\n",
       "    <tr style=\"text-align: right;\">\n",
       "      <th></th>\n",
       "      <th>NR-AR</th>\n",
       "      <th>NR-AR-LBD</th>\n",
       "      <th>NR-AhR</th>\n",
       "      <th>NR-Aromatase</th>\n",
       "      <th>NR-ER</th>\n",
       "      <th>NR-ER-LBD</th>\n",
       "      <th>NR-PPAR-gamma</th>\n",
       "      <th>SR-ARE</th>\n",
       "      <th>SR-ATAD5</th>\n",
       "      <th>SR-HSE</th>\n",
       "      <th>SR-MMP</th>\n",
       "      <th>SR-p53</th>\n",
       "      <th>mol_id</th>\n",
       "      <th>smiles</th>\n",
       "    </tr>\n",
       "  </thead>\n",
       "  <tbody>\n",
       "    <tr>\n",
       "      <th>0</th>\n",
       "      <td>0.0</td>\n",
       "      <td>0.0</td>\n",
       "      <td>1.0</td>\n",
       "      <td>NaN</td>\n",
       "      <td>NaN</td>\n",
       "      <td>0.0</td>\n",
       "      <td>0.0</td>\n",
       "      <td>1.0</td>\n",
       "      <td>0.0</td>\n",
       "      <td>0.0</td>\n",
       "      <td>0.0</td>\n",
       "      <td>0.0</td>\n",
       "      <td>TOX3021</td>\n",
       "      <td>CCOc1ccc2nc(S(N)(=O)=O)sc2c1</td>\n",
       "    </tr>\n",
       "    <tr>\n",
       "      <th>1</th>\n",
       "      <td>0.0</td>\n",
       "      <td>0.0</td>\n",
       "      <td>0.0</td>\n",
       "      <td>0.0</td>\n",
       "      <td>0.0</td>\n",
       "      <td>0.0</td>\n",
       "      <td>0.0</td>\n",
       "      <td>NaN</td>\n",
       "      <td>0.0</td>\n",
       "      <td>NaN</td>\n",
       "      <td>0.0</td>\n",
       "      <td>0.0</td>\n",
       "      <td>TOX3020</td>\n",
       "      <td>CCN1C(=O)NC(c2ccccc2)C1=O</td>\n",
       "    </tr>\n",
       "    <tr>\n",
       "      <th>2</th>\n",
       "      <td>NaN</td>\n",
       "      <td>NaN</td>\n",
       "      <td>NaN</td>\n",
       "      <td>NaN</td>\n",
       "      <td>NaN</td>\n",
       "      <td>NaN</td>\n",
       "      <td>NaN</td>\n",
       "      <td>0.0</td>\n",
       "      <td>NaN</td>\n",
       "      <td>0.0</td>\n",
       "      <td>NaN</td>\n",
       "      <td>NaN</td>\n",
       "      <td>TOX3024</td>\n",
       "      <td>CC[C@]1(O)CC[C@H]2[C@@H]3CCC4=CCCC[C@@H]4[C@H]...</td>\n",
       "    </tr>\n",
       "    <tr>\n",
       "      <th>3</th>\n",
       "      <td>0.0</td>\n",
       "      <td>0.0</td>\n",
       "      <td>0.0</td>\n",
       "      <td>0.0</td>\n",
       "      <td>0.0</td>\n",
       "      <td>0.0</td>\n",
       "      <td>0.0</td>\n",
       "      <td>NaN</td>\n",
       "      <td>0.0</td>\n",
       "      <td>NaN</td>\n",
       "      <td>0.0</td>\n",
       "      <td>0.0</td>\n",
       "      <td>TOX3027</td>\n",
       "      <td>CCCN(CC)C(CC)C(=O)Nc1c(C)cccc1C</td>\n",
       "    </tr>\n",
       "    <tr>\n",
       "      <th>4</th>\n",
       "      <td>0.0</td>\n",
       "      <td>0.0</td>\n",
       "      <td>NaN</td>\n",
       "      <td>0.0</td>\n",
       "      <td>0.0</td>\n",
       "      <td>0.0</td>\n",
       "      <td>0.0</td>\n",
       "      <td>0.0</td>\n",
       "      <td>0.0</td>\n",
       "      <td>0.0</td>\n",
       "      <td>NaN</td>\n",
       "      <td>0.0</td>\n",
       "      <td>TOX3028</td>\n",
       "      <td>CC(O)(P(=O)(O)O)P(=O)(O)O</td>\n",
       "    </tr>\n",
       "  </tbody>\n",
       "</table>\n",
       "</div>"
      ],
      "text/plain": [
       "   NR-AR  NR-AR-LBD  NR-AhR  NR-Aromatase  NR-ER  NR-ER-LBD  NR-PPAR-gamma   \n",
       "0    0.0        0.0     1.0           NaN    NaN        0.0            0.0  \\\n",
       "1    0.0        0.0     0.0           0.0    0.0        0.0            0.0   \n",
       "2    NaN        NaN     NaN           NaN    NaN        NaN            NaN   \n",
       "3    0.0        0.0     0.0           0.0    0.0        0.0            0.0   \n",
       "4    0.0        0.0     NaN           0.0    0.0        0.0            0.0   \n",
       "\n",
       "   SR-ARE  SR-ATAD5  SR-HSE  SR-MMP  SR-p53   mol_id   \n",
       "0     1.0       0.0     0.0     0.0     0.0  TOX3021  \\\n",
       "1     NaN       0.0     NaN     0.0     0.0  TOX3020   \n",
       "2     0.0       NaN     0.0     NaN     NaN  TOX3024   \n",
       "3     NaN       0.0     NaN     0.0     0.0  TOX3027   \n",
       "4     0.0       0.0     0.0     NaN     0.0  TOX3028   \n",
       "\n",
       "                                              smiles  \n",
       "0                       CCOc1ccc2nc(S(N)(=O)=O)sc2c1  \n",
       "1                          CCN1C(=O)NC(c2ccccc2)C1=O  \n",
       "2  CC[C@]1(O)CC[C@H]2[C@@H]3CCC4=CCCC[C@@H]4[C@H]...  \n",
       "3                    CCCN(CC)C(CC)C(=O)Nc1c(C)cccc1C  \n",
       "4                          CC(O)(P(=O)(O)O)P(=O)(O)O  "
      ]
     },
     "execution_count": 6,
     "metadata": {},
     "output_type": "execute_result"
    }
   ],
   "source": [
    "# Import the tox21 dataset\n",
    "# Tox21 dataset contains in vitro toxicology data \n",
    "tox21 = pd.read_csv(DATA_PATH / \"tox21.csv\")\n",
    "tox21_tasks = ['NR-AR', 'NR-Aromatase', 'NR-PPAR-gamma', 'SR-HSE', \n",
    "               'NR-AR-LBD', 'NR-ER', 'SR-ARE', 'SR-MMP',\n",
    "               'NR-AhR', 'NR-ER-LBD', 'SR-ATAD5', 'SR-p53']\n",
    "tox21.head()"
   ]
  },
  {
   "attachments": {},
   "cell_type": "markdown",
   "metadata": {},
   "source": [
    "In vivo data (that in the reference papers come from the dataset RTECS by Biovia) are not available  publicly and require a fee or a subscription to be provided, so we will work on clinical and in vitro data for this project."
   ]
  },
  {
   "attachments": {},
   "cell_type": "markdown",
   "metadata": {},
   "source": [
    "### Plot data"
   ]
  },
  {
   "attachments": {},
   "cell_type": "markdown",
   "metadata": {},
   "source": [
    "#### Clintox dataset"
   ]
  },
  {
   "cell_type": "code",
   "execution_count": 7,
   "metadata": {},
   "outputs": [
    {
     "data": {
      "image/png": "[encoded data removed]",
      "text/plain": [
       "<Figure size 800x600 with 1 Axes>"
      ]
     },
     "metadata": {},
     "output_type": "display_data"
    },
    {
     "data": {
      "image/png": "[encoded data removed]",
      "text/plain": [
       "<Figure size 800x600 with 1 Axes>"
      ]
     },
     "metadata": {},
     "output_type": "display_data"
    },
    {
     "data": {
      "image/png": "[encoded data removed]",
      "text/plain": [
       "<Figure size 800x600 with 2 Axes>"
      ]
     },
     "metadata": {},
     "output_type": "display_data"
    }
   ],
   "source": [
    "# Plot the distribution of FDA_APPROVED\n",
    "plt.figure(figsize=(8, 6))\n",
    "clintox['FDA_APPROVED'].value_counts().plot(kind='bar')\n",
    "plt.title('Distribution of FDA_APPROVED')\n",
    "plt.xlabel('FDA_APPROVED')\n",
    "plt.ylabel('Count')\n",
    "plt.xticks([0, 1], ['Approved', 'Not Approved'])\n",
    "plt.show()\n",
    "\n",
    "# Plot the distribution of CT_TOX\n",
    "plt.figure(figsize=(8, 6))\n",
    "clintox['CT_TOX'].value_counts().plot(kind='bar')\n",
    "plt.title('Distribution of CT_TOX')\n",
    "plt.xlabel('CT_TOX')\n",
    "plt.ylabel('Count')\n",
    "plt.xticks([0, 1], ['Not Toxic', 'Toxic'])\n",
    "plt.show()\n",
    "\n",
    "# Plot the correlation matrix\n",
    "plt.figure(figsize=(8, 6))\n",
    "correlation_matrix = clintox[['FDA_APPROVED', 'CT_TOX']].corr()\n",
    "plt.imshow(correlation_matrix, cmap='coolwarm', vmin=-1, vmax=1, aspect='auto')\n",
    "plt.colorbar()\n",
    "plt.xticks([0, 1], ['FDA_APPROVED', 'CT_TOX'])\n",
    "plt.yticks([0, 1], ['FDA_APPROVED', 'CT_TOX'])\n",
    "plt.title('Correlation Matrix')\n",
    "plt.show()"
   ]
  },
  {
   "attachments": {},
   "cell_type": "markdown",
   "metadata": {},
   "source": [
    "From the distributions of CT_TOX we can see that the dataset is unbalanced, as there are way more non toxic drugs than toxic drugs in it. The same for FDA_APPROVED, we have way more FDA approved drugs than non-FDA-approved drugs in the dataset.\n",
    "\n",
    "It seems there is a net inverse correlation between FDA_APPROVED and CT_TOX. IT makes sense that FDA approved drugs are not toxic."
   ]
  },
  {
   "cell_type": "code",
   "execution_count": null,
   "metadata": {},
   "outputs": [],
   "source": []
  },
  {
   "attachments": {},
   "cell_type": "markdown",
   "metadata": {},
   "source": [
    "#### Tox21 dataset"
   ]
  },
  {
   "cell_type": "code",
   "execution_count": 8,
   "metadata": {},
   "outputs": [
    {
     "data": {
      "image/png": "[encoded data removed]",
      "text/plain": [
       "<Figure size 1200x1000 with 12 Axes>"
      ]
     },
     "metadata": {},
     "output_type": "display_data"
    },
    {
     "data": {
      "image/png": "[encoded data removed]",
      "text/plain": [
       "<Figure size 1000x800 with 2 Axes>"
      ]
     },
     "metadata": {},
     "output_type": "display_data"
    }
   ],
   "source": [
    "# Plot the distribution of each target column\n",
    "plt.figure(figsize=(12, 10))\n",
    "target_columns = tox21.columns[:-2]  # Exclude 'mol_id' and 'smiles' columns\n",
    "for i, col in enumerate(target_columns):\n",
    "    plt.subplot(4, 4, i+1)\n",
    "    tox21[col].value_counts().plot(kind='bar')\n",
    "    plt.title(f'Distribution of {col}')\n",
    "    plt.xlabel(col)\n",
    "    plt.ylabel('Count')\n",
    "plt.tight_layout()\n",
    "plt.show()\n",
    "\n",
    "# Plot the correlation matrix\n",
    "plt.figure(figsize=(10, 8))\n",
    "correlation_matrix = tox21.iloc[:, :-2].corr()\n",
    "plt.imshow(correlation_matrix, cmap='coolwarm', vmin=-1, vmax=1, aspect='auto')\n",
    "plt.colorbar()\n",
    "plt.xticks(range(len(target_columns)), target_columns, rotation=90)\n",
    "plt.yticks(range(len(target_columns)), target_columns)\n",
    "plt.title('Correlation Matrix')\n",
    "plt.tight_layout()\n",
    "plt.show()"
   ]
  },
  {
   "attachments": {},
   "cell_type": "markdown",
   "metadata": {},
   "source": [
    "All the features in Tox21 are metrics of toxicity of drugs. They follow the same distribution of CT_TOX seen in Clintox dataset.\n",
    "Also in this case thus we have way more non-toxic drugs than toxic drugs in the dataset.\n",
    "\n",
    "From the correlation matrix we can see that there is a small positive correlation between most of the toxicity metrics, but just 2 couples of 2 features have a quite high correlation coefficient between them. These are NR-AR with NR-AR-LBD, and NR-ER with NR-ER-LBD.\n",
    "After having searched a bit of information on these features, we found that they are all nuclear receptor signaling bioassays results, and the couples of features have very similar meaning, so the correlation is of course there."
   ]
  },
  {
   "cell_type": "code",
   "execution_count": null,
   "metadata": {},
   "outputs": [],
   "source": []
  },
  {
   "attachments": {},
   "cell_type": "markdown",
   "metadata": {},
   "source": [
    "## Data Pre-Processing"
   ]
  },
  {
   "attachments": {},
   "cell_type": "markdown",
   "metadata": {},
   "source": [
    "### Process data"
   ]
  },
  {
   "cell_type": "code",
   "execution_count": 9,
   "metadata": {},
   "outputs": [],
   "source": [
    "# Remove non valid rows (SMILES that cannot be converted to Canonical SMILES)\n",
    "def remove_non_valid_rows(df: pd.DataFrame) -> pd.DataFrame:\n",
    "    mol_list = []\n",
    "    valid_rows = []\n",
    "    for i, row in df.iterrows():\n",
    "        mol = Chem.MolFromSmiles(row['smiles'])\n",
    "        if mol is not None:\n",
    "            mol_list.append(mol)\n",
    "            valid_rows.append(row)\n",
    "\n",
    "    df = pd.DataFrame(valid_rows)\n",
    "    return df"
   ]
  },
  {
   "attachments": {},
   "cell_type": "markdown",
   "metadata": {},
   "source": [
    "#### Clintox dataset"
   ]
  },
  {
   "cell_type": "code",
   "execution_count": 10,
   "metadata": {},
   "outputs": [
    {
     "name": "stdout",
     "output_type": "stream",
     "text": [
      "Clintox dataset dimensions with duplicates: (1491, 3)\n",
      "Clintox dataset dimensions without duplicates: (1484, 3)\n"
     ]
    },
    {
     "name": "stderr",
     "output_type": "stream",
     "text": [
      "[12:51:03] Explicit valence for atom # 0 N, 5, is greater than permitted\n",
      "[12:51:03] Can't kekulize mol.  Unkekulized atoms: 9\n",
      "[12:51:04] Explicit valence for atom # 10 N, 4, is greater than permitted\n",
      "[12:51:04] Explicit valence for atom # 10 N, 4, is greater than permitted\n",
      "[12:51:04] Can't kekulize mol.  Unkekulized atoms: 4\n",
      "[12:51:04] Can't kekulize mol.  Unkekulized atoms: 4\n"
     ]
    },
    {
     "name": "stdout",
     "output_type": "stream",
     "text": [
      "Clintox dataset dimensions without non valid rows: (1478, 3)\n"
     ]
    },
    {
     "data": {
      "text/html": [
       "<div>\n",
       "<style scoped>\n",
       "    .dataframe tbody tr th:only-of-type {\n",
       "        vertical-align: middle;\n",
       "    }\n",
       "\n",
       "    .dataframe tbody tr th {\n",
       "        vertical-align: top;\n",
       "    }\n",
       "\n",
       "    .dataframe thead th {\n",
       "        text-align: right;\n",
       "    }\n",
       "</style>\n",
       "<table border=\"1\" class=\"dataframe\">\n",
       "  <thead>\n",
       "    <tr style=\"text-align: right;\">\n",
       "      <th></th>\n",
       "      <th>smiles</th>\n",
       "      <th>FDA_APPROVED</th>\n",
       "      <th>CT_TOX</th>\n",
       "    </tr>\n",
       "  </thead>\n",
       "  <tbody>\n",
       "    <tr>\n",
       "      <th>0</th>\n",
       "      <td>*C(=O)[C@H](CCCCNC(=O)OCCOC)NC(=O)OCCOC</td>\n",
       "      <td>1</td>\n",
       "      <td>0</td>\n",
       "    </tr>\n",
       "    <tr>\n",
       "      <th>1</th>\n",
       "      <td>[C@@H]1([C@@H]([C@@H]([C@H]([C@@H]([C@@H]1Cl)C...</td>\n",
       "      <td>1</td>\n",
       "      <td>0</td>\n",
       "    </tr>\n",
       "    <tr>\n",
       "      <th>2</th>\n",
       "      <td>[C@H]([C@@H]([C@@H](C(=O)[O-])O)O)([C@H](C(=O)...</td>\n",
       "      <td>1</td>\n",
       "      <td>0</td>\n",
       "    </tr>\n",
       "  </tbody>\n",
       "</table>\n",
       "</div>"
      ],
      "text/plain": [
       "                                              smiles  FDA_APPROVED  CT_TOX\n",
       "0            *C(=O)[C@H](CCCCNC(=O)OCCOC)NC(=O)OCCOC             1       0\n",
       "1  [C@@H]1([C@@H]([C@@H]([C@H]([C@@H]([C@@H]1Cl)C...             1       0\n",
       "2  [C@H]([C@@H]([C@@H](C(=O)[O-])O)O)([C@H](C(=O)...             1       0"
      ]
     },
     "execution_count": 10,
     "metadata": {},
     "output_type": "execute_result"
    }
   ],
   "source": [
    "# Clean the database, check for redundancy and remove duplicates\n",
    "\n",
    "# Remove duplicated rows\n",
    "print('Clintox dataset dimensions with duplicates:', clintox.shape)\n",
    "clintox.drop_duplicates(inplace=True) # Drop duplicated rows\n",
    "print('Clintox dataset dimensions without duplicates:', clintox.shape)\n",
    "\n",
    "# Remove non valid rows (SMILES that cannot be converted to Canonical SMILES, null SMILES, duplicated SMILES)\n",
    "clintox = remove_non_valid_rows(clintox) # remove rows with non valid SMILES\n",
    "clintox.drop_duplicates(subset = ['smiles'], inplace=True) # Remove duplicated canonical SMILES\n",
    "clintox.dropna(subset=['smiles'], inplace=True) # Remove null SMILES\n",
    "print('Clintox dataset dimensions without non valid rows:', clintox.shape)\n",
    "clintox.head(3)"
   ]
  },
  {
   "cell_type": "code",
   "execution_count": 11,
   "metadata": {},
   "outputs": [
    {
     "data": {
      "text/plain": [
       "smiles          0\n",
       "FDA_APPROVED    0\n",
       "CT_TOX          0\n",
       "dtype: int64"
      ]
     },
     "execution_count": 11,
     "metadata": {},
     "output_type": "execute_result"
    }
   ],
   "source": [
    "# Check for null values\n",
    "clintox.isna().sum()"
   ]
  },
  {
   "attachments": {},
   "cell_type": "markdown",
   "metadata": {},
   "source": [
    "#### Tox21 dataset"
   ]
  },
  {
   "cell_type": "code",
   "execution_count": 12,
   "metadata": {},
   "outputs": [
    {
     "name": "stdout",
     "output_type": "stream",
     "text": [
      "Tox21 dataset dimensions with duplicates: (8014, 14)\n",
      "Tox21 dataset dimensions without duplicates: (8014, 14)\n"
     ]
    },
    {
     "name": "stderr",
     "output_type": "stream",
     "text": [
      "[12:51:04] WARNING: not removing hydrogen atom without neighbors\n"
     ]
    },
    {
     "name": "stdout",
     "output_type": "stream",
     "text": [
      "Tox21 dataset dimensions without non valid rows: (7831, 14)\n"
     ]
    },
    {
     "data": {
      "text/html": [
       "<div>\n",
       "<style scoped>\n",
       "    .dataframe tbody tr th:only-of-type {\n",
       "        vertical-align: middle;\n",
       "    }\n",
       "\n",
       "    .dataframe tbody tr th {\n",
       "        vertical-align: top;\n",
       "    }\n",
       "\n",
       "    .dataframe thead th {\n",
       "        text-align: right;\n",
       "    }\n",
       "</style>\n",
       "<table border=\"1\" class=\"dataframe\">\n",
       "  <thead>\n",
       "    <tr style=\"text-align: right;\">\n",
       "      <th></th>\n",
       "      <th>NR-AR</th>\n",
       "      <th>NR-AR-LBD</th>\n",
       "      <th>NR-AhR</th>\n",
       "      <th>NR-Aromatase</th>\n",
       "      <th>NR-ER</th>\n",
       "      <th>NR-ER-LBD</th>\n",
       "      <th>NR-PPAR-gamma</th>\n",
       "      <th>SR-ARE</th>\n",
       "      <th>SR-ATAD5</th>\n",
       "      <th>SR-HSE</th>\n",
       "      <th>SR-MMP</th>\n",
       "      <th>SR-p53</th>\n",
       "      <th>mol_id</th>\n",
       "      <th>smiles</th>\n",
       "    </tr>\n",
       "  </thead>\n",
       "  <tbody>\n",
       "    <tr>\n",
       "      <th>0</th>\n",
       "      <td>0.0</td>\n",
       "      <td>0.0</td>\n",
       "      <td>1.0</td>\n",
       "      <td>NaN</td>\n",
       "      <td>NaN</td>\n",
       "      <td>0.0</td>\n",
       "      <td>0.0</td>\n",
       "      <td>1.0</td>\n",
       "      <td>0.0</td>\n",
       "      <td>0.0</td>\n",
       "      <td>0.0</td>\n",
       "      <td>0.0</td>\n",
       "      <td>TOX3021</td>\n",
       "      <td>CCOc1ccc2nc(S(N)(=O)=O)sc2c1</td>\n",
       "    </tr>\n",
       "    <tr>\n",
       "      <th>1</th>\n",
       "      <td>0.0</td>\n",
       "      <td>0.0</td>\n",
       "      <td>0.0</td>\n",
       "      <td>0.0</td>\n",
       "      <td>0.0</td>\n",
       "      <td>0.0</td>\n",
       "      <td>0.0</td>\n",
       "      <td>NaN</td>\n",
       "      <td>0.0</td>\n",
       "      <td>NaN</td>\n",
       "      <td>0.0</td>\n",
       "      <td>0.0</td>\n",
       "      <td>TOX3020</td>\n",
       "      <td>CCN1C(=O)NC(c2ccccc2)C1=O</td>\n",
       "    </tr>\n",
       "    <tr>\n",
       "      <th>2</th>\n",
       "      <td>NaN</td>\n",
       "      <td>NaN</td>\n",
       "      <td>NaN</td>\n",
       "      <td>NaN</td>\n",
       "      <td>NaN</td>\n",
       "      <td>NaN</td>\n",
       "      <td>NaN</td>\n",
       "      <td>0.0</td>\n",
       "      <td>NaN</td>\n",
       "      <td>0.0</td>\n",
       "      <td>NaN</td>\n",
       "      <td>NaN</td>\n",
       "      <td>TOX3024</td>\n",
       "      <td>CC[C@]1(O)CC[C@H]2[C@@H]3CCC4=CCCC[C@@H]4[C@H]...</td>\n",
       "    </tr>\n",
       "  </tbody>\n",
       "</table>\n",
       "</div>"
      ],
      "text/plain": [
       "   NR-AR  NR-AR-LBD  NR-AhR  NR-Aromatase  NR-ER  NR-ER-LBD  NR-PPAR-gamma   \n",
       "0    0.0        0.0     1.0           NaN    NaN        0.0            0.0  \\\n",
       "1    0.0        0.0     0.0           0.0    0.0        0.0            0.0   \n",
       "2    NaN        NaN     NaN           NaN    NaN        NaN            NaN   \n",
       "\n",
       "   SR-ARE  SR-ATAD5  SR-HSE  SR-MMP  SR-p53   mol_id   \n",
       "0     1.0       0.0     0.0     0.0     0.0  TOX3021  \\\n",
       "1     NaN       0.0     NaN     0.0     0.0  TOX3020   \n",
       "2     0.0       NaN     0.0     NaN     NaN  TOX3024   \n",
       "\n",
       "                                              smiles  \n",
       "0                       CCOc1ccc2nc(S(N)(=O)=O)sc2c1  \n",
       "1                          CCN1C(=O)NC(c2ccccc2)C1=O  \n",
       "2  CC[C@]1(O)CC[C@H]2[C@@H]3CCC4=CCCC[C@@H]4[C@H]...  "
      ]
     },
     "execution_count": 12,
     "metadata": {},
     "output_type": "execute_result"
    }
   ],
   "source": [
    "# Clean the database, check for redundancy and remove duplicates\n",
    "\n",
    "# Remove duplicated rows\n",
    "print('Tox21 dataset dimensions with duplicates:', tox21.shape)\n",
    "tox21.drop_duplicates(inplace=True) # Drop duplicated rows\n",
    "print('Tox21 dataset dimensions without duplicates:', tox21.shape)\n",
    "\n",
    "# Remove non valid rows (SMILES that cannot be converted to Canonical SMILES, null SMILES, duplicated SMILES)\n",
    "tox21 = remove_non_valid_rows(tox21) # remove rows with non valid SMILES\n",
    "tox21.drop_duplicates(subset = ['smiles'], inplace=True) # Remove duplicated canonical SMILES\n",
    "tox21.dropna(subset=['smiles'], inplace=True) # Remove null SMILES\n",
    "print('Tox21 dataset dimensions without non valid rows:', tox21.shape)\n",
    "tox21.head(3)"
   ]
  },
  {
   "cell_type": "code",
   "execution_count": 13,
   "metadata": {},
   "outputs": [
    {
     "data": {
      "text/plain": [
       "NR-AR             569\n",
       "NR-AR-LBD        1083\n",
       "NR-AhR           1299\n",
       "NR-Aromatase     2030\n",
       "NR-ER            1651\n",
       "NR-ER-LBD         886\n",
       "NR-PPAR-gamma    1395\n",
       "SR-ARE           2026\n",
       "SR-ATAD5          763\n",
       "SR-HSE           1381\n",
       "SR-MMP           2041\n",
       "SR-p53           1072\n",
       "mol_id              0\n",
       "smiles              0\n",
       "dtype: int64"
      ]
     },
     "execution_count": 13,
     "metadata": {},
     "output_type": "execute_result"
    }
   ],
   "source": [
    "# Check for null values\n",
    "tox21.isna().sum()"
   ]
  },
  {
   "cell_type": "code",
   "execution_count": 14,
   "metadata": {},
   "outputs": [],
   "source": [
    "# Check what to do with all these null values\n",
    "# We have already removed all the rows with null SMILES"
   ]
  },
  {
   "cell_type": "code",
   "execution_count": 15,
   "metadata": {},
   "outputs": [],
   "source": [
    "# replace NA with -1 -- used to deal with missing labels, along with Binary Cross-Entropy loss\n",
    "tox21 = tox21.fillna(-1)"
   ]
  },
  {
   "cell_type": "code",
   "execution_count": 16,
   "metadata": {},
   "outputs": [
    {
     "data": {
      "text/plain": [
       "NR-AR            0\n",
       "NR-AR-LBD        0\n",
       "NR-AhR           0\n",
       "NR-Aromatase     0\n",
       "NR-ER            0\n",
       "NR-ER-LBD        0\n",
       "NR-PPAR-gamma    0\n",
       "SR-ARE           0\n",
       "SR-ATAD5         0\n",
       "SR-HSE           0\n",
       "SR-MMP           0\n",
       "SR-p53           0\n",
       "mol_id           0\n",
       "smiles           0\n",
       "dtype: int64"
      ]
     },
     "execution_count": 16,
     "metadata": {},
     "output_type": "execute_result"
    }
   ],
   "source": [
    "# Check for null values\n",
    "tox21.isna().sum()"
   ]
  },
  {
   "attachments": {},
   "cell_type": "markdown",
   "metadata": {},
   "source": [
    "### Train-test split\n",
    "In the reference papers the split of data is provided, so we'll use their same splits in order to be able to compare our results with the state-of-the-art performances."
   ]
  },
  {
   "attachments": {},
   "cell_type": "markdown",
   "metadata": {},
   "source": [
    "#### Clintox Dataset"
   ]
  },
  {
   "cell_type": "code",
   "execution_count": 17,
   "metadata": {},
   "outputs": [],
   "source": [
    "### Method borrowed from MoleculeNet for random splits of 0.8 / 0.1 / 0.1, train / test / valid \n",
    "# Returns index of random train, test, valid datasets in array of [train,test,valid]\n",
    "def split(dataset,\n",
    "            seed=None,\n",
    "            frac_train=.8,\n",
    "            frac_valid=.1,\n",
    "            frac_test=.1,\n",
    "            log_every_n=None):\n",
    "    \"\"\"\n",
    "    Splits internal compounds randomly into train/validation/test.\n",
    "    \"\"\"\n",
    "    np.testing.assert_almost_equal(frac_train + frac_valid + frac_test, 1.)\n",
    "    if not seed is None:\n",
    "        np.random.seed(seed)\n",
    "    num_datapoints = len(dataset)\n",
    "    train_cutoff = int(frac_train * num_datapoints)\n",
    "    valid_cutoff = int((frac_train + frac_valid) * num_datapoints)\n",
    "    shuffled = np.random.permutation(range(num_datapoints))\n",
    "    return (shuffled[:train_cutoff], shuffled[train_cutoff:valid_cutoff],\n",
    "            shuffled[valid_cutoff:])"
   ]
  },
  {
   "cell_type": "code",
   "execution_count": 18,
   "metadata": {},
   "outputs": [],
   "source": [
    "# Split the Clintox dataset into train-test-validation sets with ratios 0.8/0.1/0.1\n",
    "train_indices, test_indices, valid_indices = split(clintox, frac_train=0.8, frac_valid=0.1, frac_test=0.1)  # Use random seed from MoleculeNet\n",
    "\n",
    "clintox_train = clintox.iloc[train_indices]\n",
    "clintox_test = clintox.iloc[test_indices]\n",
    "clintox_val = clintox.iloc[valid_indices]\n",
    "\n",
    "clintox_data = [clintox_train, clintox_test, clintox_val]\n"
   ]
  },
  {
   "cell_type": "code",
   "execution_count": 19,
   "metadata": {},
   "outputs": [
    {
     "name": "stdout",
     "output_type": "stream",
     "text": [
      "Total number of samples, train: 1182\n",
      "Total number of samples, test: 148\n",
      "Total number of samples, valid: 148\n",
      "Total number of samples, train+test+valid: 1478\n"
     ]
    }
   ],
   "source": [
    "# Check the number of samples in each set\n",
    "print(\"Total number of samples, train: \" + str(clintox_data[0].shape[0]))\n",
    "print(\"Total number of samples, test: \" + str(clintox_data[1].shape[0]))\n",
    "print(\"Total number of samples, valid: \" + str(clintox_data[2].shape[0]))\n",
    "print(\"Total number of samples, train+test+valid: \" + str(clintox_data[0].shape[0] + \n",
    "                                                           clintox_data[1].shape[0] + \n",
    "                                                           clintox_data[2].shape[0]))"
   ]
  },
  {
   "cell_type": "code",
   "execution_count": null,
   "metadata": {},
   "outputs": [],
   "source": []
  },
  {
   "attachments": {},
   "cell_type": "markdown",
   "metadata": {},
   "source": [
    "#### Tox21 Dataset"
   ]
  },
  {
   "cell_type": "code",
   "execution_count": 20,
   "metadata": {},
   "outputs": [],
   "source": [
    "# Split the Tox21 dataset into train-test-validation sets with ratios 0.8/0.1/0.1\n",
    "train_indices, test_indices, valid_indices = split(tox21, frac_train=0.8, frac_valid=0.1, frac_test=0.1)  # Use random seed from MoleculeNet\n",
    "\n",
    "tox21_train = tox21.iloc[train_indices]\n",
    "tox21_test = tox21.iloc[test_indices]\n",
    "tox21_val = tox21.iloc[valid_indices]\n",
    "\n",
    "tox21_data = [tox21_train, tox21_test, tox21_val]"
   ]
  },
  {
   "cell_type": "code",
   "execution_count": 21,
   "metadata": {},
   "outputs": [
    {
     "name": "stdout",
     "output_type": "stream",
     "text": [
      "Total number of samples, train: 6264\n",
      "Total number of samples, test: 783\n",
      "Total number of samples, valid: 784\n",
      "Total number of samples, train+test+valid: 7831\n"
     ]
    }
   ],
   "source": [
    "# Check the number of samples in each set\n",
    "print(\"Total number of samples, train: \" + str(tox21_data[0].shape[0]))\n",
    "print(\"Total number of samples, test: \" + str(tox21_data[1].shape[0]))\n",
    "print(\"Total number of samples, valid: \" + str(tox21_data[2].shape[0]))\n",
    "print(\"Total number of samples, train+test+valid: \" + str(tox21_data[0].shape[0] + \n",
    "                                                           tox21_data[1].shape[0] + \n",
    "                                                           tox21_data[2].shape[0]))"
   ]
  },
  {
   "attachments": {},
   "cell_type": "markdown",
   "metadata": {},
   "source": [
    "## Modelling"
   ]
  },
  {
   "cell_type": "code",
   "execution_count": null,
   "metadata": {},
   "outputs": [],
   "source": []
  },
  {
   "attachments": {},
   "cell_type": "markdown",
   "metadata": {},
   "source": [
    "### Using Clintox data"
   ]
  },
  {
   "attachments": {},
   "cell_type": "markdown",
   "metadata": {},
   "source": [
    "Construct Morgan fingerprints"
   ]
  },
  {
   "cell_type": "code",
   "execution_count": 22,
   "metadata": {},
   "outputs": [
    {
     "data": {
      "text/html": [
       "<div>\n",
       "<style scoped>\n",
       "    .dataframe tbody tr th:only-of-type {\n",
       "        vertical-align: middle;\n",
       "    }\n",
       "\n",
       "    .dataframe tbody tr th {\n",
       "        vertical-align: top;\n",
       "    }\n",
       "\n",
       "    .dataframe thead th {\n",
       "        text-align: right;\n",
       "    }\n",
       "</style>\n",
       "<table border=\"1\" class=\"dataframe\">\n",
       "  <thead>\n",
       "    <tr style=\"text-align: right;\">\n",
       "      <th></th>\n",
       "      <th>smiles</th>\n",
       "      <th>FDA_APPROVED</th>\n",
       "      <th>CT_TOX</th>\n",
       "    </tr>\n",
       "  </thead>\n",
       "  <tbody>\n",
       "    <tr>\n",
       "      <th>755</th>\n",
       "      <td>CC(C)CN(C[C@H]([C@H](Cc1ccccc1)NC(=O)O[C@H]2CC...</td>\n",
       "      <td>1</td>\n",
       "      <td>0</td>\n",
       "    </tr>\n",
       "    <tr>\n",
       "      <th>96</th>\n",
       "      <td>C1[C@H](C(=O)NO1)[NH3+]</td>\n",
       "      <td>1</td>\n",
       "      <td>0</td>\n",
       "    </tr>\n",
       "    <tr>\n",
       "      <th>671</th>\n",
       "      <td>CC(C)(C#N)C1=CC=C(C=C1)N2C3=C4C=C(C=CC4=NC=C3N...</td>\n",
       "      <td>0</td>\n",
       "      <td>1</td>\n",
       "    </tr>\n",
       "  </tbody>\n",
       "</table>\n",
       "</div>"
      ],
      "text/plain": [
       "                                                smiles  FDA_APPROVED  CT_TOX\n",
       "755  CC(C)CN(C[C@H]([C@H](Cc1ccccc1)NC(=O)O[C@H]2CC...             1       0\n",
       "96                             C1[C@H](C(=O)NO1)[NH3+]             1       0\n",
       "671  CC(C)(C#N)C1=CC=C(C=C1)N2C3=C4C=C(C=CC4=NC=C3N...             0       1"
      ]
     },
     "execution_count": 22,
     "metadata": {},
     "output_type": "execute_result"
    }
   ],
   "source": [
    "clintox_data[0].head(3)"
   ]
  },
  {
   "cell_type": "code",
   "execution_count": 23,
   "metadata": {},
   "outputs": [],
   "source": [
    "# construct morgan fingerprints \n",
    "for i in range(len(clintox_data)):\n",
    "    clintox_data[i]['mol'] = [rd.Chem.MolFromSmiles(x) for x in clintox_data[i]['smiles']]\n",
    "\n",
    "    bi = [{} for _ in range(len(clintox_data[i]))]\n",
    "    clintox_data[i]['morgan'] = [AllChem.GetMorganFingerprintAsBitVect(clintox_data[i].iloc[j]['mol'], MORGAN_RADIUS, nBits = MORGAN_BITS, bitInfo=bi[j]) \n",
    "                         for j in range(len(clintox_data[i]))]\n",
    "    clintox_data[i]['bitInfo'] = bi"
   ]
  },
  {
   "cell_type": "code",
   "execution_count": 24,
   "metadata": {},
   "outputs": [
    {
     "data": {
      "text/html": [
       "<div>\n",
       "<style scoped>\n",
       "    .dataframe tbody tr th:only-of-type {\n",
       "        vertical-align: middle;\n",
       "    }\n",
       "\n",
       "    .dataframe tbody tr th {\n",
       "        vertical-align: top;\n",
       "    }\n",
       "\n",
       "    .dataframe thead th {\n",
       "        text-align: right;\n",
       "    }\n",
       "</style>\n",
       "<table border=\"1\" class=\"dataframe\">\n",
       "  <thead>\n",
       "    <tr style=\"text-align: right;\">\n",
       "      <th></th>\n",
       "      <th>smiles</th>\n",
       "      <th>FDA_APPROVED</th>\n",
       "      <th>CT_TOX</th>\n",
       "      <th>mol</th>\n",
       "      <th>morgan</th>\n",
       "      <th>bitInfo</th>\n",
       "    </tr>\n",
       "  </thead>\n",
       "  <tbody>\n",
       "    <tr>\n",
       "      <th>755</th>\n",
       "      <td>CC(C)CN(C[C@H]([C@H](Cc1ccccc1)NC(=O)O[C@H]2CC...</td>\n",
       "      <td>1</td>\n",
       "      <td>0</td>\n",
       "      <td>&lt;rdkit.Chem.rdchem.Mol object at 0x0000025E8C3...</td>\n",
       "      <td>[0, 0, 0, 0, 0, 0, 0, 0, 0, 0, 0, 0, 0, 0, 0, ...</td>\n",
       "      <td>{32: ((18, 2),), 117: ((15, 1),), 119: ((19, 1...</td>\n",
       "    </tr>\n",
       "    <tr>\n",
       "      <th>96</th>\n",
       "      <td>C1[C@H](C(=O)NO1)[NH3+]</td>\n",
       "      <td>1</td>\n",
       "      <td>0</td>\n",
       "      <td>&lt;rdkit.Chem.rdchem.Mol object at 0x0000025E8C3...</td>\n",
       "      <td>[0, 0, 0, 0, 0, 0, 0, 0, 0, 0, 0, 0, 0, 0, 0, ...</td>\n",
       "      <td>{656: ((5, 0),), 1124: ((6, 1),), 1380: ((2, 0...</td>\n",
       "    </tr>\n",
       "    <tr>\n",
       "      <th>671</th>\n",
       "      <td>CC(C)(C#N)C1=CC=C(C=C1)N2C3=C4C=C(C=CC4=NC=C3N...</td>\n",
       "      <td>0</td>\n",
       "      <td>1</td>\n",
       "      <td>&lt;rdkit.Chem.rdchem.Mol object at 0x0000025E8C3...</td>\n",
       "      <td>[0, 0, 0, 0, 0, 0, 0, 0, 0, 0, 0, 0, 0, 0, 0, ...</td>\n",
       "      <td>{45: ((21, 1),), 58: ((8, 2),), 204: ((27, 2),...</td>\n",
       "    </tr>\n",
       "  </tbody>\n",
       "</table>\n",
       "</div>"
      ],
      "text/plain": [
       "                                                smiles  FDA_APPROVED  CT_TOX   \n",
       "755  CC(C)CN(C[C@H]([C@H](Cc1ccccc1)NC(=O)O[C@H]2CC...             1       0  \\\n",
       "96                             C1[C@H](C(=O)NO1)[NH3+]             1       0   \n",
       "671  CC(C)(C#N)C1=CC=C(C=C1)N2C3=C4C=C(C=CC4=NC=C3N...             0       1   \n",
       "\n",
       "                                                   mol   \n",
       "755  <rdkit.Chem.rdchem.Mol object at 0x0000025E8C3...  \\\n",
       "96   <rdkit.Chem.rdchem.Mol object at 0x0000025E8C3...   \n",
       "671  <rdkit.Chem.rdchem.Mol object at 0x0000025E8C3...   \n",
       "\n",
       "                                                morgan   \n",
       "755  [0, 0, 0, 0, 0, 0, 0, 0, 0, 0, 0, 0, 0, 0, 0, ...  \\\n",
       "96   [0, 0, 0, 0, 0, 0, 0, 0, 0, 0, 0, 0, 0, 0, 0, ...   \n",
       "671  [0, 0, 0, 0, 0, 0, 0, 0, 0, 0, 0, 0, 0, 0, 0, ...   \n",
       "\n",
       "                                               bitInfo  \n",
       "755  {32: ((18, 2),), 117: ((15, 1),), 119: ((19, 1...  \n",
       "96   {656: ((5, 0),), 1124: ((6, 1),), 1380: ((2, 0...  \n",
       "671  {45: ((21, 1),), 58: ((8, 2),), 204: ((27, 2),...  "
      ]
     },
     "execution_count": 24,
     "metadata": {},
     "output_type": "execute_result"
    }
   ],
   "source": [
    "clintox_data[0].head(3)"
   ]
  },
  {
   "cell_type": "code",
   "execution_count": 25,
   "metadata": {},
   "outputs": [],
   "source": [
    "train_data = clintox_data[0]\n",
    "test_data  = clintox_data[1]\n",
    "valid_data = clintox_data[2]"
   ]
  },
  {
   "attachments": {},
   "cell_type": "markdown",
   "metadata": {},
   "source": [
    "Arrays for train / test / valid sets used for DNN "
   ]
  },
  {
   "cell_type": "code",
   "execution_count": 26,
   "metadata": {},
   "outputs": [],
   "source": [
    "\n",
    "# convert the RDKit explicit vectors into numpy arrays\n",
    "x_train = []\n",
    "for fp in train_data['morgan']:\n",
    "    arr = np.zeros((1,))\n",
    "    DataStructs.ConvertToNumpyArray(fp, arr)\n",
    "    x_train.append(arr)\n",
    "x_train = np.array(x_train)\n",
    "x_train = x_train - 0.5\n",
    "\n",
    "y_train = train_data[clintox_task].values\n",
    "\n",
    "\n",
    "# convert the RDKit explicit vectors into numpy arrays\n",
    "x_test = []\n",
    "for fp in test_data['morgan']:\n",
    "    arr = np.zeros((1,))\n",
    "    DataStructs.ConvertToNumpyArray(fp, arr)\n",
    "    x_test.append(arr)\n",
    "x_test = np.array(x_test)\n",
    "x_test = x_test - 0.5\n",
    "\n",
    "y_test = test_data[clintox_task].values\n",
    "\n",
    "\n",
    "# convert the RDKit explicit vectors into numpy arrays\n",
    "x_valid = []\n",
    "for fp in valid_data['morgan']:\n",
    "    arr = np.zeros((1,))\n",
    "    DataStructs.ConvertToNumpyArray(fp, arr)\n",
    "    x_valid.append(arr)\n",
    "x_valid = np.array(x_valid)\n",
    "x_valid = x_valid - 0.5\n",
    "\n",
    "y_valid = valid_data[clintox_task].values"
   ]
  },
  {
   "cell_type": "code",
   "execution_count": 27,
   "metadata": {},
   "outputs": [],
   "source": [
    "# count the number of data points per class\n",
    "N_train = np.sum(y_train >= 0, 0)\n",
    "N_test  = np.sum(y_test >= 0, 0)\n",
    "N_valid  = np.sum(y_valid >= 0, 0)"
   ]
  },
  {
   "attachments": {},
   "cell_type": "markdown",
   "metadata": {},
   "source": [
    "Deep Neural Network"
   ]
  },
  {
   "cell_type": "code",
   "execution_count": 28,
   "metadata": {},
   "outputs": [],
   "source": [
    "# Parameters for the model \n",
    "train_epoch = 50 \n",
    "batch = 512 "
   ]
  },
  {
   "cell_type": "code",
   "execution_count": 29,
   "metadata": {},
   "outputs": [],
   "source": [
    "# convert data for pytorch\n",
    "x_train_torch = x_train.astype(np.float32)\n",
    "y_train_torch = y_train.astype(np.float32)\n",
    "\n",
    "x_test_torch = x_test.astype(np.float32)\n",
    "y_test_torch = y_test.astype(np.float32)\n",
    "\n",
    "x_valid_torch = x_valid.astype(np.float32)\n",
    "y_valid_torch = y_valid.astype(np.float32)"
   ]
  },
  {
   "cell_type": "code",
   "execution_count": 30,
   "metadata": {},
   "outputs": [
    {
     "data": {
      "text/plain": [
       "4096"
      ]
     },
     "execution_count": 30,
     "metadata": {},
     "output_type": "execute_result"
    }
   ],
   "source": [
    "input_shape = x_train_torch.shape[1]\n",
    "input_shape"
   ]
  },
  {
   "cell_type": "code",
   "execution_count": 31,
   "metadata": {},
   "outputs": [],
   "source": [
    "# Class for STDNN data\n",
    "class STDNNData(Dataset):\n",
    "\n",
    "    def __init__(self, x, y):\n",
    "        self.x = x\n",
    "        self.y = y\n",
    "\n",
    "    def __len__(self):\n",
    "        return len(self.x)\n",
    "\n",
    "    def __getitem__(self, idx):\n",
    "        return self.x[idx], self.y[idx]"
   ]
  },
  {
   "cell_type": "code",
   "execution_count": 32,
   "metadata": {},
   "outputs": [],
   "source": [
    "training_set = STDNNData(x_train_torch, y_train_torch)\n",
    "training_generator = DataLoader(training_set, batch_size=batch, shuffle=True)\n",
    "\n",
    "testing_set = STDNNData(x_test_torch, y_test_torch)\n",
    "testing_generator = DataLoader(testing_set, batch_size=len(testing_set), shuffle=False)\n",
    "\n",
    "valid_set = STDNNData(x_valid_torch, y_valid_torch)\n",
    "valid_generator = DataLoader(valid_set, batch_size=len(valid_set), shuffle=False)"
   ]
  },
  {
   "cell_type": "code",
   "execution_count": 33,
   "metadata": {},
   "outputs": [],
   "source": [
    "# STDNN Model class\n",
    "# For each task (1 only in ClinTox), creates 2 hidden layers \n",
    "\n",
    "class STDNN(torch.nn.Module):\n",
    "    def __init__(self, input_shape, all_tasks):\n",
    "        super(STDNN, self).__init__()\n",
    "\n",
    "        self.hidden_3 = torch.nn.ModuleList([torch.nn.Linear(input_shape, 1024) for task in all_tasks])\n",
    "        self.batchnorm_3 = torch.nn.ModuleList([torch.nn.BatchNorm1d(1024) for task in all_tasks])\n",
    "       \n",
    "        self.hidden_4 = torch.nn.ModuleList([torch.nn.Linear(1024, 512) for task in all_tasks])\n",
    "        self.batchnorm_4 = torch.nn.ModuleList([torch.nn.BatchNorm1d(512) for task in all_tasks])\n",
    "        \n",
    "        self.output   = torch.nn.ModuleList([torch.nn.Linear(512, 1) for task in all_tasks])\n",
    "        \n",
    "        # function for leaky ReLU\n",
    "        self.leakyReLU = torch.nn.LeakyReLU(0.05)\n",
    "\n",
    "    def forward(self, x):        \n",
    "        x_task = [None for i in range(len(self.output))]  # initialize\n",
    "        for task in range(len(self.output)):\n",
    "            x_task[task] = self.hidden_3[task](x)\n",
    "            x_task[task] = self.batchnorm_3[task](x_task[task])\n",
    "            x_task[task] = self.leakyReLU(x_task[task])\n",
    "            \n",
    "            x_task[task] = self.hidden_4[task](x_task[task])\n",
    "            x_task[task] = self.batchnorm_4[task](x_task[task])\n",
    "            x_task[task] = self.leakyReLU(x_task[task])\n",
    "            \n",
    "            x_task[task] = self.output[task](x_task[task])\n",
    "            x_task[task] = torch.sigmoid(x_task[task])\n",
    "        \n",
    "        y_pred = x_task\n",
    "        \n",
    "        return y_pred\n",
    "    \n",
    "model = STDNN(input_shape, clintox_task).to(device)"
   ]
  },
  {
   "cell_type": "code",
   "execution_count": 34,
   "metadata": {},
   "outputs": [],
   "source": [
    "# Define the loss\n",
    "criterion = torch.nn.BCELoss()\n",
    "\n",
    "# Optimizers require the parameters to optimize and a learning rate\n",
    "optimizer = torch.optim.Adam(model.parameters(), lr = 0.001)"
   ]
  },
  {
   "cell_type": "code",
   "execution_count": 35,
   "metadata": {},
   "outputs": [
    {
     "name": "stdout",
     "output_type": "stream",
     "text": [
      "Epoch: 0 Training Loss: 0.0016221222467720509 Valid Loss: 0.004662106744945049\n",
      "Training Acc: 0.5693739424703892 Valid Acc: 0.7162162162162162\n",
      "Epoch: 1 Training Loss: 0.0008044223359320313 Valid Loss: 0.004439052194356918\n",
      "Training Acc: 0.9094754653130288 Valid Acc: 0.8986486486486487\n",
      "Epoch: 2 Training Loss: 0.0004632657946785912 Valid Loss: 0.002849081763997674\n",
      "Training Acc: 0.9763113367174281 Valid Acc: 0.9054054054054054\n",
      "Epoch: 3 Training Loss: 0.0002634546617628075 Valid Loss: 0.002616934012621641\n",
      "Training Acc: 0.9771573604060914 Valid Acc: 0.8918918918918919\n",
      "Epoch: 4 Training Loss: 0.00019393051479710266 Valid Loss: 0.00343285221606493\n",
      "Training Acc: 0.9847715736040609 Valid Acc: 0.9054054054054054\n",
      "Epoch: 5 Training Loss: 0.0001417616913386155 Valid Loss: 0.006319101434201002\n",
      "Training Acc: 0.9847715736040609 Valid Acc: 0.12162162162162163\n",
      "Epoch: 6 Training Loss: 0.00012231578875798732 Valid Loss: 0.007797684986144304\n",
      "Training Acc: 0.9847715736040609 Valid Acc: 0.10810810810810811\n",
      "Epoch: 7 Training Loss: 0.0001241346326423809 Valid Loss: 0.004659297410398722\n",
      "Training Acc: 0.9864636209813875 Valid Acc: 0.6283783783783784\n",
      "Epoch: 8 Training Loss: 9.708588186185807e-05 Valid Loss: 0.002429989632219076\n",
      "Training Acc: 0.9873096446700508 Valid Acc: 0.9121621621621622\n",
      "Epoch: 9 Training Loss: 9.071515341929626e-05 Valid Loss: 0.0021067385096102953\n",
      "Training Acc: 0.9873096446700508 Valid Acc: 0.8918918918918919\n",
      "Epoch: 10 Training Loss: 8.331130447913893e-05 Valid Loss: 0.002753310604020953\n",
      "Training Acc: 0.9890016920473773 Valid Acc: 0.9054054054054054\n",
      "Epoch: 11 Training Loss: 7.600663593620993e-05 Valid Loss: 0.006674276199191809\n",
      "Training Acc: 0.9890016920473773 Valid Acc: 0.40540540540540543\n",
      "Epoch: 12 Training Loss: 9.192980724037625e-05 Valid Loss: 0.011342979967594147\n",
      "Training Acc: 0.9864636209813875 Valid Acc: 0.1554054054054054\n",
      "Epoch: 13 Training Loss: 6.583114554814529e-05 Valid Loss: 0.0058776312507689\n",
      "Training Acc: 0.9906937394247038 Valid Acc: 0.581081081081081\n",
      "Epoch: 14 Training Loss: 6.725243292748928e-05 Valid Loss: 0.0027790700551122427\n",
      "Training Acc: 0.9890016920473773 Valid Acc: 0.8648648648648649\n",
      "Epoch: 15 Training Loss: 7.43099590181373e-05 Valid Loss: 0.0025057538878172636\n",
      "Training Acc: 0.9890016920473773 Valid Acc: 0.9054054054054054\n",
      "Epoch: 16 Training Loss: 6.834894520579837e-05 Valid Loss: 0.002860100707039237\n",
      "Training Acc: 0.9890016920473773 Valid Acc: 0.9054054054054054\n",
      "Epoch: 17 Training Loss: 6.781055344617926e-05 Valid Loss: 0.0030359856318682432\n",
      "Training Acc: 0.9898477157360406 Valid Acc: 0.9054054054054054\n",
      "Epoch: 18 Training Loss: 5.244027397566242e-05 Valid Loss: 0.002398397773504257\n",
      "Training Acc: 0.9906937394247038 Valid Acc: 0.9054054054054054\n",
      "Epoch: 19 Training Loss: 6.209307139215525e-05 Valid Loss: 0.003269543405622244\n",
      "Training Acc: 0.9898477157360406 Valid Acc: 0.8648648648648649\n",
      "Epoch: 20 Training Loss: 6.114875031926204e-05 Valid Loss: 0.007143883500248194\n",
      "Training Acc: 0.9890016920473773 Valid Acc: 0.5135135135135135\n",
      "Epoch: 21 Training Loss: 6.704412226099521e-05 Valid Loss: 0.005556757561862469\n",
      "Training Acc: 0.9898477157360406 Valid Acc: 0.6621621621621622\n",
      "Epoch: 22 Training Loss: 6.285078598011751e-05 Valid Loss: 0.0032547868322581053\n",
      "Training Acc: 0.9890016920473773 Valid Acc: 0.8851351351351351\n",
      "Epoch: 23 Training Loss: 6.517062138300389e-05 Valid Loss: 0.002727377926930785\n",
      "Training Acc: 0.9898477157360406 Valid Acc: 0.9054054054054054\n",
      "Epoch: 24 Training Loss: 5.206295372772729e-05 Valid Loss: 0.0028207101859152317\n",
      "Training Acc: 0.9890016920473773 Valid Acc: 0.8986486486486487\n",
      "Epoch: 25 Training Loss: 5.317585055308882e-05 Valid Loss: 0.003150047967210412\n",
      "Training Acc: 0.9890016920473773 Valid Acc: 0.8986486486486487\n",
      "Epoch: 26 Training Loss: 5.4764244850957766e-05 Valid Loss: 0.0030648147221654654\n",
      "Training Acc: 0.9890016920473773 Valid Acc: 0.8986486486486487\n",
      "Epoch: 27 Training Loss: 5.955121559964027e-05 Valid Loss: 0.002915437100455165\n",
      "Training Acc: 0.9906937394247038 Valid Acc: 0.8986486486486487\n",
      "Epoch: 28 Training Loss: 5.24864317412721e-05 Valid Loss: 0.004750561900436878\n",
      "Training Acc: 0.9873096446700508 Valid Acc: 0.75\n",
      "Epoch: 29 Training Loss: 4.149464598413033e-05 Valid Loss: 0.005601964425295591\n",
      "Training Acc: 0.9898477157360406 Valid Acc: 0.7027027027027027\n",
      "Epoch: 30 Training Loss: 6.762968223483767e-05 Valid Loss: 0.003445292357355356\n",
      "Training Acc: 0.9898477157360406 Valid Acc: 0.8648648648648649\n",
      "Epoch: 31 Training Loss: 4.646021898224717e-05 Valid Loss: 0.0030200406908988953\n",
      "Training Acc: 0.9873096446700508 Valid Acc: 0.9054054054054054\n",
      "Epoch: 32 Training Loss: 4.601607724907808e-05 Valid Loss: 0.0032988879829645157\n",
      "Training Acc: 0.9898477157360406 Valid Acc: 0.8986486486486487\n",
      "Epoch: 33 Training Loss: 3.9706300867692335e-05 Valid Loss: 0.00339969783090055\n",
      "Training Acc: 0.9898477157360406 Valid Acc: 0.8986486486486487\n",
      "Epoch: 34 Training Loss: 4.130448269279441e-05 Valid Loss: 0.0034093123394995928\n",
      "Training Acc: 0.9890016920473773 Valid Acc: 0.8986486486486487\n",
      "Epoch: 35 Training Loss: 5.266691096039722e-05 Valid Loss: 0.0032731990795582533\n",
      "Training Acc: 0.988155668358714 Valid Acc: 0.8986486486486487\n",
      "Epoch: 36 Training Loss: 6.383901836670702e-05 Valid Loss: 0.0030594300478696823\n",
      "Training Acc: 0.988155668358714 Valid Acc: 0.9121621621621622\n",
      "Epoch: 37 Training Loss: 4.7324277147708926e-05 Valid Loss: 0.003043428296223283\n",
      "Training Acc: 0.9890016920473773 Valid Acc: 0.9054054054054054\n",
      "Epoch: 38 Training Loss: 4.211207715343335e-05 Valid Loss: 0.0035362811759114265\n",
      "Training Acc: 0.9906937394247038 Valid Acc: 0.8581081081081081\n",
      "Epoch: 39 Training Loss: 4.6216126065701246e-05 Valid Loss: 0.0032147772144526243\n",
      "Training Acc: 0.988155668358714 Valid Acc: 0.8918918918918919\n",
      "Epoch: 40 Training Loss: 4.321119013184216e-05 Valid Loss: 0.003016409929841757\n",
      "Training Acc: 0.9890016920473773 Valid Acc: 0.9121621621621622\n",
      "Epoch: 41 Training Loss: 4.707709013018757e-05 Valid Loss: 0.0033863617572933435\n",
      "Training Acc: 0.9898477157360406 Valid Acc: 0.8986486486486487\n",
      "Epoch: 42 Training Loss: 4.9988999307970516e-05 Valid Loss: 0.003555229865014553\n",
      "Training Acc: 0.9898477157360406 Valid Acc: 0.8986486486486487\n",
      "Epoch: 43 Training Loss: 3.7854842958040535e-05 Valid Loss: 0.003527916269376874\n",
      "Training Acc: 0.988155668358714 Valid Acc: 0.8986486486486487\n",
      "Epoch: 44 Training Loss: 4.5329426939133555e-05 Valid Loss: 0.003480765502899885\n",
      "Training Acc: 0.9890016920473773 Valid Acc: 0.8986486486486487\n",
      "Epoch: 45 Training Loss: 4.195365272607887e-05 Valid Loss: 0.003376326058059931\n",
      "Training Acc: 0.9898477157360406 Valid Acc: 0.8986486486486487\n",
      "Epoch: 46 Training Loss: 4.8773192247608677e-05 Valid Loss: 0.0031612298917025328\n",
      "Training Acc: 0.9890016920473773 Valid Acc: 0.8986486486486487\n",
      "Epoch: 47 Training Loss: 3.963646940974286e-05 Valid Loss: 0.0030705698300153017\n",
      "Training Acc: 0.9906937394247038 Valid Acc: 0.9121621621621622\n",
      "Epoch: 48 Training Loss: 3.938102690881351e-05 Valid Loss: 0.0031588284764438868\n",
      "Training Acc: 0.9890016920473773 Valid Acc: 0.8986486486486487\n",
      "Epoch: 49 Training Loss: 5.663030560754123e-05 Valid Loss: 0.0032402686774730682\n",
      "Training Acc: 0.9898477157360406 Valid Acc: 0.8918918918918919\n"
     ]
    }
   ],
   "source": [
    "loss_history=[]  \n",
    "correct_history=[]  \n",
    "val_loss_history=[]  \n",
    "val_correct_history=[] \n",
    "train_loss_min = np.Inf\n",
    "val_loss_min = np.Inf\n",
    "\n",
    "\n",
    "# Training\n",
    "for e in range(train_epoch):\n",
    "    \n",
    "    model.train()\n",
    "    # keep track of the loss over an epoch\n",
    "    running_train_loss = 0\n",
    "    running_valid_loss = 0\n",
    "    running_train_correct = 0\n",
    "    running_val_correct = 0\n",
    "    y_train_true = []\n",
    "    y_train_pred = []\n",
    "    y_valid_true = []\n",
    "    y_valid_pred = []\n",
    "    batch = 0\n",
    "    for x_batch, y_batch in training_generator:\n",
    "        batch += 1\n",
    "        if torch.cuda.is_available():\n",
    "            x_batch, y_batch = x_batch.cuda(), y_batch.cuda() \n",
    "        \n",
    "        # Forward pass: Compute predicted y by passing x to the model\n",
    "        y_pred = model(x_batch)  # for all tasks\n",
    "        \n",
    "        # Compute loss over all tasks\n",
    "        loss = 0\n",
    "        correct = 0\n",
    "        y_train_true_task = []\n",
    "        y_train_pred_task = []\n",
    "        for i in range(len(clintox_task)):\n",
    "            y_batch_task = y_batch[:,i]\n",
    "            y_pred_task  = y_pred[i][:,0] #check if predictions na\n",
    "            \n",
    "            # compute loss for labels that are not NA\n",
    "            indice_valid = y_batch_task >= 0\n",
    "            loss_task = criterion(y_pred_task[indice_valid], y_batch_task[indice_valid]) / N_train[i]\n",
    "            \n",
    "            loss += loss_task\n",
    "\n",
    "            pred_train = np.round(y_pred_task[indice_valid].detach().cpu().numpy())\n",
    "            target_train = y_batch_task[indice_valid].float()\n",
    "            y_train_true.extend(target_train.tolist()) \n",
    "            y_train_pred.extend(pred_train.reshape(-1).tolist())\n",
    "\n",
    "        # Zero gradients, perform a backward pass, and update the weights.\n",
    "        # writer.add_scalar(\"Accuracy/train\", loss, batch)\n",
    "        optimizer.zero_grad()\n",
    "        loss.backward()\n",
    "        optimizer.step()\n",
    "    \n",
    "        # sum up the losses from each batch\n",
    "        running_train_loss += loss.item()\n",
    "        # writer.add_scalar(\"Loss/train\", running_train_loss, e)\n",
    "        \n",
    "    else:\n",
    "        with torch.no_grad():    \n",
    "        ## evaluation part \n",
    "            model.eval()\n",
    "            for val_x_batch, val_y_batch in valid_generator:\n",
    "                \n",
    "                if torch.cuda.is_available():\n",
    "                    val_x_batch, val_y_batch = val_x_batch.cuda(), val_y_batch.cuda() \n",
    "                \n",
    "                val_output = model(val_x_batch)\n",
    "\n",
    "                ## 2. loss calculation over all tasks \n",
    "                val_loss = 0\n",
    "                val_correct = 0\n",
    "                y_valid_true_task = []\n",
    "                y_valid_pred_task = []\n",
    "                for i in range(len(clintox_task)):\n",
    "                    val_y_batch_task = val_y_batch[:,i]\n",
    "                    val_output_task  = val_output[i][:,0]\n",
    "\n",
    "                    # compute loss for labels that are not NA\n",
    "                    indice_valid = val_y_batch_task >= 0\n",
    "                    val_loss_task = criterion(val_output_task[indice_valid], val_y_batch_task[indice_valid]) / N_valid[i]\n",
    "\n",
    "                    val_loss += val_loss_task\n",
    "                    \n",
    "                    pred_valid = np.round(val_output_task[indice_valid].detach().cpu().numpy())\n",
    "                    target_valid = val_y_batch_task[indice_valid].float()\n",
    "                    y_valid_true.extend(target_valid.tolist()) \n",
    "                    y_valid_pred.extend(pred_valid.reshape(-1).tolist())\n",
    "                \n",
    "                #writer.add_scalar(\"Loss/valid\", val_loss, batch)\n",
    "\n",
    "                running_valid_loss+=val_loss.item()\n",
    "                # writer.add_scalar(\"Loss/valid\", running_valid_loss, e)\n",
    "        \n",
    "        #epoch loss\n",
    "        train_epoch_loss=np.mean(running_train_loss)\n",
    "        val_epoch_loss=np.mean(running_valid_loss)  \n",
    "       \n",
    "        #epoch accuracy      \n",
    "        train_epoch_acc = accuracy_score(y_train_true,y_train_pred)\n",
    "        val_epoch_acc = accuracy_score(y_valid_true,y_valid_pred)\n",
    "        \n",
    "        #history\n",
    "        loss_history.append(train_epoch_loss)  \n",
    "        correct_history.append(train_epoch_acc)\n",
    "        val_loss_history.append(val_epoch_loss)  \n",
    "        val_correct_history.append(val_epoch_acc)  \n",
    "        \n",
    "        print(\"Epoch:\", e, \"Training Loss:\", train_epoch_loss, \"Valid Loss:\", val_epoch_loss)\n",
    "        print(\"Training Acc:\", train_epoch_acc, \"Valid Acc:\", val_epoch_acc)"
   ]
  },
  {
   "attachments": {},
   "cell_type": "markdown",
   "metadata": {},
   "source": [
    "Deep Purpose"
   ]
  },
  {
   "cell_type": "code",
   "execution_count": 36,
   "metadata": {},
   "outputs": [],
   "source": [
    "# TODO make the splits for deep purpose"
   ]
  },
  {
   "cell_type": "code",
   "execution_count": 37,
   "metadata": {},
   "outputs": [],
   "source": [
    "# function to evaluate the model \n",
    "\n",
    "def evaluate_model(model, test):\n",
    "    # Get labels and predictions from DataFrame\n",
    "    y_true = np.array(test['Label'])\n",
    "    y_pred = np.array(model.predict(test))\n",
    "\n",
    "    # Convert continuous targets to binary targets using a threshold of 0.5\n",
    "    y_true_binary = (y_true > 0.5).astype(int)\n",
    "    y_pred_binary = (y_pred > 0.5).astype(int)\n",
    "\n",
    "    # Calculate evaluation metrics on binary targets\n",
    "    accuracy = accuracy_score(y_true_binary, y_pred_binary)\n",
    "    precision = precision_score(y_true_binary, y_pred_binary)\n",
    "    recall = recall_score(y_true_binary, y_pred_binary)\n",
    "    f1 = f1_score(y_true_binary, y_pred_binary)\n",
    "    roc_auc = roc_auc_score(y_true, y_pred)\n",
    "    conf_mat = confusion_matrix(y_true_binary, y_pred_binary)\n",
    "\n",
    "\n",
    "    # Create a list of metric names and values\n",
    "    metrics = [\"Accuracy\", \"Precision\", \"Recall\", \"F1 Score\", \"ROC AUC\"]\n",
    "    values = [accuracy, precision, recall, f1, roc_auc]\n",
    "\n",
    "    # Create a list of lists for tabulating\n",
    "    table = [metrics, values]\n",
    "\n",
    "    # Display the table\n",
    "    print(tabulate(table, headers='firstrow'))\n",
    "\n",
    "\n",
    "    # Create a heatmap of the confusion matrix\n",
    "    sns.heatmap(conf_mat, annot=True, cmap='Blues', fmt='g', xticklabels=['Predicted Negative', 'Predicted Positive'], yticklabels=['Actual Negative', 'Actual Positive'])\n",
    "\n",
    "    # Add labels and title\n",
    "    plt.xlabel('Prediction')\n",
    "    plt.ylabel('Truth')\n",
    "    plt.title('Confusion Matrix')\n",
    "\n",
    "    # Show the plot\n",
    "    plt.show()"
   ]
  },
  {
   "cell_type": "code",
   "execution_count": 38,
   "metadata": {},
   "outputs": [],
   "source": [
    "X = train_data['smiles'].tolist()\n",
    "y = train_data['CT_TOX'].tolist()"
   ]
  },
  {
   "cell_type": "code",
   "execution_count": 47,
   "metadata": {},
   "outputs": [],
   "source": [
    "new_column_names = {\n",
    "    'smiles': 'SMILES',\n",
    "    'CT_TOX': 'Label',\n",
    "    'morgan': 'drug_encoding',\n",
    "}\n",
    "\n",
    "dp_train = train_data[['smiles','CT_TOX','morgan']].rename(columns=new_column_names).reset_index(drop=True)\n",
    "dp_test = test_data[['smiles','CT_TOX','morgan']].rename(columns=new_column_names).reset_index(drop=True)\n",
    "dp_val = valid_data[['smiles','CT_TOX','morgan']].rename(columns=new_column_names).reset_index(drop=True)"
   ]
  },
  {
   "cell_type": "code",
   "execution_count": 48,
   "metadata": {},
   "outputs": [],
   "source": [
    "# drug_encodings = ['Morgan', 'Pubchem', 'Daylight', 'rdkit_2d_normalized']\n",
    "\n",
    "drug_encoding = 'Morgan'\n",
    "\n",
    "# #splitting train validation and test\n",
    "# train, val, test = utils.data_process(X_drug = X, y = y, drug_encoding = drug_encoding,\n",
    "#                                 split_method='random',frac=[0.7,0.1,0.2],\n",
    "#                                 random_seed = 42)\n",
    "\n",
    "\n",
    "\n"
   ]
  },
  {
   "cell_type": "code",
   "execution_count": 49,
   "metadata": {},
   "outputs": [
    {
     "name": "stdout",
     "output_type": "stream",
     "text": [
      "Let's use CPU/s!\n",
      "--- Data Preparation ---\n",
      "--- Go for Training ---\n"
     ]
    },
    {
     "ename": "TypeError",
     "evalue": "default_collate: batch must contain tensors, numpy arrays, numbers, dicts or lists; found <class 'rdkit.DataStructs.cDataStructs.ExplicitBitVect'>",
     "output_type": "error",
     "traceback": [
      "\u001b[1;31m---------------------------------------------------------------------------\u001b[0m",
      "\u001b[1;31mTypeError\u001b[0m                                 Traceback (most recent call last)",
      "Cell \u001b[1;32mIn[49], line 12\u001b[0m\n\u001b[0;32m      9\u001b[0m model_dp\u001b[39m=\u001b[39m CompoundPred\u001b[39m.\u001b[39mmodel_initialize(\u001b[39m*\u001b[39m\u001b[39m*\u001b[39mconfig)\n\u001b[0;32m     11\u001b[0m \u001b[39m# Training the model \u001b[39;00m\n\u001b[1;32m---> 12\u001b[0m model_dp\u001b[39m.\u001b[39;49mtrain(dp_train, dp_val, dp_test, verbose\u001b[39m=\u001b[39;49m\u001b[39m1\u001b[39;49m)\n",
      "File \u001b[1;32mc:\\Users\\loddo\\AppData\\Local\\mambaforge\\envs\\chem\\lib\\site-packages\\DeepPurpose\\CompoundPred.py:334\u001b[0m, in \u001b[0;36mProperty_Prediction.train\u001b[1;34m(self, train, val, test, verbose)\u001b[0m\n\u001b[0;32m    332\u001b[0m t_start \u001b[39m=\u001b[39m time() \n\u001b[0;32m    333\u001b[0m \u001b[39mfor\u001b[39;00m epo \u001b[39min\u001b[39;00m \u001b[39mrange\u001b[39m(train_epoch):\n\u001b[1;32m--> 334\u001b[0m \t\u001b[39mfor\u001b[39;00m i, (v_d, label) \u001b[39min\u001b[39;00m \u001b[39menumerate\u001b[39m(training_generator):\n\u001b[0;32m    336\u001b[0m \t\t\u001b[39mif\u001b[39;00m \u001b[39mself\u001b[39m\u001b[39m.\u001b[39mdrug_encoding \u001b[39min\u001b[39;00m [\u001b[39m\"\u001b[39m\u001b[39mMPNN\u001b[39m\u001b[39m\"\u001b[39m, \u001b[39m'\u001b[39m\u001b[39mTransformer\u001b[39m\u001b[39m'\u001b[39m, \u001b[39m'\u001b[39m\u001b[39mDGL_GCN\u001b[39m\u001b[39m'\u001b[39m, \u001b[39m'\u001b[39m\u001b[39mDGL_NeuralFP\u001b[39m\u001b[39m'\u001b[39m, \u001b[39m'\u001b[39m\u001b[39mDGL_GIN_AttrMasking\u001b[39m\u001b[39m'\u001b[39m, \u001b[39m'\u001b[39m\u001b[39mDGL_GIN_ContextPred\u001b[39m\u001b[39m'\u001b[39m, \u001b[39m'\u001b[39m\u001b[39mDGL_AttentiveFP\u001b[39m\u001b[39m'\u001b[39m]:\n\u001b[0;32m    337\u001b[0m \t\t\tv_d \u001b[39m=\u001b[39m v_d\n",
      "File \u001b[1;32mc:\\Users\\loddo\\AppData\\Local\\mambaforge\\envs\\chem\\lib\\site-packages\\torch\\utils\\data\\dataloader.py:633\u001b[0m, in \u001b[0;36m_BaseDataLoaderIter.__next__\u001b[1;34m(self)\u001b[0m\n\u001b[0;32m    630\u001b[0m \u001b[39mif\u001b[39;00m \u001b[39mself\u001b[39m\u001b[39m.\u001b[39m_sampler_iter \u001b[39mis\u001b[39;00m \u001b[39mNone\u001b[39;00m:\n\u001b[0;32m    631\u001b[0m     \u001b[39m# TODO(https://github.com/pytorch/pytorch/issues/76750)\u001b[39;00m\n\u001b[0;32m    632\u001b[0m     \u001b[39mself\u001b[39m\u001b[39m.\u001b[39m_reset()  \u001b[39m# type: ignore[call-arg]\u001b[39;00m\n\u001b[1;32m--> 633\u001b[0m data \u001b[39m=\u001b[39m \u001b[39mself\u001b[39;49m\u001b[39m.\u001b[39;49m_next_data()\n\u001b[0;32m    634\u001b[0m \u001b[39mself\u001b[39m\u001b[39m.\u001b[39m_num_yielded \u001b[39m+\u001b[39m\u001b[39m=\u001b[39m \u001b[39m1\u001b[39m\n\u001b[0;32m    635\u001b[0m \u001b[39mif\u001b[39;00m \u001b[39mself\u001b[39m\u001b[39m.\u001b[39m_dataset_kind \u001b[39m==\u001b[39m _DatasetKind\u001b[39m.\u001b[39mIterable \u001b[39mand\u001b[39;00m \\\n\u001b[0;32m    636\u001b[0m         \u001b[39mself\u001b[39m\u001b[39m.\u001b[39m_IterableDataset_len_called \u001b[39mis\u001b[39;00m \u001b[39mnot\u001b[39;00m \u001b[39mNone\u001b[39;00m \u001b[39mand\u001b[39;00m \\\n\u001b[0;32m    637\u001b[0m         \u001b[39mself\u001b[39m\u001b[39m.\u001b[39m_num_yielded \u001b[39m>\u001b[39m \u001b[39mself\u001b[39m\u001b[39m.\u001b[39m_IterableDataset_len_called:\n",
      "File \u001b[1;32mc:\\Users\\loddo\\AppData\\Local\\mambaforge\\envs\\chem\\lib\\site-packages\\torch\\utils\\data\\dataloader.py:677\u001b[0m, in \u001b[0;36m_SingleProcessDataLoaderIter._next_data\u001b[1;34m(self)\u001b[0m\n\u001b[0;32m    675\u001b[0m \u001b[39mdef\u001b[39;00m \u001b[39m_next_data\u001b[39m(\u001b[39mself\u001b[39m):\n\u001b[0;32m    676\u001b[0m     index \u001b[39m=\u001b[39m \u001b[39mself\u001b[39m\u001b[39m.\u001b[39m_next_index()  \u001b[39m# may raise StopIteration\u001b[39;00m\n\u001b[1;32m--> 677\u001b[0m     data \u001b[39m=\u001b[39m \u001b[39mself\u001b[39;49m\u001b[39m.\u001b[39;49m_dataset_fetcher\u001b[39m.\u001b[39;49mfetch(index)  \u001b[39m# may raise StopIteration\u001b[39;00m\n\u001b[0;32m    678\u001b[0m     \u001b[39mif\u001b[39;00m \u001b[39mself\u001b[39m\u001b[39m.\u001b[39m_pin_memory:\n\u001b[0;32m    679\u001b[0m         data \u001b[39m=\u001b[39m _utils\u001b[39m.\u001b[39mpin_memory\u001b[39m.\u001b[39mpin_memory(data, \u001b[39mself\u001b[39m\u001b[39m.\u001b[39m_pin_memory_device)\n",
      "File \u001b[1;32mc:\\Users\\loddo\\AppData\\Local\\mambaforge\\envs\\chem\\lib\\site-packages\\torch\\utils\\data\\_utils\\fetch.py:54\u001b[0m, in \u001b[0;36m_MapDatasetFetcher.fetch\u001b[1;34m(self, possibly_batched_index)\u001b[0m\n\u001b[0;32m     52\u001b[0m \u001b[39melse\u001b[39;00m:\n\u001b[0;32m     53\u001b[0m     data \u001b[39m=\u001b[39m \u001b[39mself\u001b[39m\u001b[39m.\u001b[39mdataset[possibly_batched_index]\n\u001b[1;32m---> 54\u001b[0m \u001b[39mreturn\u001b[39;00m \u001b[39mself\u001b[39;49m\u001b[39m.\u001b[39;49mcollate_fn(data)\n",
      "File \u001b[1;32mc:\\Users\\loddo\\AppData\\Local\\mambaforge\\envs\\chem\\lib\\site-packages\\torch\\utils\\data\\_utils\\collate.py:265\u001b[0m, in \u001b[0;36mdefault_collate\u001b[1;34m(batch)\u001b[0m\n\u001b[0;32m    204\u001b[0m \u001b[39mdef\u001b[39;00m \u001b[39mdefault_collate\u001b[39m(batch):\n\u001b[0;32m    205\u001b[0m \u001b[39m    \u001b[39m\u001b[39mr\u001b[39m\u001b[39m\"\"\"\u001b[39;00m\n\u001b[0;32m    206\u001b[0m \u001b[39m        Function that takes in a batch of data and puts the elements within the batch\u001b[39;00m\n\u001b[0;32m    207\u001b[0m \u001b[39m        into a tensor with an additional outer dimension - batch size. The exact output type can be\u001b[39;00m\n\u001b[1;32m   (...)\u001b[0m\n\u001b[0;32m    263\u001b[0m \u001b[39m            >>> default_collate(batch)  # Handle `CustomType` automatically\u001b[39;00m\n\u001b[0;32m    264\u001b[0m \u001b[39m    \"\"\"\u001b[39;00m\n\u001b[1;32m--> 265\u001b[0m     \u001b[39mreturn\u001b[39;00m collate(batch, collate_fn_map\u001b[39m=\u001b[39;49mdefault_collate_fn_map)\n",
      "File \u001b[1;32mc:\\Users\\loddo\\AppData\\Local\\mambaforge\\envs\\chem\\lib\\site-packages\\torch\\utils\\data\\_utils\\collate.py:142\u001b[0m, in \u001b[0;36mcollate\u001b[1;34m(batch, collate_fn_map)\u001b[0m\n\u001b[0;32m    139\u001b[0m transposed \u001b[39m=\u001b[39m \u001b[39mlist\u001b[39m(\u001b[39mzip\u001b[39m(\u001b[39m*\u001b[39mbatch))  \u001b[39m# It may be accessed twice, so we use a list.\u001b[39;00m\n\u001b[0;32m    141\u001b[0m \u001b[39mif\u001b[39;00m \u001b[39misinstance\u001b[39m(elem, \u001b[39mtuple\u001b[39m):\n\u001b[1;32m--> 142\u001b[0m     \u001b[39mreturn\u001b[39;00m [collate(samples, collate_fn_map\u001b[39m=\u001b[39mcollate_fn_map) \u001b[39mfor\u001b[39;00m samples \u001b[39min\u001b[39;00m transposed]  \u001b[39m# Backwards compatibility.\u001b[39;00m\n\u001b[0;32m    143\u001b[0m \u001b[39melse\u001b[39;00m:\n\u001b[0;32m    144\u001b[0m     \u001b[39mtry\u001b[39;00m:\n",
      "File \u001b[1;32mc:\\Users\\loddo\\AppData\\Local\\mambaforge\\envs\\chem\\lib\\site-packages\\torch\\utils\\data\\_utils\\collate.py:142\u001b[0m, in \u001b[0;36m<listcomp>\u001b[1;34m(.0)\u001b[0m\n\u001b[0;32m    139\u001b[0m transposed \u001b[39m=\u001b[39m \u001b[39mlist\u001b[39m(\u001b[39mzip\u001b[39m(\u001b[39m*\u001b[39mbatch))  \u001b[39m# It may be accessed twice, so we use a list.\u001b[39;00m\n\u001b[0;32m    141\u001b[0m \u001b[39mif\u001b[39;00m \u001b[39misinstance\u001b[39m(elem, \u001b[39mtuple\u001b[39m):\n\u001b[1;32m--> 142\u001b[0m     \u001b[39mreturn\u001b[39;00m [collate(samples, collate_fn_map\u001b[39m=\u001b[39;49mcollate_fn_map) \u001b[39mfor\u001b[39;00m samples \u001b[39min\u001b[39;00m transposed]  \u001b[39m# Backwards compatibility.\u001b[39;00m\n\u001b[0;32m    143\u001b[0m \u001b[39melse\u001b[39;00m:\n\u001b[0;32m    144\u001b[0m     \u001b[39mtry\u001b[39;00m:\n",
      "File \u001b[1;32mc:\\Users\\loddo\\AppData\\Local\\mambaforge\\envs\\chem\\lib\\site-packages\\torch\\utils\\data\\_utils\\collate.py:150\u001b[0m, in \u001b[0;36mcollate\u001b[1;34m(batch, collate_fn_map)\u001b[0m\n\u001b[0;32m    146\u001b[0m         \u001b[39mexcept\u001b[39;00m \u001b[39mTypeError\u001b[39;00m:\n\u001b[0;32m    147\u001b[0m             \u001b[39m# The sequence type may not support `__init__(iterable)` (e.g., `range`).\u001b[39;00m\n\u001b[0;32m    148\u001b[0m             \u001b[39mreturn\u001b[39;00m [collate(samples, collate_fn_map\u001b[39m=\u001b[39mcollate_fn_map) \u001b[39mfor\u001b[39;00m samples \u001b[39min\u001b[39;00m transposed]\n\u001b[1;32m--> 150\u001b[0m \u001b[39mraise\u001b[39;00m \u001b[39mTypeError\u001b[39;00m(default_collate_err_msg_format\u001b[39m.\u001b[39mformat(elem_type))\n",
      "\u001b[1;31mTypeError\u001b[0m: default_collate: batch must contain tensors, numpy arrays, numbers, dicts or lists; found <class 'rdkit.DataStructs.cDataStructs.ExplicitBitVect'>"
     ]
    }
   ],
   "source": [
    "# Configuring the model \n",
    "config = utils.generate_config(drug_encoding = drug_encoding, \n",
    "                         mlp_hidden_dims_drug = [8, 8, 4], \n",
    "                         train_epoch = 40, \n",
    "                         LR = 0.001, \n",
    "                         batch_size = 124,\n",
    "                        )\n",
    "\n",
    "model_dp= CompoundPred.model_initialize(**config)\n",
    "\n",
    "# Training the model \n",
    "model_dp.train(dp_train, dp_val, dp_test, verbose=1)"
   ]
  },
  {
   "cell_type": "code",
   "execution_count": null,
   "metadata": {},
   "outputs": [],
   "source": [
    "evaluate_model(model_dp, dp_test)"
   ]
  },
  {
   "attachments": {},
   "cell_type": "markdown",
   "metadata": {},
   "source": [
    "### Using Tox21 data"
   ]
  },
  {
   "cell_type": "code",
   "execution_count": null,
   "metadata": {},
   "outputs": [],
   "source": []
  }
 ],
 "metadata": {
  "kernelspec": {
   "display_name": "trial",
   "language": "python",
   "name": "python3"
  },
  "language_info": {
   "codemirror_mode": {
    "name": "ipython",
    "version": 3
   },
   "file_extension": ".py",
   "mimetype": "text/x-python",
   "name": "python",
   "nbconvert_exporter": "python",
   "pygments_lexer": "ipython3",
   "version": "3.9.16"
  },
  "orig_nbformat": 4
 },
 "nbformat": 4,
 "nbformat_minor": 2
}
