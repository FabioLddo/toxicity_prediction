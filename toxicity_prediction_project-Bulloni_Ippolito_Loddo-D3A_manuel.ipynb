{
 "cells": [
  {
   "attachments": {},
   "cell_type": "markdown",
   "metadata": {},
   "source": [
    "# Toxicity Prediction Project\n",
    "Final Project - Applied Case Studies of Machine Learning and Deep Learning in Key Areas 2\n",
    "\n",
    "Bulloni Dyuman, Ippolito Manuel, Loddo Fabio - D3A"
   ]
  },
  {
   "attachments": {},
   "cell_type": "markdown",
   "metadata": {},
   "source": [
    "Import the required Python libraries"
   ]
  },
  {
   "cell_type": "code",
   "execution_count": 10,
   "metadata": {},
   "outputs": [],
   "source": [
    "# Data handling\n",
    "import pandas as pd\n",
    "import numpy as np\n",
    "import random\n",
    "from tabulate import tabulate\n",
    "\n",
    "# Plotting\n",
    "import matplotlib.pyplot as plt\n",
    "import seaborn as sns\n",
    "\n",
    "# File handling\n",
    "import os\n",
    "from pathlib import Path\n",
    "import datetime\n",
    "\n",
    "# RDKit modules\n",
    "import rdkit as rd\n",
    "from rdkit import Chem, DataStructs\n",
    "from rdkit.Chem import AllChem\n",
    "from rdkit.Chem import Descriptors\n",
    "\n",
    "# Deep Purpose modules\n",
    "from DeepPurpose import *\n",
    "from DeepPurpose import ProteinPred as models\n",
    "from DeepPurpose.utils import *\n",
    "from DeepPurpose.dataset import *\n",
    "from DeepPurpose import CompoundPred, dataset, utils\n",
    "\n",
    "# DeepChem modules\n",
    "import deepchem as dc\n",
    "from deepchem.models import GraphConvModel\n",
    "\n",
    "# Modeling\n",
    "import sklearn \n",
    "from sklearn.model_selection import train_test_split\n",
    "from sklearn.metrics import accuracy_score, f1_score, roc_auc_score, precision_score, recall_score, roc_curve, auc, precision_recall_curve, confusion_matrix, balanced_accuracy_score\n",
    "from sklearn.feature_selection import RFE\n",
    "from sklearn.ensemble import RandomForestRegressor\n",
    "from sklearn.model_selection import StratifiedKFold\n",
    "\n",
    "# Warnings\n",
    "import warnings\n",
    "warnings.filterwarnings(\"ignore\")\n",
    "\n",
    "import torch\n",
    "from torch.utils.data import Dataset, DataLoader\n",
    "device=torch.device(\"cuda:0\" if torch.cuda.is_available() else \"cpu\")  # use GPU if available"
   ]
  },
  {
   "attachments": {},
   "cell_type": "markdown",
   "metadata": {},
   "source": [
    "Settings"
   ]
  },
  {
   "cell_type": "code",
   "execution_count": 11,
   "metadata": {},
   "outputs": [],
   "source": [
    "# Set seed value\n",
    "SEED_VALUE = 124 #122 123 124, as used in MoleculeNet\n",
    "\n",
    "# Set torch settings\n",
    "torch.manual_seed(SEED_VALUE)\n",
    "torch.cuda.manual_seed(SEED_VALUE)\n",
    "np.random.seed(SEED_VALUE)\n",
    "random.seed(SEED_VALUE)\n",
    "#deeppurpose.utils.seed_everything(SEED_VALUE)\n",
    "torch.backends.cudnn.enabled=False\n",
    "torch.backends.cudnn.deterministic=True"
   ]
  },
  {
   "attachments": {},
   "cell_type": "markdown",
   "metadata": {},
   "source": [
    "Constants"
   ]
  },
  {
   "cell_type": "code",
   "execution_count": 12,
   "metadata": {},
   "outputs": [],
   "source": [
    "# Number of bits for morgan fingerprints\n",
    "MORGAN_BITS = 4096\n",
    "\n",
    "# Number of radius for morgan fingerprints\n",
    "MORGAN_RADIUS = 2"
   ]
  },
  {
   "attachments": {},
   "cell_type": "markdown",
   "metadata": {},
   "source": [
    "## Data Exploration"
   ]
  },
  {
   "attachments": {},
   "cell_type": "markdown",
   "metadata": {},
   "source": [
    "Import the data"
   ]
  },
  {
   "cell_type": "code",
   "execution_count": 13,
   "metadata": {},
   "outputs": [
    {
     "data": {
      "text/plain": [
       "WindowsPath('c:/Users/manue/SUPSI/Sixth Semester User/Bio Grasso/Final project/toxicity_prediction/Data')"
      ]
     },
     "execution_count": 13,
     "metadata": {},
     "output_type": "execute_result"
    }
   ],
   "source": [
    "# Define path to the Data folder\n",
    "DATA_PATH: Path = Path(os.getcwd() + \"/Data\")\n",
    "DATA_PATH"
   ]
  },
  {
   "cell_type": "code",
   "execution_count": 14,
   "metadata": {},
   "outputs": [
    {
     "data": {
      "text/html": [
       "<div>\n",
       "<style scoped>\n",
       "    .dataframe tbody tr th:only-of-type {\n",
       "        vertical-align: middle;\n",
       "    }\n",
       "\n",
       "    .dataframe tbody tr th {\n",
       "        vertical-align: top;\n",
       "    }\n",
       "\n",
       "    .dataframe thead th {\n",
       "        text-align: right;\n",
       "    }\n",
       "</style>\n",
       "<table border=\"1\" class=\"dataframe\">\n",
       "  <thead>\n",
       "    <tr style=\"text-align: right;\">\n",
       "      <th></th>\n",
       "      <th>smiles</th>\n",
       "      <th>FDA_APPROVED</th>\n",
       "      <th>CT_TOX</th>\n",
       "    </tr>\n",
       "  </thead>\n",
       "  <tbody>\n",
       "    <tr>\n",
       "      <th>0</th>\n",
       "      <td>*C(=O)[C@H](CCCCNC(=O)OCCOC)NC(=O)OCCOC</td>\n",
       "      <td>1</td>\n",
       "      <td>0</td>\n",
       "    </tr>\n",
       "    <tr>\n",
       "      <th>1</th>\n",
       "      <td>[C@@H]1([C@@H]([C@@H]([C@H]([C@@H]([C@@H]1Cl)C...</td>\n",
       "      <td>1</td>\n",
       "      <td>0</td>\n",
       "    </tr>\n",
       "    <tr>\n",
       "      <th>2</th>\n",
       "      <td>[C@H]([C@@H]([C@@H](C(=O)[O-])O)O)([C@H](C(=O)...</td>\n",
       "      <td>1</td>\n",
       "      <td>0</td>\n",
       "    </tr>\n",
       "    <tr>\n",
       "      <th>3</th>\n",
       "      <td>[H]/[NH+]=C(/C1=CC(=O)/C(=C\\C=c2ccc(=C([NH3+])...</td>\n",
       "      <td>1</td>\n",
       "      <td>0</td>\n",
       "    </tr>\n",
       "    <tr>\n",
       "      <th>4</th>\n",
       "      <td>[H]/[NH+]=C(\\N)/c1ccc(cc1)OCCCCCOc2ccc(cc2)/C(...</td>\n",
       "      <td>1</td>\n",
       "      <td>0</td>\n",
       "    </tr>\n",
       "  </tbody>\n",
       "</table>\n",
       "</div>"
      ],
      "text/plain": [
       "                                              smiles  FDA_APPROVED  CT_TOX\n",
       "0            *C(=O)[C@H](CCCCNC(=O)OCCOC)NC(=O)OCCOC             1       0\n",
       "1  [C@@H]1([C@@H]([C@@H]([C@H]([C@@H]([C@@H]1Cl)C...             1       0\n",
       "2  [C@H]([C@@H]([C@@H](C(=O)[O-])O)O)([C@H](C(=O)...             1       0\n",
       "3  [H]/[NH+]=C(/C1=CC(=O)/C(=C\\C=c2ccc(=C([NH3+])...             1       0\n",
       "4  [H]/[NH+]=C(\\N)/c1ccc(cc1)OCCCCCOc2ccc(cc2)/C(...             1       0"
      ]
     },
     "execution_count": 14,
     "metadata": {},
     "output_type": "execute_result"
    }
   ],
   "source": [
    "# Import the clintox dataset\n",
    "# Clintox dataset contains clinical toxicology data\n",
    "clintox = pd.read_csv(DATA_PATH / \"clintox.csv\")\n",
    "clintox_task = ['CT_TOX']\n",
    "clintox.head()"
   ]
  },
  {
   "cell_type": "code",
   "execution_count": 15,
   "metadata": {},
   "outputs": [
    {
     "data": {
      "text/html": [
       "<div>\n",
       "<style scoped>\n",
       "    .dataframe tbody tr th:only-of-type {\n",
       "        vertical-align: middle;\n",
       "    }\n",
       "\n",
       "    .dataframe tbody tr th {\n",
       "        vertical-align: top;\n",
       "    }\n",
       "\n",
       "    .dataframe thead th {\n",
       "        text-align: right;\n",
       "    }\n",
       "</style>\n",
       "<table border=\"1\" class=\"dataframe\">\n",
       "  <thead>\n",
       "    <tr style=\"text-align: right;\">\n",
       "      <th></th>\n",
       "      <th>NR-AR</th>\n",
       "      <th>NR-AR-LBD</th>\n",
       "      <th>NR-AhR</th>\n",
       "      <th>NR-Aromatase</th>\n",
       "      <th>NR-ER</th>\n",
       "      <th>NR-ER-LBD</th>\n",
       "      <th>NR-PPAR-gamma</th>\n",
       "      <th>SR-ARE</th>\n",
       "      <th>SR-ATAD5</th>\n",
       "      <th>SR-HSE</th>\n",
       "      <th>SR-MMP</th>\n",
       "      <th>SR-p53</th>\n",
       "      <th>mol_id</th>\n",
       "      <th>smiles</th>\n",
       "    </tr>\n",
       "  </thead>\n",
       "  <tbody>\n",
       "    <tr>\n",
       "      <th>0</th>\n",
       "      <td>0.0</td>\n",
       "      <td>0.0</td>\n",
       "      <td>1.0</td>\n",
       "      <td>NaN</td>\n",
       "      <td>NaN</td>\n",
       "      <td>0.0</td>\n",
       "      <td>0.0</td>\n",
       "      <td>1.0</td>\n",
       "      <td>0.0</td>\n",
       "      <td>0.0</td>\n",
       "      <td>0.0</td>\n",
       "      <td>0.0</td>\n",
       "      <td>TOX3021</td>\n",
       "      <td>CCOc1ccc2nc(S(N)(=O)=O)sc2c1</td>\n",
       "    </tr>\n",
       "    <tr>\n",
       "      <th>1</th>\n",
       "      <td>0.0</td>\n",
       "      <td>0.0</td>\n",
       "      <td>0.0</td>\n",
       "      <td>0.0</td>\n",
       "      <td>0.0</td>\n",
       "      <td>0.0</td>\n",
       "      <td>0.0</td>\n",
       "      <td>NaN</td>\n",
       "      <td>0.0</td>\n",
       "      <td>NaN</td>\n",
       "      <td>0.0</td>\n",
       "      <td>0.0</td>\n",
       "      <td>TOX3020</td>\n",
       "      <td>CCN1C(=O)NC(c2ccccc2)C1=O</td>\n",
       "    </tr>\n",
       "    <tr>\n",
       "      <th>2</th>\n",
       "      <td>NaN</td>\n",
       "      <td>NaN</td>\n",
       "      <td>NaN</td>\n",
       "      <td>NaN</td>\n",
       "      <td>NaN</td>\n",
       "      <td>NaN</td>\n",
       "      <td>NaN</td>\n",
       "      <td>0.0</td>\n",
       "      <td>NaN</td>\n",
       "      <td>0.0</td>\n",
       "      <td>NaN</td>\n",
       "      <td>NaN</td>\n",
       "      <td>TOX3024</td>\n",
       "      <td>CC[C@]1(O)CC[C@H]2[C@@H]3CCC4=CCCC[C@@H]4[C@H]...</td>\n",
       "    </tr>\n",
       "    <tr>\n",
       "      <th>3</th>\n",
       "      <td>0.0</td>\n",
       "      <td>0.0</td>\n",
       "      <td>0.0</td>\n",
       "      <td>0.0</td>\n",
       "      <td>0.0</td>\n",
       "      <td>0.0</td>\n",
       "      <td>0.0</td>\n",
       "      <td>NaN</td>\n",
       "      <td>0.0</td>\n",
       "      <td>NaN</td>\n",
       "      <td>0.0</td>\n",
       "      <td>0.0</td>\n",
       "      <td>TOX3027</td>\n",
       "      <td>CCCN(CC)C(CC)C(=O)Nc1c(C)cccc1C</td>\n",
       "    </tr>\n",
       "    <tr>\n",
       "      <th>4</th>\n",
       "      <td>0.0</td>\n",
       "      <td>0.0</td>\n",
       "      <td>NaN</td>\n",
       "      <td>0.0</td>\n",
       "      <td>0.0</td>\n",
       "      <td>0.0</td>\n",
       "      <td>0.0</td>\n",
       "      <td>0.0</td>\n",
       "      <td>0.0</td>\n",
       "      <td>0.0</td>\n",
       "      <td>NaN</td>\n",
       "      <td>0.0</td>\n",
       "      <td>TOX3028</td>\n",
       "      <td>CC(O)(P(=O)(O)O)P(=O)(O)O</td>\n",
       "    </tr>\n",
       "  </tbody>\n",
       "</table>\n",
       "</div>"
      ],
      "text/plain": [
       "   NR-AR  NR-AR-LBD  NR-AhR  NR-Aromatase  NR-ER  NR-ER-LBD  NR-PPAR-gamma   \n",
       "0    0.0        0.0     1.0           NaN    NaN        0.0            0.0  \\\n",
       "1    0.0        0.0     0.0           0.0    0.0        0.0            0.0   \n",
       "2    NaN        NaN     NaN           NaN    NaN        NaN            NaN   \n",
       "3    0.0        0.0     0.0           0.0    0.0        0.0            0.0   \n",
       "4    0.0        0.0     NaN           0.0    0.0        0.0            0.0   \n",
       "\n",
       "   SR-ARE  SR-ATAD5  SR-HSE  SR-MMP  SR-p53   mol_id   \n",
       "0     1.0       0.0     0.0     0.0     0.0  TOX3021  \\\n",
       "1     NaN       0.0     NaN     0.0     0.0  TOX3020   \n",
       "2     0.0       NaN     0.0     NaN     NaN  TOX3024   \n",
       "3     NaN       0.0     NaN     0.0     0.0  TOX3027   \n",
       "4     0.0       0.0     0.0     NaN     0.0  TOX3028   \n",
       "\n",
       "                                              smiles  \n",
       "0                       CCOc1ccc2nc(S(N)(=O)=O)sc2c1  \n",
       "1                          CCN1C(=O)NC(c2ccccc2)C1=O  \n",
       "2  CC[C@]1(O)CC[C@H]2[C@@H]3CCC4=CCCC[C@@H]4[C@H]...  \n",
       "3                    CCCN(CC)C(CC)C(=O)Nc1c(C)cccc1C  \n",
       "4                          CC(O)(P(=O)(O)O)P(=O)(O)O  "
      ]
     },
     "execution_count": 15,
     "metadata": {},
     "output_type": "execute_result"
    }
   ],
   "source": [
    "# Import the tox21 dataset\n",
    "# Tox21 dataset contains in vitro toxicology data \n",
    "tox21 = pd.read_csv(DATA_PATH / \"tox21.csv\")\n",
    "tox21_tasks = ['NR-AR', 'NR-Aromatase', 'NR-PPAR-gamma', 'SR-HSE', \n",
    "               'NR-AR-LBD', 'NR-ER', 'SR-ARE', 'SR-MMP',\n",
    "               'NR-AhR', 'NR-ER-LBD', 'SR-ATAD5', 'SR-p53']\n",
    "tox21.head()"
   ]
  },
  {
   "attachments": {},
   "cell_type": "markdown",
   "metadata": {},
   "source": [
    "In vivo data (that in the reference papers come from the dataset RTECS by Biovia) are not available  publicly and require a fee or a subscription to be provided, so we will work on clinical and in vitro data for this project."
   ]
  },
  {
   "attachments": {},
   "cell_type": "markdown",
   "metadata": {},
   "source": [
    "### Plot data"
   ]
  },
  {
   "attachments": {},
   "cell_type": "markdown",
   "metadata": {},
   "source": [
    "#### Clintox dataset"
   ]
  },
  {
   "cell_type": "code",
   "execution_count": 16,
   "metadata": {},
   "outputs": [
    {
     "data": {
      "image/png": "[encoded data removed]",
      "text/plain": [
       "<Figure size 800x600 with 1 Axes>"
      ]
     },
     "metadata": {},
     "output_type": "display_data"
    },
    {
     "data": {
      "image/png": "[encoded data removed]",
      "text/plain": [
       "<Figure size 800x600 with 1 Axes>"
      ]
     },
     "metadata": {},
     "output_type": "display_data"
    },
    {
     "data": {
      "image/png": "[encoded data removed]",
      "text/plain": [
       "<Figure size 800x600 with 2 Axes>"
      ]
     },
     "metadata": {},
     "output_type": "display_data"
    }
   ],
   "source": [
    "# Plot the distribution of FDA_APPROVED\n",
    "plt.figure(figsize=(8, 6))\n",
    "clintox['FDA_APPROVED'].value_counts().plot(kind='bar')\n",
    "plt.title('Distribution of FDA_APPROVED')\n",
    "plt.xlabel('FDA_APPROVED')\n",
    "plt.ylabel('Count')\n",
    "plt.xticks([0, 1], ['Approved', 'Not Approved'])\n",
    "plt.show()\n",
    "\n",
    "# Plot the distribution of CT_TOX\n",
    "plt.figure(figsize=(8, 6))\n",
    "clintox['CT_TOX'].value_counts().plot(kind='bar')\n",
    "plt.title('Distribution of CT_TOX')\n",
    "plt.xlabel('CT_TOX')\n",
    "plt.ylabel('Count')\n",
    "plt.xticks([0, 1], ['Not Toxic', 'Toxic'])\n",
    "plt.show()\n",
    "\n",
    "# Plot the correlation matrix\n",
    "plt.figure(figsize=(8, 6))\n",
    "correlation_matrix = clintox[['FDA_APPROVED', 'CT_TOX']].corr()\n",
    "plt.imshow(correlation_matrix, cmap='coolwarm', vmin=-1, vmax=1, aspect='auto')\n",
    "plt.colorbar()\n",
    "plt.xticks([0, 1], ['FDA_APPROVED', 'CT_TOX'])\n",
    "plt.yticks([0, 1], ['FDA_APPROVED', 'CT_TOX'])\n",
    "plt.title('Correlation Matrix')\n",
    "plt.show()"
   ]
  },
  {
   "attachments": {},
   "cell_type": "markdown",
   "metadata": {},
   "source": [
    "From the distributions of CT_TOX we can see that the dataset is unbalanced, as there are way more non toxic drugs than toxic drugs in it. The same for FDA_APPROVED, we have way more FDA approved drugs than non-FDA-approved drugs in the dataset.\n",
    "\n",
    "It seems there is a net inverse correlation between FDA_APPROVED and CT_TOX. IT makes sense that FDA approved drugs are not toxic."
   ]
  },
  {
   "cell_type": "code",
   "execution_count": null,
   "metadata": {},
   "outputs": [],
   "source": []
  },
  {
   "attachments": {},
   "cell_type": "markdown",
   "metadata": {},
   "source": [
    "#### Tox21 dataset"
   ]
  },
  {
   "cell_type": "code",
   "execution_count": 17,
   "metadata": {},
   "outputs": [
    {
     "data": {
      "image/png": "[encoded data removed]",
      "text/plain": [
       "<Figure size 1200x1000 with 12 Axes>"
      ]
     },
     "metadata": {},
     "output_type": "display_data"
    },
    {
     "data": {
      "image/png": "[encoded data removed]",
      "text/plain": [
       "<Figure size 1000x800 with 2 Axes>"
      ]
     },
     "metadata": {},
     "output_type": "display_data"
    }
   ],
   "source": [
    "# Plot the distribution of each target column\n",
    "plt.figure(figsize=(12, 10))\n",
    "target_columns = tox21.columns[:-2]  # Exclude 'mol_id' and 'smiles' columns\n",
    "for i, col in enumerate(target_columns):\n",
    "    plt.subplot(4, 4, i+1)\n",
    "    tox21[col].value_counts().plot(kind='bar')\n",
    "    plt.title(f'Distribution of {col}')\n",
    "    plt.xlabel(col)\n",
    "    plt.ylabel('Count')\n",
    "plt.tight_layout()\n",
    "plt.show()\n",
    "\n",
    "# Plot the correlation matrix\n",
    "plt.figure(figsize=(10, 8))\n",
    "correlation_matrix = tox21.iloc[:, :-2].corr()\n",
    "plt.imshow(correlation_matrix, cmap='coolwarm', vmin=-1, vmax=1, aspect='auto')\n",
    "plt.colorbar()\n",
    "plt.xticks(range(len(target_columns)), target_columns, rotation=90)\n",
    "plt.yticks(range(len(target_columns)), target_columns)\n",
    "plt.title('Correlation Matrix')\n",
    "plt.tight_layout()\n",
    "plt.show()"
   ]
  },
  {
   "attachments": {},
   "cell_type": "markdown",
   "metadata": {},
   "source": [
    "All the features in Tox21 are metrics of toxicity of drugs. They follow the same distribution of CT_TOX seen in Clintox dataset.\n",
    "Also in this case thus we have way more non-toxic drugs than toxic drugs in the dataset.\n",
    "\n",
    "From the correlation matrix we can see that there is a small positive correlation between most of the toxicity metrics, but just 2 couples of 2 features have a quite high correlation coefficient between them. These are NR-AR with NR-AR-LBD, and NR-ER with NR-ER-LBD.\n",
    "After having searched a bit of information on these features, we found that they are all nuclear receptor signaling bioassays results, and the couples of features have very similar meaning, so the correlation is of course there."
   ]
  },
  {
   "cell_type": "code",
   "execution_count": null,
   "metadata": {},
   "outputs": [],
   "source": []
  },
  {
   "attachments": {},
   "cell_type": "markdown",
   "metadata": {},
   "source": [
    "## Data Pre-Processing"
   ]
  },
  {
   "attachments": {},
   "cell_type": "markdown",
   "metadata": {},
   "source": [
    "### Process data"
   ]
  },
  {
   "cell_type": "code",
   "execution_count": 18,
   "metadata": {},
   "outputs": [],
   "source": [
    "# Remove non valid rows (SMILES that cannot be converted to Canonical SMILES)\n",
    "def remove_non_valid_rows(df: pd.DataFrame) -> pd.DataFrame:\n",
    "    mol_list = []\n",
    "    valid_rows = []\n",
    "    for i, row in df.iterrows():\n",
    "        mol = Chem.MolFromSmiles(row['smiles'])\n",
    "        if mol is not None:\n",
    "            mol_list.append(mol)\n",
    "            valid_rows.append(row)\n",
    "\n",
    "    df = pd.DataFrame(valid_rows)\n",
    "    return df"
   ]
  },
  {
   "attachments": {},
   "cell_type": "markdown",
   "metadata": {},
   "source": [
    "#### Clintox dataset"
   ]
  },
  {
   "cell_type": "code",
   "execution_count": 19,
   "metadata": {},
   "outputs": [
    {
     "name": "stdout",
     "output_type": "stream",
     "text": [
      "Clintox dataset dimensions with duplicates: (1491, 3)\n",
      "Clintox dataset dimensions without duplicates: (1484, 3)\n"
     ]
    },
    {
     "name": "stderr",
     "output_type": "stream",
     "text": [
      "[21:42:33] Explicit valence for atom # 0 N, 5, is greater than permitted\n",
      "[21:42:33] Can't kekulize mol.  Unkekulized atoms: 9\n"
     ]
    },
    {
     "name": "stdout",
     "output_type": "stream",
     "text": [
      "Clintox dataset dimensions without non valid rows: (1478, 3)\n"
     ]
    },
    {
     "name": "stderr",
     "output_type": "stream",
     "text": [
      "[21:42:33] Explicit valence for atom # 10 N, 4, is greater than permitted\n",
      "[21:42:33] Explicit valence for atom # 10 N, 4, is greater than permitted\n",
      "[21:42:33] Can't kekulize mol.  Unkekulized atoms: 4\n",
      "[21:42:33] Can't kekulize mol.  Unkekulized atoms: 4\n"
     ]
    },
    {
     "data": {
      "text/html": [
       "<div>\n",
       "<style scoped>\n",
       "    .dataframe tbody tr th:only-of-type {\n",
       "        vertical-align: middle;\n",
       "    }\n",
       "\n",
       "    .dataframe tbody tr th {\n",
       "        vertical-align: top;\n",
       "    }\n",
       "\n",
       "    .dataframe thead th {\n",
       "        text-align: right;\n",
       "    }\n",
       "</style>\n",
       "<table border=\"1\" class=\"dataframe\">\n",
       "  <thead>\n",
       "    <tr style=\"text-align: right;\">\n",
       "      <th></th>\n",
       "      <th>smiles</th>\n",
       "      <th>FDA_APPROVED</th>\n",
       "      <th>CT_TOX</th>\n",
       "    </tr>\n",
       "  </thead>\n",
       "  <tbody>\n",
       "    <tr>\n",
       "      <th>0</th>\n",
       "      <td>*C(=O)[C@H](CCCCNC(=O)OCCOC)NC(=O)OCCOC</td>\n",
       "      <td>1</td>\n",
       "      <td>0</td>\n",
       "    </tr>\n",
       "    <tr>\n",
       "      <th>1</th>\n",
       "      <td>[C@@H]1([C@@H]([C@@H]([C@H]([C@@H]([C@@H]1Cl)C...</td>\n",
       "      <td>1</td>\n",
       "      <td>0</td>\n",
       "    </tr>\n",
       "    <tr>\n",
       "      <th>2</th>\n",
       "      <td>[C@H]([C@@H]([C@@H](C(=O)[O-])O)O)([C@H](C(=O)...</td>\n",
       "      <td>1</td>\n",
       "      <td>0</td>\n",
       "    </tr>\n",
       "  </tbody>\n",
       "</table>\n",
       "</div>"
      ],
      "text/plain": [
       "                                              smiles  FDA_APPROVED  CT_TOX\n",
       "0            *C(=O)[C@H](CCCCNC(=O)OCCOC)NC(=O)OCCOC             1       0\n",
       "1  [C@@H]1([C@@H]([C@@H]([C@H]([C@@H]([C@@H]1Cl)C...             1       0\n",
       "2  [C@H]([C@@H]([C@@H](C(=O)[O-])O)O)([C@H](C(=O)...             1       0"
      ]
     },
     "execution_count": 19,
     "metadata": {},
     "output_type": "execute_result"
    }
   ],
   "source": [
    "# Clean the database, check for redundancy and remove duplicates\n",
    "\n",
    "# Remove duplicated rows\n",
    "print('Clintox dataset dimensions with duplicates:', clintox.shape)\n",
    "clintox.drop_duplicates(inplace=True) # Drop duplicated rows\n",
    "print('Clintox dataset dimensions without duplicates:', clintox.shape)\n",
    "\n",
    "# Remove non valid rows (SMILES that cannot be converted to Canonical SMILES, null SMILES, duplicated SMILES)\n",
    "clintox = remove_non_valid_rows(clintox) # remove rows with non valid SMILES\n",
    "clintox.drop_duplicates(subset = ['smiles'], inplace=True) # Remove duplicated canonical SMILES\n",
    "clintox.dropna(subset=['smiles'], inplace=True) # Remove null SMILES\n",
    "print('Clintox dataset dimensions without non valid rows:', clintox.shape)\n",
    "clintox.head(3)"
   ]
  },
  {
   "cell_type": "code",
   "execution_count": 20,
   "metadata": {},
   "outputs": [
    {
     "data": {
      "text/plain": [
       "smiles          0\n",
       "FDA_APPROVED    0\n",
       "CT_TOX          0\n",
       "dtype: int64"
      ]
     },
     "execution_count": 20,
     "metadata": {},
     "output_type": "execute_result"
    }
   ],
   "source": [
    "# Check for null values\n",
    "clintox.isna().sum()"
   ]
  },
  {
   "attachments": {},
   "cell_type": "markdown",
   "metadata": {},
   "source": [
    "#### Tox21 dataset"
   ]
  },
  {
   "cell_type": "code",
   "execution_count": 21,
   "metadata": {},
   "outputs": [
    {
     "name": "stdout",
     "output_type": "stream",
     "text": [
      "Tox21 dataset dimensions with duplicates: (8014, 14)\n",
      "Tox21 dataset dimensions without duplicates: (8014, 14)\n"
     ]
    },
    {
     "name": "stderr",
     "output_type": "stream",
     "text": [
      "[21:42:34] WARNING: not removing hydrogen atom without neighbors\n"
     ]
    },
    {
     "name": "stdout",
     "output_type": "stream",
     "text": [
      "Tox21 dataset dimensions without non valid rows: (7831, 14)\n"
     ]
    },
    {
     "data": {
      "text/html": [
       "<div>\n",
       "<style scoped>\n",
       "    .dataframe tbody tr th:only-of-type {\n",
       "        vertical-align: middle;\n",
       "    }\n",
       "\n",
       "    .dataframe tbody tr th {\n",
       "        vertical-align: top;\n",
       "    }\n",
       "\n",
       "    .dataframe thead th {\n",
       "        text-align: right;\n",
       "    }\n",
       "</style>\n",
       "<table border=\"1\" class=\"dataframe\">\n",
       "  <thead>\n",
       "    <tr style=\"text-align: right;\">\n",
       "      <th></th>\n",
       "      <th>NR-AR</th>\n",
       "      <th>NR-AR-LBD</th>\n",
       "      <th>NR-AhR</th>\n",
       "      <th>NR-Aromatase</th>\n",
       "      <th>NR-ER</th>\n",
       "      <th>NR-ER-LBD</th>\n",
       "      <th>NR-PPAR-gamma</th>\n",
       "      <th>SR-ARE</th>\n",
       "      <th>SR-ATAD5</th>\n",
       "      <th>SR-HSE</th>\n",
       "      <th>SR-MMP</th>\n",
       "      <th>SR-p53</th>\n",
       "      <th>mol_id</th>\n",
       "      <th>smiles</th>\n",
       "    </tr>\n",
       "  </thead>\n",
       "  <tbody>\n",
       "    <tr>\n",
       "      <th>0</th>\n",
       "      <td>0.0</td>\n",
       "      <td>0.0</td>\n",
       "      <td>1.0</td>\n",
       "      <td>NaN</td>\n",
       "      <td>NaN</td>\n",
       "      <td>0.0</td>\n",
       "      <td>0.0</td>\n",
       "      <td>1.0</td>\n",
       "      <td>0.0</td>\n",
       "      <td>0.0</td>\n",
       "      <td>0.0</td>\n",
       "      <td>0.0</td>\n",
       "      <td>TOX3021</td>\n",
       "      <td>CCOc1ccc2nc(S(N)(=O)=O)sc2c1</td>\n",
       "    </tr>\n",
       "    <tr>\n",
       "      <th>1</th>\n",
       "      <td>0.0</td>\n",
       "      <td>0.0</td>\n",
       "      <td>0.0</td>\n",
       "      <td>0.0</td>\n",
       "      <td>0.0</td>\n",
       "      <td>0.0</td>\n",
       "      <td>0.0</td>\n",
       "      <td>NaN</td>\n",
       "      <td>0.0</td>\n",
       "      <td>NaN</td>\n",
       "      <td>0.0</td>\n",
       "      <td>0.0</td>\n",
       "      <td>TOX3020</td>\n",
       "      <td>CCN1C(=O)NC(c2ccccc2)C1=O</td>\n",
       "    </tr>\n",
       "    <tr>\n",
       "      <th>2</th>\n",
       "      <td>NaN</td>\n",
       "      <td>NaN</td>\n",
       "      <td>NaN</td>\n",
       "      <td>NaN</td>\n",
       "      <td>NaN</td>\n",
       "      <td>NaN</td>\n",
       "      <td>NaN</td>\n",
       "      <td>0.0</td>\n",
       "      <td>NaN</td>\n",
       "      <td>0.0</td>\n",
       "      <td>NaN</td>\n",
       "      <td>NaN</td>\n",
       "      <td>TOX3024</td>\n",
       "      <td>CC[C@]1(O)CC[C@H]2[C@@H]3CCC4=CCCC[C@@H]4[C@H]...</td>\n",
       "    </tr>\n",
       "  </tbody>\n",
       "</table>\n",
       "</div>"
      ],
      "text/plain": [
       "   NR-AR  NR-AR-LBD  NR-AhR  NR-Aromatase  NR-ER  NR-ER-LBD  NR-PPAR-gamma   \n",
       "0    0.0        0.0     1.0           NaN    NaN        0.0            0.0  \\\n",
       "1    0.0        0.0     0.0           0.0    0.0        0.0            0.0   \n",
       "2    NaN        NaN     NaN           NaN    NaN        NaN            NaN   \n",
       "\n",
       "   SR-ARE  SR-ATAD5  SR-HSE  SR-MMP  SR-p53   mol_id   \n",
       "0     1.0       0.0     0.0     0.0     0.0  TOX3021  \\\n",
       "1     NaN       0.0     NaN     0.0     0.0  TOX3020   \n",
       "2     0.0       NaN     0.0     NaN     NaN  TOX3024   \n",
       "\n",
       "                                              smiles  \n",
       "0                       CCOc1ccc2nc(S(N)(=O)=O)sc2c1  \n",
       "1                          CCN1C(=O)NC(c2ccccc2)C1=O  \n",
       "2  CC[C@]1(O)CC[C@H]2[C@@H]3CCC4=CCCC[C@@H]4[C@H]...  "
      ]
     },
     "execution_count": 21,
     "metadata": {},
     "output_type": "execute_result"
    }
   ],
   "source": [
    "# Clean the database, check for redundancy and remove duplicates\n",
    "\n",
    "# Remove duplicated rows\n",
    "print('Tox21 dataset dimensions with duplicates:', tox21.shape)\n",
    "tox21.drop_duplicates(inplace=True) # Drop duplicated rows\n",
    "print('Tox21 dataset dimensions without duplicates:', tox21.shape)\n",
    "\n",
    "# Remove non valid rows (SMILES that cannot be converted to Canonical SMILES, null SMILES, duplicated SMILES)\n",
    "tox21 = remove_non_valid_rows(tox21) # remove rows with non valid SMILES\n",
    "tox21.drop_duplicates(subset = ['smiles'], inplace=True) # Remove duplicated canonical SMILES\n",
    "tox21.dropna(subset=['smiles'], inplace=True) # Remove null SMILES\n",
    "print('Tox21 dataset dimensions without non valid rows:', tox21.shape)\n",
    "tox21.head(3)"
   ]
  },
  {
   "cell_type": "code",
   "execution_count": 22,
   "metadata": {},
   "outputs": [
    {
     "data": {
      "text/plain": [
       "NR-AR             569\n",
       "NR-AR-LBD        1083\n",
       "NR-AhR           1299\n",
       "NR-Aromatase     2030\n",
       "NR-ER            1651\n",
       "NR-ER-LBD         886\n",
       "NR-PPAR-gamma    1395\n",
       "SR-ARE           2026\n",
       "SR-ATAD5          763\n",
       "SR-HSE           1381\n",
       "SR-MMP           2041\n",
       "SR-p53           1072\n",
       "mol_id              0\n",
       "smiles              0\n",
       "dtype: int64"
      ]
     },
     "execution_count": 22,
     "metadata": {},
     "output_type": "execute_result"
    }
   ],
   "source": [
    "# Check for null values\n",
    "tox21.isna().sum()"
   ]
  },
  {
   "attachments": {},
   "cell_type": "markdown",
   "metadata": {},
   "source": [
    "Check what to do with all these null values\n",
    "We have already removed all the rows with null SMILES"
   ]
  },
  {
   "cell_type": "code",
   "execution_count": 23,
   "metadata": {},
   "outputs": [],
   "source": [
    "# Replace NA with -1 -- used to deal with missing labels, along with Binary Cross-Entropy loss\n",
    "# Nulls are thus considered a third class\n",
    "tox21 = tox21.fillna(-1)"
   ]
  },
  {
   "cell_type": "code",
   "execution_count": 24,
   "metadata": {},
   "outputs": [
    {
     "data": {
      "text/plain": [
       "NR-AR            0\n",
       "NR-AR-LBD        0\n",
       "NR-AhR           0\n",
       "NR-Aromatase     0\n",
       "NR-ER            0\n",
       "NR-ER-LBD        0\n",
       "NR-PPAR-gamma    0\n",
       "SR-ARE           0\n",
       "SR-ATAD5         0\n",
       "SR-HSE           0\n",
       "SR-MMP           0\n",
       "SR-p53           0\n",
       "mol_id           0\n",
       "smiles           0\n",
       "dtype: int64"
      ]
     },
     "execution_count": 24,
     "metadata": {},
     "output_type": "execute_result"
    }
   ],
   "source": [
    "# Check for null values\n",
    "tox21.isna().sum()"
   ]
  },
  {
   "attachments": {},
   "cell_type": "markdown",
   "metadata": {},
   "source": [
    "### Train-test split\n",
    "In the reference papers the split of data is provided, so we'll use their same splits in order to be able to compare our results with the state-of-the-art performances."
   ]
  },
  {
   "attachments": {},
   "cell_type": "markdown",
   "metadata": {},
   "source": [
    "#### Clintox Dataset"
   ]
  },
  {
   "cell_type": "code",
   "execution_count": 25,
   "metadata": {},
   "outputs": [],
   "source": [
    "### Method borrowed from MoleculeNet for random splits of 0.8 / 0.1 / 0.1, train / test / valid \n",
    "# Returns index of random train, test, valid datasets in array of [train,test,valid]\n",
    "def split(dataset,\n",
    "            seed=None,\n",
    "            frac_train=.8,\n",
    "            frac_valid=.1,\n",
    "            frac_test=.1,\n",
    "            log_every_n=None):\n",
    "    \"\"\"\n",
    "    Splits internal compounds randomly into train/validation/test.\n",
    "    \"\"\"\n",
    "    np.testing.assert_almost_equal(frac_train + frac_valid + frac_test, 1.)\n",
    "    if not seed is None:\n",
    "        np.random.seed(seed)\n",
    "    num_datapoints = len(dataset)\n",
    "    train_cutoff = int(frac_train * num_datapoints)\n",
    "    valid_cutoff = int((frac_train + frac_valid) * num_datapoints)\n",
    "    shuffled = np.random.permutation(range(num_datapoints))\n",
    "    return (shuffled[:train_cutoff], shuffled[train_cutoff:valid_cutoff],\n",
    "            shuffled[valid_cutoff:])"
   ]
  },
  {
   "cell_type": "code",
   "execution_count": 26,
   "metadata": {},
   "outputs": [],
   "source": [
    "# Split the Clintox dataset into train-test-validation sets with ratios 0.8/0.1/0.1\n",
    "train_indices, test_indices, valid_indices = split(clintox, frac_train=0.8, frac_valid=0.1, frac_test=0.1)  # Use random seed from MoleculeNet\n",
    "\n",
    "clintox_train = clintox.iloc[train_indices]\n",
    "clintox_test = clintox.iloc[test_indices]\n",
    "clintox_val = clintox.iloc[valid_indices]\n",
    "\n",
    "clintox_data = [clintox_train, clintox_test, clintox_val]\n"
   ]
  },
  {
   "cell_type": "code",
   "execution_count": 27,
   "metadata": {},
   "outputs": [
    {
     "name": "stdout",
     "output_type": "stream",
     "text": [
      "Total number of samples, train: 1182\n",
      "Total number of samples, test: 148\n",
      "Total number of samples, valid: 148\n",
      "Total number of samples, train+test+valid: 1478\n"
     ]
    }
   ],
   "source": [
    "# Check the number of samples in each set\n",
    "print(\"Total number of samples, train: \" + str(clintox_data[0].shape[0]))\n",
    "print(\"Total number of samples, test: \" + str(clintox_data[1].shape[0]))\n",
    "print(\"Total number of samples, valid: \" + str(clintox_data[2].shape[0]))\n",
    "print(\"Total number of samples, train+test+valid: \" + str(clintox_data[0].shape[0] + \n",
    "                                                           clintox_data[1].shape[0] + \n",
    "                                                           clintox_data[2].shape[0]))"
   ]
  },
  {
   "cell_type": "code",
   "execution_count": null,
   "metadata": {},
   "outputs": [],
   "source": []
  },
  {
   "attachments": {},
   "cell_type": "markdown",
   "metadata": {},
   "source": [
    "#### Tox21 Dataset"
   ]
  },
  {
   "cell_type": "code",
   "execution_count": 28,
   "metadata": {},
   "outputs": [],
   "source": [
    "# Split the Tox21 dataset into train-test-validation sets with ratios 0.8/0.1/0.1\n",
    "train_indices, test_indices, valid_indices = split(tox21, frac_train=0.8, frac_valid=0.1, frac_test=0.1)  # Use random seed from MoleculeNet\n",
    "\n",
    "tox21_train = tox21.iloc[train_indices]\n",
    "tox21_test = tox21.iloc[test_indices]\n",
    "tox21_val = tox21.iloc[valid_indices]\n",
    "\n",
    "tox21_data = [tox21_train, tox21_test, tox21_val]"
   ]
  },
  {
   "cell_type": "code",
   "execution_count": 29,
   "metadata": {},
   "outputs": [
    {
     "name": "stdout",
     "output_type": "stream",
     "text": [
      "Total number of samples, train: 6264\n",
      "Total number of samples, test: 783\n",
      "Total number of samples, valid: 784\n",
      "Total number of samples, train+test+valid: 7831\n"
     ]
    }
   ],
   "source": [
    "# Check the number of samples in each set\n",
    "print(\"Total number of samples, train: \" + str(tox21_data[0].shape[0]))\n",
    "print(\"Total number of samples, test: \" + str(tox21_data[1].shape[0]))\n",
    "print(\"Total number of samples, valid: \" + str(tox21_data[2].shape[0]))\n",
    "print(\"Total number of samples, train+test+valid: \" + str(tox21_data[0].shape[0] + \n",
    "                                                           tox21_data[1].shape[0] + \n",
    "                                                           tox21_data[2].shape[0]))"
   ]
  },
  {
   "attachments": {},
   "cell_type": "markdown",
   "metadata": {},
   "source": [
    "## Modelling"
   ]
  },
  {
   "attachments": {},
   "cell_type": "markdown",
   "metadata": {},
   "source": [
    "### Using Clintox data"
   ]
  },
  {
   "attachments": {},
   "cell_type": "markdown",
   "metadata": {},
   "source": [
    "#### Construct Morgan fingerprints"
   ]
  },
  {
   "cell_type": "code",
   "execution_count": 30,
   "metadata": {},
   "outputs": [],
   "source": [
    "CLINTOX_TARGET = 'CT_TOX'"
   ]
  },
  {
   "cell_type": "code",
   "execution_count": 31,
   "metadata": {},
   "outputs": [],
   "source": [
    "# Save a copy of train-test-val splits before adding informations\n",
    "clintox_df = []\n",
    "clintox_df.append(clintox_data[0].copy())\n",
    "clintox_df.append(clintox_data[1].copy())\n",
    "clintox_df.append(clintox_data[2].copy())"
   ]
  },
  {
   "cell_type": "code",
   "execution_count": 32,
   "metadata": {},
   "outputs": [
    {
     "data": {
      "text/html": [
       "<div>\n",
       "<style scoped>\n",
       "    .dataframe tbody tr th:only-of-type {\n",
       "        vertical-align: middle;\n",
       "    }\n",
       "\n",
       "    .dataframe tbody tr th {\n",
       "        vertical-align: top;\n",
       "    }\n",
       "\n",
       "    .dataframe thead th {\n",
       "        text-align: right;\n",
       "    }\n",
       "</style>\n",
       "<table border=\"1\" class=\"dataframe\">\n",
       "  <thead>\n",
       "    <tr style=\"text-align: right;\">\n",
       "      <th></th>\n",
       "      <th>smiles</th>\n",
       "      <th>FDA_APPROVED</th>\n",
       "      <th>CT_TOX</th>\n",
       "    </tr>\n",
       "  </thead>\n",
       "  <tbody>\n",
       "    <tr>\n",
       "      <th>755</th>\n",
       "      <td>CC(C)CN(C[C@H]([C@H](Cc1ccccc1)NC(=O)O[C@H]2CC...</td>\n",
       "      <td>1</td>\n",
       "      <td>0</td>\n",
       "    </tr>\n",
       "    <tr>\n",
       "      <th>96</th>\n",
       "      <td>C1[C@H](C(=O)NO1)[NH3+]</td>\n",
       "      <td>1</td>\n",
       "      <td>0</td>\n",
       "    </tr>\n",
       "    <tr>\n",
       "      <th>671</th>\n",
       "      <td>CC(C)(C#N)C1=CC=C(C=C1)N2C3=C4C=C(C=CC4=NC=C3N...</td>\n",
       "      <td>0</td>\n",
       "      <td>1</td>\n",
       "    </tr>\n",
       "  </tbody>\n",
       "</table>\n",
       "</div>"
      ],
      "text/plain": [
       "                                                smiles  FDA_APPROVED  CT_TOX\n",
       "755  CC(C)CN(C[C@H]([C@H](Cc1ccccc1)NC(=O)O[C@H]2CC...             1       0\n",
       "96                             C1[C@H](C(=O)NO1)[NH3+]             1       0\n",
       "671  CC(C)(C#N)C1=CC=C(C=C1)N2C3=C4C=C(C=CC4=NC=C3N...             0       1"
      ]
     },
     "execution_count": 32,
     "metadata": {},
     "output_type": "execute_result"
    }
   ],
   "source": [
    "# Check clintox_data\n",
    "clintox_data[0].head(3)"
   ]
  },
  {
   "cell_type": "code",
   "execution_count": 33,
   "metadata": {},
   "outputs": [],
   "source": [
    "# Construct morgan fingerprints \n",
    "for i in range(len(clintox_data)):\n",
    "    clintox_data[i]['mol'] = [rd.Chem.MolFromSmiles(x) for x in clintox_data[i]['smiles']]\n",
    "\n",
    "    bi = [{} for _ in range(len(clintox_data[i]))]\n",
    "    clintox_data[i]['morgan'] = [AllChem.GetMorganFingerprintAsBitVect(clintox_data[i].iloc[j]['mol'], MORGAN_RADIUS, nBits = MORGAN_BITS, bitInfo=bi[j]) \n",
    "                         for j in range(len(clintox_data[i]))]\n",
    "    clintox_data[i]['bitInfo'] = bi"
   ]
  },
  {
   "cell_type": "code",
   "execution_count": 34,
   "metadata": {},
   "outputs": [
    {
     "data": {
      "text/html": [
       "<div>\n",
       "<style scoped>\n",
       "    .dataframe tbody tr th:only-of-type {\n",
       "        vertical-align: middle;\n",
       "    }\n",
       "\n",
       "    .dataframe tbody tr th {\n",
       "        vertical-align: top;\n",
       "    }\n",
       "\n",
       "    .dataframe thead th {\n",
       "        text-align: right;\n",
       "    }\n",
       "</style>\n",
       "<table border=\"1\" class=\"dataframe\">\n",
       "  <thead>\n",
       "    <tr style=\"text-align: right;\">\n",
       "      <th></th>\n",
       "      <th>smiles</th>\n",
       "      <th>FDA_APPROVED</th>\n",
       "      <th>CT_TOX</th>\n",
       "      <th>mol</th>\n",
       "      <th>morgan</th>\n",
       "      <th>bitInfo</th>\n",
       "    </tr>\n",
       "  </thead>\n",
       "  <tbody>\n",
       "    <tr>\n",
       "      <th>755</th>\n",
       "      <td>CC(C)CN(C[C@H]([C@H](Cc1ccccc1)NC(=O)O[C@H]2CC...</td>\n",
       "      <td>1</td>\n",
       "      <td>0</td>\n",
       "      <td>&lt;rdkit.Chem.rdchem.Mol object at 0x000002223F2...</td>\n",
       "      <td>[0, 0, 0, 0, 0, 0, 0, 0, 0, 0, 0, 0, 0, 0, 0, ...</td>\n",
       "      <td>{32: ((18, 2),), 117: ((15, 1),), 119: ((19, 1...</td>\n",
       "    </tr>\n",
       "    <tr>\n",
       "      <th>96</th>\n",
       "      <td>C1[C@H](C(=O)NO1)[NH3+]</td>\n",
       "      <td>1</td>\n",
       "      <td>0</td>\n",
       "      <td>&lt;rdkit.Chem.rdchem.Mol object at 0x000002223F2...</td>\n",
       "      <td>[0, 0, 0, 0, 0, 0, 0, 0, 0, 0, 0, 0, 0, 0, 0, ...</td>\n",
       "      <td>{656: ((5, 0),), 1124: ((6, 1),), 1380: ((2, 0...</td>\n",
       "    </tr>\n",
       "    <tr>\n",
       "      <th>671</th>\n",
       "      <td>CC(C)(C#N)C1=CC=C(C=C1)N2C3=C4C=C(C=CC4=NC=C3N...</td>\n",
       "      <td>0</td>\n",
       "      <td>1</td>\n",
       "      <td>&lt;rdkit.Chem.rdchem.Mol object at 0x000002223F2...</td>\n",
       "      <td>[0, 0, 0, 0, 0, 0, 0, 0, 0, 0, 0, 0, 0, 0, 0, ...</td>\n",
       "      <td>{45: ((21, 1),), 58: ((8, 2),), 204: ((27, 2),...</td>\n",
       "    </tr>\n",
       "  </tbody>\n",
       "</table>\n",
       "</div>"
      ],
      "text/plain": [
       "                                                smiles  FDA_APPROVED  CT_TOX   \n",
       "755  CC(C)CN(C[C@H]([C@H](Cc1ccccc1)NC(=O)O[C@H]2CC...             1       0  \\\n",
       "96                             C1[C@H](C(=O)NO1)[NH3+]             1       0   \n",
       "671  CC(C)(C#N)C1=CC=C(C=C1)N2C3=C4C=C(C=CC4=NC=C3N...             0       1   \n",
       "\n",
       "                                                   mol   \n",
       "755  <rdkit.Chem.rdchem.Mol object at 0x000002223F2...  \\\n",
       "96   <rdkit.Chem.rdchem.Mol object at 0x000002223F2...   \n",
       "671  <rdkit.Chem.rdchem.Mol object at 0x000002223F2...   \n",
       "\n",
       "                                                morgan   \n",
       "755  [0, 0, 0, 0, 0, 0, 0, 0, 0, 0, 0, 0, 0, 0, 0, ...  \\\n",
       "96   [0, 0, 0, 0, 0, 0, 0, 0, 0, 0, 0, 0, 0, 0, 0, ...   \n",
       "671  [0, 0, 0, 0, 0, 0, 0, 0, 0, 0, 0, 0, 0, 0, 0, ...   \n",
       "\n",
       "                                               bitInfo  \n",
       "755  {32: ((18, 2),), 117: ((15, 1),), 119: ((19, 1...  \n",
       "96   {656: ((5, 0),), 1124: ((6, 1),), 1380: ((2, 0...  \n",
       "671  {45: ((21, 1),), 58: ((8, 2),), 204: ((27, 2),...  "
      ]
     },
     "execution_count": 34,
     "metadata": {},
     "output_type": "execute_result"
    }
   ],
   "source": [
    "# Check clintox_data\n",
    "clintox_data[0].head(3)"
   ]
  },
  {
   "cell_type": "code",
   "execution_count": 35,
   "metadata": {},
   "outputs": [],
   "source": [
    "# Split data into training, testing and valuidation sets\n",
    "train_data = clintox_data[0]\n",
    "test_data  = clintox_data[1]\n",
    "valid_data = clintox_data[2]"
   ]
  },
  {
   "attachments": {},
   "cell_type": "markdown",
   "metadata": {},
   "source": [
    "#### Arrays for train / test / valid sets used for DNN "
   ]
  },
  {
   "cell_type": "code",
   "execution_count": 36,
   "metadata": {},
   "outputs": [],
   "source": [
    "# convert the RDKit explicit vectors into numpy arrays\n",
    "x_train = []\n",
    "for fp in train_data['morgan']:\n",
    "    arr = np.zeros((1,))\n",
    "    DataStructs.ConvertToNumpyArray(fp, arr)\n",
    "    x_train.append(arr)\n",
    "x_train = np.array(x_train)\n",
    "x_train = x_train - 0.5\n",
    "\n",
    "y_train = train_data[clintox_task].values\n",
    "\n",
    "\n",
    "# convert the RDKit explicit vectors into numpy arrays\n",
    "x_test = []\n",
    "for fp in test_data['morgan']:\n",
    "    arr = np.zeros((1,))\n",
    "    DataStructs.ConvertToNumpyArray(fp, arr)\n",
    "    x_test.append(arr)\n",
    "x_test = np.array(x_test)\n",
    "x_test = x_test - 0.5\n",
    "\n",
    "y_test = test_data[clintox_task].values\n",
    "\n",
    "\n",
    "# convert the RDKit explicit vectors into numpy arrays\n",
    "x_valid = []\n",
    "for fp in valid_data['morgan']:\n",
    "    arr = np.zeros((1,))\n",
    "    DataStructs.ConvertToNumpyArray(fp, arr)\n",
    "    x_valid.append(arr)\n",
    "x_valid = np.array(x_valid)\n",
    "x_valid = x_valid - 0.5\n",
    "\n",
    "y_valid = valid_data[clintox_task].values"
   ]
  },
  {
   "cell_type": "code",
   "execution_count": 37,
   "metadata": {},
   "outputs": [],
   "source": [
    "# count the number of data points per class\n",
    "N_train = np.sum(y_train >= 0, 0)\n",
    "N_test  = np.sum(y_test >= 0, 0)\n",
    "N_valid  = np.sum(y_valid >= 0, 0)"
   ]
  },
  {
   "attachments": {},
   "cell_type": "markdown",
   "metadata": {},
   "source": [
    "#### Reference model"
   ]
  },
  {
   "cell_type": "code",
   "execution_count": 38,
   "metadata": {},
   "outputs": [],
   "source": [
    "# Parameters for the model \n",
    "train_epoch = 50 \n",
    "batch = 512 "
   ]
  },
  {
   "cell_type": "code",
   "execution_count": 39,
   "metadata": {},
   "outputs": [],
   "source": [
    "# convert data for pytorch\n",
    "x_train_torch = x_train.astype(np.float32)\n",
    "y_train_torch = y_train.astype(np.float32)\n",
    "\n",
    "x_test_torch = x_test.astype(np.float32)\n",
    "y_test_torch = y_test.astype(np.float32)\n",
    "\n",
    "x_valid_torch = x_valid.astype(np.float32)\n",
    "y_valid_torch = y_valid.astype(np.float32)"
   ]
  },
  {
   "cell_type": "code",
   "execution_count": 40,
   "metadata": {},
   "outputs": [
    {
     "data": {
      "text/plain": [
       "4096"
      ]
     },
     "execution_count": 40,
     "metadata": {},
     "output_type": "execute_result"
    }
   ],
   "source": [
    "input_shape = x_train_torch.shape[1]\n",
    "input_shape"
   ]
  },
  {
   "cell_type": "code",
   "execution_count": 41,
   "metadata": {},
   "outputs": [],
   "source": [
    "# Class for STDNN data\n",
    "class STDNNData(Dataset):\n",
    "\n",
    "    def __init__(self, x, y):\n",
    "        self.x = x\n",
    "        self.y = y\n",
    "\n",
    "    def __len__(self):\n",
    "        return len(self.x)\n",
    "\n",
    "    def __getitem__(self, idx):\n",
    "        return self.x[idx], self.y[idx]"
   ]
  },
  {
   "cell_type": "code",
   "execution_count": 42,
   "metadata": {},
   "outputs": [],
   "source": [
    "training_set = STDNNData(x_train_torch, y_train_torch)\n",
    "training_generator = DataLoader(training_set, batch_size=batch, shuffle=True)\n",
    "\n",
    "testing_set = STDNNData(x_test_torch, y_test_torch)\n",
    "testing_generator = DataLoader(testing_set, batch_size=len(testing_set), shuffle=False)\n",
    "\n",
    "valid_set = STDNNData(x_valid_torch, y_valid_torch)\n",
    "valid_generator = DataLoader(valid_set, batch_size=len(valid_set), shuffle=False)"
   ]
  },
  {
   "cell_type": "code",
   "execution_count": 43,
   "metadata": {},
   "outputs": [],
   "source": [
    "# STDNN Model class\n",
    "# For each task (1 only in ClinTox), creates 2 hidden layers \n",
    "\n",
    "class STDNN(torch.nn.Module):\n",
    "    def __init__(self, input_shape, all_tasks):\n",
    "        super(STDNN, self).__init__()\n",
    "\n",
    "        self.hidden_3 = torch.nn.ModuleList([torch.nn.Linear(input_shape, 1024) for task in all_tasks])\n",
    "        self.batchnorm_3 = torch.nn.ModuleList([torch.nn.BatchNorm1d(1024) for task in all_tasks])\n",
    "       \n",
    "        self.hidden_4 = torch.nn.ModuleList([torch.nn.Linear(1024, 512) for task in all_tasks])\n",
    "        self.batchnorm_4 = torch.nn.ModuleList([torch.nn.BatchNorm1d(512) for task in all_tasks])\n",
    "        \n",
    "        self.output   = torch.nn.ModuleList([torch.nn.Linear(512, 1) for task in all_tasks])\n",
    "        \n",
    "        # function for leaky ReLU\n",
    "        self.leakyReLU = torch.nn.LeakyReLU(0.05)\n",
    "\n",
    "    def forward(self, x):        \n",
    "        x_task = [None for i in range(len(self.output))]  # initialize\n",
    "        for task in range(len(self.output)):\n",
    "            x_task[task] = self.hidden_3[task](x)\n",
    "            x_task[task] = self.batchnorm_3[task](x_task[task])\n",
    "            x_task[task] = self.leakyReLU(x_task[task])\n",
    "            \n",
    "            x_task[task] = self.hidden_4[task](x_task[task])\n",
    "            x_task[task] = self.batchnorm_4[task](x_task[task])\n",
    "            x_task[task] = self.leakyReLU(x_task[task])\n",
    "            \n",
    "            x_task[task] = self.output[task](x_task[task])\n",
    "            x_task[task] = torch.sigmoid(x_task[task])\n",
    "        \n",
    "        y_pred = x_task\n",
    "        \n",
    "        return y_pred\n",
    "    \n",
    "model_stdnn = STDNN(input_shape, clintox_task).to(device)"
   ]
  },
  {
   "cell_type": "code",
   "execution_count": 44,
   "metadata": {},
   "outputs": [],
   "source": [
    "# Define the loss\n",
    "criterion = torch.nn.BCELoss()\n",
    "\n",
    "# Optimizers require the parameters to optimize and a learning rate\n",
    "optimizer = torch.optim.Adam(model_stdnn.parameters(), lr = 0.001)"
   ]
  },
  {
   "cell_type": "code",
   "execution_count": 45,
   "metadata": {},
   "outputs": [
    {
     "name": "stdout",
     "output_type": "stream",
     "text": [
      "Epoch: 0 Training Loss: 0.0016221222467720509 Valid Loss: 0.004662106744945049\n",
      "Training Acc: 0.5693739424703892 Valid Acc: 0.7162162162162162\n",
      "Epoch: 1 Training Loss: 0.0008044223359320313 Valid Loss: 0.004439052194356918\n",
      "Training Acc: 0.9094754653130288 Valid Acc: 0.8986486486486487\n",
      "Epoch: 2 Training Loss: 0.0004632657946785912 Valid Loss: 0.002849081763997674\n",
      "Training Acc: 0.9763113367174281 Valid Acc: 0.9054054054054054\n",
      "Epoch: 3 Training Loss: 0.0002634546617628075 Valid Loss: 0.002616934012621641\n",
      "Training Acc: 0.9771573604060914 Valid Acc: 0.8918918918918919\n",
      "Epoch: 4 Training Loss: 0.00019393051479710266 Valid Loss: 0.00343285221606493\n",
      "Training Acc: 0.9847715736040609 Valid Acc: 0.9054054054054054\n",
      "Epoch: 5 Training Loss: 0.0001417616913386155 Valid Loss: 0.006319101434201002\n",
      "Training Acc: 0.9847715736040609 Valid Acc: 0.12162162162162163\n",
      "Epoch: 6 Training Loss: 0.00012231578875798732 Valid Loss: 0.007797684986144304\n",
      "Training Acc: 0.9847715736040609 Valid Acc: 0.10810810810810811\n",
      "Epoch: 7 Training Loss: 0.0001241346326423809 Valid Loss: 0.004659297410398722\n",
      "Training Acc: 0.9864636209813875 Valid Acc: 0.6283783783783784\n",
      "Epoch: 8 Training Loss: 9.708588186185807e-05 Valid Loss: 0.002429989632219076\n",
      "Training Acc: 0.9873096446700508 Valid Acc: 0.9121621621621622\n",
      "Epoch: 9 Training Loss: 9.071515341929626e-05 Valid Loss: 0.0021067385096102953\n",
      "Training Acc: 0.9873096446700508 Valid Acc: 0.8918918918918919\n",
      "Epoch: 10 Training Loss: 8.331130447913893e-05 Valid Loss: 0.002753310604020953\n",
      "Training Acc: 0.9890016920473773 Valid Acc: 0.9054054054054054\n",
      "Epoch: 11 Training Loss: 7.600663593620993e-05 Valid Loss: 0.006674276199191809\n",
      "Training Acc: 0.9890016920473773 Valid Acc: 0.40540540540540543\n",
      "Epoch: 12 Training Loss: 9.192980724037625e-05 Valid Loss: 0.011342979967594147\n",
      "Training Acc: 0.9864636209813875 Valid Acc: 0.1554054054054054\n",
      "Epoch: 13 Training Loss: 6.583114554814529e-05 Valid Loss: 0.0058776312507689\n",
      "Training Acc: 0.9906937394247038 Valid Acc: 0.581081081081081\n",
      "Epoch: 14 Training Loss: 6.725243292748928e-05 Valid Loss: 0.0027790700551122427\n",
      "Training Acc: 0.9890016920473773 Valid Acc: 0.8648648648648649\n",
      "Epoch: 15 Training Loss: 7.43099590181373e-05 Valid Loss: 0.0025057538878172636\n",
      "Training Acc: 0.9890016920473773 Valid Acc: 0.9054054054054054\n",
      "Epoch: 16 Training Loss: 6.834894520579837e-05 Valid Loss: 0.002860100707039237\n",
      "Training Acc: 0.9890016920473773 Valid Acc: 0.9054054054054054\n",
      "Epoch: 17 Training Loss: 6.781055344617926e-05 Valid Loss: 0.0030359856318682432\n",
      "Training Acc: 0.9898477157360406 Valid Acc: 0.9054054054054054\n",
      "Epoch: 18 Training Loss: 5.244027397566242e-05 Valid Loss: 0.002398397773504257\n",
      "Training Acc: 0.9906937394247038 Valid Acc: 0.9054054054054054\n",
      "Epoch: 19 Training Loss: 6.209307139215525e-05 Valid Loss: 0.003269543405622244\n",
      "Training Acc: 0.9898477157360406 Valid Acc: 0.8648648648648649\n",
      "Epoch: 20 Training Loss: 6.114875031926204e-05 Valid Loss: 0.007143883500248194\n",
      "Training Acc: 0.9890016920473773 Valid Acc: 0.5135135135135135\n",
      "Epoch: 21 Training Loss: 6.704412226099521e-05 Valid Loss: 0.005556757561862469\n",
      "Training Acc: 0.9898477157360406 Valid Acc: 0.6621621621621622\n",
      "Epoch: 22 Training Loss: 6.285078598011751e-05 Valid Loss: 0.0032547868322581053\n",
      "Training Acc: 0.9890016920473773 Valid Acc: 0.8851351351351351\n",
      "Epoch: 23 Training Loss: 6.517062138300389e-05 Valid Loss: 0.002727377926930785\n",
      "Training Acc: 0.9898477157360406 Valid Acc: 0.9054054054054054\n",
      "Epoch: 24 Training Loss: 5.206295372772729e-05 Valid Loss: 0.0028207101859152317\n",
      "Training Acc: 0.9890016920473773 Valid Acc: 0.8986486486486487\n",
      "Epoch: 25 Training Loss: 5.317585055308882e-05 Valid Loss: 0.003150047967210412\n",
      "Training Acc: 0.9890016920473773 Valid Acc: 0.8986486486486487\n",
      "Epoch: 26 Training Loss: 5.4764244850957766e-05 Valid Loss: 0.0030648147221654654\n",
      "Training Acc: 0.9890016920473773 Valid Acc: 0.8986486486486487\n",
      "Epoch: 27 Training Loss: 5.955121559964027e-05 Valid Loss: 0.002915437100455165\n",
      "Training Acc: 0.9906937394247038 Valid Acc: 0.8986486486486487\n",
      "Epoch: 28 Training Loss: 5.24864317412721e-05 Valid Loss: 0.004750561900436878\n",
      "Training Acc: 0.9873096446700508 Valid Acc: 0.75\n",
      "Epoch: 29 Training Loss: 4.149464598413033e-05 Valid Loss: 0.005601964425295591\n",
      "Training Acc: 0.9898477157360406 Valid Acc: 0.7027027027027027\n",
      "Epoch: 30 Training Loss: 6.762968223483767e-05 Valid Loss: 0.003445292357355356\n",
      "Training Acc: 0.9898477157360406 Valid Acc: 0.8648648648648649\n",
      "Epoch: 31 Training Loss: 4.646021898224717e-05 Valid Loss: 0.0030200406908988953\n",
      "Training Acc: 0.9873096446700508 Valid Acc: 0.9054054054054054\n",
      "Epoch: 32 Training Loss: 4.601607724907808e-05 Valid Loss: 0.0032988879829645157\n",
      "Training Acc: 0.9898477157360406 Valid Acc: 0.8986486486486487\n",
      "Epoch: 33 Training Loss: 3.9706300867692335e-05 Valid Loss: 0.00339969783090055\n",
      "Training Acc: 0.9898477157360406 Valid Acc: 0.8986486486486487\n",
      "Epoch: 34 Training Loss: 4.130448269279441e-05 Valid Loss: 0.0034093123394995928\n",
      "Training Acc: 0.9890016920473773 Valid Acc: 0.8986486486486487\n",
      "Epoch: 35 Training Loss: 5.266691096039722e-05 Valid Loss: 0.0032731990795582533\n",
      "Training Acc: 0.988155668358714 Valid Acc: 0.8986486486486487\n",
      "Epoch: 36 Training Loss: 6.383901836670702e-05 Valid Loss: 0.0030594300478696823\n",
      "Training Acc: 0.988155668358714 Valid Acc: 0.9121621621621622\n",
      "Epoch: 37 Training Loss: 4.7324277147708926e-05 Valid Loss: 0.003043428296223283\n",
      "Training Acc: 0.9890016920473773 Valid Acc: 0.9054054054054054\n",
      "Epoch: 38 Training Loss: 4.211207715343335e-05 Valid Loss: 0.0035362811759114265\n",
      "Training Acc: 0.9906937394247038 Valid Acc: 0.8581081081081081\n",
      "Epoch: 39 Training Loss: 4.6216126065701246e-05 Valid Loss: 0.0032147772144526243\n",
      "Training Acc: 0.988155668358714 Valid Acc: 0.8918918918918919\n",
      "Epoch: 40 Training Loss: 4.321119013184216e-05 Valid Loss: 0.003016409929841757\n",
      "Training Acc: 0.9890016920473773 Valid Acc: 0.9121621621621622\n",
      "Epoch: 41 Training Loss: 4.707709013018757e-05 Valid Loss: 0.0033863617572933435\n",
      "Training Acc: 0.9898477157360406 Valid Acc: 0.8986486486486487\n",
      "Epoch: 42 Training Loss: 4.9988999307970516e-05 Valid Loss: 0.003555229865014553\n",
      "Training Acc: 0.9898477157360406 Valid Acc: 0.8986486486486487\n",
      "Epoch: 43 Training Loss: 3.7854842958040535e-05 Valid Loss: 0.003527916269376874\n",
      "Training Acc: 0.988155668358714 Valid Acc: 0.8986486486486487\n",
      "Epoch: 44 Training Loss: 4.5329426939133555e-05 Valid Loss: 0.003480765502899885\n",
      "Training Acc: 0.9890016920473773 Valid Acc: 0.8986486486486487\n",
      "Epoch: 45 Training Loss: 4.195365272607887e-05 Valid Loss: 0.003376326058059931\n",
      "Training Acc: 0.9898477157360406 Valid Acc: 0.8986486486486487\n",
      "Epoch: 46 Training Loss: 4.8773192247608677e-05 Valid Loss: 0.0031612298917025328\n",
      "Training Acc: 0.9890016920473773 Valid Acc: 0.8986486486486487\n",
      "Epoch: 47 Training Loss: 3.963646940974286e-05 Valid Loss: 0.0030705698300153017\n",
      "Training Acc: 0.9906937394247038 Valid Acc: 0.9121621621621622\n",
      "Epoch: 48 Training Loss: 3.938102690881351e-05 Valid Loss: 0.0031588284764438868\n",
      "Training Acc: 0.9890016920473773 Valid Acc: 0.8986486486486487\n",
      "Epoch: 49 Training Loss: 5.663030560754123e-05 Valid Loss: 0.0032402686774730682\n",
      "Training Acc: 0.9898477157360406 Valid Acc: 0.8918918918918919\n"
     ]
    }
   ],
   "source": [
    "loss_history=[]  \n",
    "correct_history=[]  \n",
    "val_loss_history=[]  \n",
    "val_correct_history=[] \n",
    "train_loss_min = np.Inf\n",
    "val_loss_min = np.Inf\n",
    "\n",
    "\n",
    "# Training\n",
    "for e in range(train_epoch):\n",
    "    \n",
    "    model_stdnn.train()\n",
    "    # keep track of the loss over an epoch\n",
    "    running_train_loss = 0\n",
    "    running_valid_loss = 0\n",
    "    running_train_correct = 0\n",
    "    running_val_correct = 0\n",
    "    y_train_true = []\n",
    "    y_train_pred = []\n",
    "    y_valid_true = []\n",
    "    y_valid_pred = []\n",
    "    batch = 0\n",
    "    for x_batch, y_batch in training_generator:\n",
    "        batch += 1\n",
    "        if torch.cuda.is_available():\n",
    "            x_batch, y_batch = x_batch.cuda(), y_batch.cuda() \n",
    "        \n",
    "        # Forward pass: Compute predicted y by passing x to the model\n",
    "        y_pred = model_stdnn(x_batch)  # for all tasks\n",
    "        \n",
    "        # Compute loss over all tasks\n",
    "        loss = 0\n",
    "        correct = 0\n",
    "        y_train_true_task = []\n",
    "        y_train_pred_task = []\n",
    "        for i in range(len(clintox_task)):\n",
    "            y_batch_task = y_batch[:,i]\n",
    "            y_pred_task  = y_pred[i][:,0] #check if predictions na\n",
    "            \n",
    "            # compute loss for labels that are not NA\n",
    "            indice_valid = y_batch_task >= 0\n",
    "            loss_task = criterion(y_pred_task[indice_valid], y_batch_task[indice_valid]) / N_train[i]\n",
    "            \n",
    "            loss += loss_task\n",
    "\n",
    "            pred_train = np.round(y_pred_task[indice_valid].detach().cpu().numpy())\n",
    "            target_train = y_batch_task[indice_valid].float()\n",
    "            y_train_true.extend(target_train.tolist()) \n",
    "            y_train_pred.extend(pred_train.reshape(-1).tolist())\n",
    "\n",
    "        # Zero gradients, perform a backward pass, and update the weights.\n",
    "        # writer.add_scalar(\"Accuracy/train\", loss, batch)\n",
    "        optimizer.zero_grad()\n",
    "        loss.backward()\n",
    "        optimizer.step()\n",
    "    \n",
    "        # sum up the losses from each batch\n",
    "        running_train_loss += loss.item()\n",
    "        # writer.add_scalar(\"Loss/train\", running_train_loss, e)\n",
    "        \n",
    "    else:\n",
    "        with torch.no_grad():    \n",
    "        ## evaluation part \n",
    "            model_stdnn.eval()\n",
    "            for val_x_batch, val_y_batch in valid_generator:\n",
    "                \n",
    "                if torch.cuda.is_available():\n",
    "                    val_x_batch, val_y_batch = val_x_batch.cuda(), val_y_batch.cuda() \n",
    "                \n",
    "                val_output = model_stdnn(val_x_batch)\n",
    "\n",
    "                ## 2. loss calculation over all tasks \n",
    "                val_loss = 0\n",
    "                val_correct = 0\n",
    "                y_valid_true_task = []\n",
    "                y_valid_pred_task = []\n",
    "                for i in range(len(clintox_task)):\n",
    "                    val_y_batch_task = val_y_batch[:,i]\n",
    "                    val_output_task  = val_output[i][:,0]\n",
    "\n",
    "                    # compute loss for labels that are not NA\n",
    "                    indice_valid = val_y_batch_task >= 0\n",
    "                    val_loss_task = criterion(val_output_task[indice_valid], val_y_batch_task[indice_valid]) / N_valid[i]\n",
    "\n",
    "                    val_loss += val_loss_task\n",
    "                    \n",
    "                    pred_valid = np.round(val_output_task[indice_valid].detach().cpu().numpy())\n",
    "                    target_valid = val_y_batch_task[indice_valid].float()\n",
    "                    y_valid_true.extend(target_valid.tolist()) \n",
    "                    y_valid_pred.extend(pred_valid.reshape(-1).tolist())\n",
    "                \n",
    "                #writer.add_scalar(\"Loss/valid\", val_loss, batch)\n",
    "\n",
    "                running_valid_loss+=val_loss.item()\n",
    "                # writer.add_scalar(\"Loss/valid\", running_valid_loss, e)\n",
    "        \n",
    "        #epoch loss\n",
    "        train_epoch_loss=np.mean(running_train_loss)\n",
    "        val_epoch_loss=np.mean(running_valid_loss)  \n",
    "       \n",
    "        #epoch accuracy      \n",
    "        train_epoch_acc = accuracy_score(y_train_true,y_train_pred)\n",
    "        val_epoch_acc = accuracy_score(y_valid_true,y_valid_pred)\n",
    "        \n",
    "        #history\n",
    "        loss_history.append(train_epoch_loss)  \n",
    "        correct_history.append(train_epoch_acc)\n",
    "        val_loss_history.append(val_epoch_loss)  \n",
    "        val_correct_history.append(val_epoch_acc)  \n",
    "        \n",
    "        print(\"Epoch:\", e, \"Training Loss:\", train_epoch_loss, \"Valid Loss:\", val_epoch_loss)\n",
    "        print(\"Training Acc:\", train_epoch_acc, \"Valid Acc:\", val_epoch_acc)"
   ]
  },
  {
   "cell_type": "code",
   "execution_count": 46,
   "metadata": {},
   "outputs": [
    {
     "name": "stdout",
     "output_type": "stream",
     "text": [
      "0.002651843475177884\n"
     ]
    }
   ],
   "source": [
    "# print test loss\n",
    "for x_test_torch, y_test_torch in testing_generator:\n",
    "    y_test_pred = model_stdnn.eval().to(device).cpu()(x_test_torch)\n",
    "    \n",
    "    # Compute loss over all tasks\n",
    "    loss = 0\n",
    "    for i in range(len(clintox_task)):\n",
    "        y_test_task = y_test_torch[:,i]\n",
    "        y_pred_task  = y_test_pred[i][:,0]\n",
    "\n",
    "        # compute loss for labels that are not NA\n",
    "        indice_valid = y_test_task >= 0\n",
    "        loss_task = criterion(y_pred_task[indice_valid], y_test_task[indice_valid]) / N_test[i]\n",
    "\n",
    "        loss += loss_task\n",
    "    \n",
    "print(loss.item())"
   ]
  },
  {
   "cell_type": "code",
   "execution_count": 47,
   "metadata": {},
   "outputs": [
    {
     "name": "stdout",
     "output_type": "stream",
     "text": [
      "Accuracy for STDNN on Morgan Fingerprint: 0.9054054054054054\n",
      "Balanced Accuracy for STDNN on Morgan Fingerprint: 0.6553571428571429\n",
      "F1 for STDNN on Morgan Fingerprint: 0.3\n",
      " True Positive: 0.375\n",
      " True Negative: 0.9357142857142857\n",
      "False Positive: 0.06428571428571428\n",
      "False Negative: 0.625\n",
      "Test ROC AUC (CT_TOX): 0.6660714285714285\n"
     ]
    },
    {
     "data": {
      "image/png": "[encoded data removed]",
      "text/plain": [
       "<Figure size 640x480 with 1 Axes>"
      ]
     },
     "metadata": {},
     "output_type": "display_data"
    }
   ],
   "source": [
    "results = {}\n",
    "# Collects performance metrics for all tasks on test set\n",
    "for i in range(len(clintox_task)):\n",
    "    \n",
    "    valid_datapoints = y_test[:,i] >= 0\n",
    "    y_test_task = y_test[valid_datapoints,i] \n",
    "    y_test_pred_task = y_test_pred[i].detach().numpy()[valid_datapoints,0]\n",
    "    \n",
    "    acc = accuracy_score(y_test_task, np.round(y_test_pred_task))\n",
    "    print('Accuracy for STDNN on Morgan Fingerprint:', acc)\n",
    "    \n",
    "    bacc = sklearn.metrics.balanced_accuracy_score(y_test_task, np.round(y_test_pred_task))\n",
    "    print('Balanced Accuracy for STDNN on Morgan Fingerprint:', bacc)\n",
    "\n",
    "    f1 = f1_score(y_test_task, np.round(y_test_pred_task), pos_label=1)\n",
    "    print('F1 for STDNN on Morgan Fingerprint:', f1)\n",
    "\n",
    "    cfm = sklearn.metrics.confusion_matrix(y_test_task, np.round(y_test_pred_task))\n",
    "    cfm = cfm.astype('float') / cfm.sum(axis=1)[:, np.newaxis]\n",
    "    \n",
    "    tn, fp, fn, tp = cfm.ravel()\n",
    "    pr = tp / (tp + fp)\n",
    "    rc = tp / (tp + fn)\n",
    "    print(' True Positive:', tp)\n",
    "    print(' True Negative:', tn)\n",
    "    print('False Positive:', fp)\n",
    "    print('False Negative:', fn)\n",
    "    \n",
    "    \n",
    "    auc = roc_auc_score(y_test_task, y_test_pred_task)\n",
    "    print('Test ROC AUC ({}):'.format(clintox_task[i]), auc)\n",
    "    \n",
    "    results[clintox_task[i]] = [auc, acc, bacc, tn, tp, pr, rc, f1]\n",
    "\n",
    "    fpr, tpr, threshold = sklearn.metrics.roc_curve(y_test_task, y_test_pred_task)\n",
    "    plt.plot(fpr, tpr, 'b', label = 'AUC')\n",
    "    plt.legend(loc = 'lower right')\n",
    "    plt.plot([0, 1], [0, 1],'r--')\n",
    "    plt.xlim([0, 1])\n",
    "    plt.ylim([0, 1])\n",
    "    plt.ylabel('True Positive Rate')\n",
    "    plt.xlabel('False Positive Rate')\n",
    "    plt.show()"
   ]
  },
  {
   "attachments": {},
   "cell_type": "markdown",
   "metadata": {},
   "source": [
    "Here we have the same results obtained by the reference paper using their model and data splits.\n",
    "\n",
    "We'll try to improve the performances using the same data splits."
   ]
  },
  {
   "attachments": {},
   "cell_type": "markdown",
   "metadata": {},
   "source": [
    "#### Deep Purpose"
   ]
  },
  {
   "cell_type": "code",
   "execution_count": 48,
   "metadata": {},
   "outputs": [],
   "source": [
    "# Function to evaluate model performances\n",
    "def evaluate_model(model, test):\n",
    "    y_true = np.array(test['Label'])\n",
    "    y_pred = np.array(model.predict(test))\n",
    "\n",
    "    # Convert continuous targets to binary targets using a threshold of 0.5\n",
    "    y_true_binary = (y_true > 0.5).astype(int)\n",
    "    y_pred_binary = (y_pred > 0.5).astype(int)\n",
    "\n",
    "    # Calculate evaluation metrics on binary targets\n",
    "    accuracy = accuracy_score(y_true_binary, y_pred_binary)\n",
    "    precision = precision_score(y_true_binary, y_pred_binary)\n",
    "    recall = recall_score(y_true_binary, y_pred_binary)\n",
    "    f1 = f1_score(y_true_binary, y_pred_binary)\n",
    "    roc_auc = roc_auc_score(y_true, y_pred)\n",
    "    conf_mat = confusion_matrix(y_true_binary, y_pred_binary)\n",
    "    bacc = balanced_accuracy_score(y_true_binary, y_pred_binary)\n",
    "\n",
    "    # Create a list of metric names and values\n",
    "    metrics = [\"Accuracy\", \"Precision\", \"Recall\", \"F1 Score\", \"ROC AUC\", \"Balanced Accuracy\"]\n",
    "    values = [accuracy, precision, recall, f1, roc_auc, bacc]\n",
    "\n",
    "    # Create a list of lists for tabulating\n",
    "    table = [metrics, values]\n",
    "\n",
    "    # Display the table\n",
    "    print(tabulate(table, headers='firstrow'))\n",
    "\n",
    "    # Create a heatmap of the confusion matrix\n",
    "    sns.heatmap(conf_mat, annot=True, cmap='Blues', fmt='g', xticklabels=['Predicted Negative', 'Predicted Positive'], yticklabels=['Actual Negative', 'Actual Positive'])\n",
    "\n",
    "    # Add labels and title\n",
    "    plt.xlabel('Prediction')\n",
    "    plt.ylabel('Truth')\n",
    "    plt.title('Confusion Matrix')\n",
    "\n",
    "    # Show the plot\n",
    "    plt.show()"
   ]
  },
  {
   "cell_type": "code",
   "execution_count": 49,
   "metadata": {},
   "outputs": [],
   "source": [
    "# Get X and y for train, test, val splits\n",
    "X_train = train_data['smiles']\n",
    "y_train = train_data[CLINTOX_TARGET]\n",
    "\n",
    "X_test = test_data['smiles']\n",
    "y_test = test_data[CLINTOX_TARGET]\n",
    "\n",
    "X_valid = valid_data['smiles']\n",
    "y_valid = valid_data[CLINTOX_TARGET]"
   ]
  },
  {
   "cell_type": "code",
   "execution_count": 75,
   "metadata": {},
   "outputs": [],
   "source": [
    "def train_model(X_train, y_train, X_test, y_test, X_valid, y_valid, drug_encoding='Morgan'):\n",
    "    # Get fingerprints for train, test, val splits\n",
    "    train = utils.data_process(X_drug=X_train, y=y_train, drug_encoding=drug_encoding, split_method='no_split', random_seed=SEED_VALUE)\n",
    "    val = utils.data_process(X_drug=X_valid, y=y_valid, drug_encoding=drug_encoding, split_method='no_split', random_seed=SEED_VALUE)\n",
    "    test = utils.data_process(X_drug=X_test, y=y_test, drug_encoding=drug_encoding, split_method='no_split', random_seed=SEED_VALUE)\n",
    "\n",
    "    # Configuring the model\n",
    "    config = utils.generate_config(drug_encoding=drug_encoding, mlp_hidden_dims_drug=[32, 16, 8], train_epoch=40, LR=0.001, batch_size=124)\n",
    "\n",
    "    model_dp = CompoundPred.model_initialize(**config)\n",
    "\n",
    "    # Training the model\n",
    "    print('\\n\\n', '-' * 30)\n",
    "    print(f'Model training using {drug_encoding} fingerprint:')\n",
    "    model_dp.train(train, val, test, verbose=1)\n",
    "\n",
    "    # Evaluating the model\n",
    "    evaluate_model(model_dp, test)\n",
    "    print('-' * 30)\n"
   ]
  },
  {
   "cell_type": "code",
   "execution_count": 51,
   "metadata": {},
   "outputs": [],
   "source": [
    "# # Test DeepPurpode models using different drug encodings (seen in class)\n",
    "# drug_encodings = ['Morgan', 'Pubchem', 'Daylight', 'rdkit_2d_normalized']\n",
    "\n",
    "# [train_model(X_train, y_train, X_test, y_test, X_valid, y_valid, encoding) for encoding in drug_encodings]"
   ]
  },
  {
   "attachments": {},
   "cell_type": "markdown",
   "metadata": {},
   "source": [
    "The best fingerprint, between the ones seen in class, in general seems to be Morgan fingerprint"
   ]
  },
  {
   "cell_type": "code",
   "execution_count": 53,
   "metadata": {},
   "outputs": [],
   "source": [
    "# # Test DeepPurpode models using different drug encodings (not seen in class)\n",
    "# drug_encodings = ['ESPF', 'ErG', 'CNN', 'Transformer']\n",
    "\n",
    "# [train_model(X_train, y_train, X_test, y_test, X_valid, y_valid, encoding) for encoding in drug_encodings]"
   ]
  },
  {
   "attachments": {},
   "cell_type": "markdown",
   "metadata": {},
   "source": [
    "ESPF and CNN drug encodings work really well, with the CNN drug encoding working incredibly well!\n",
    "\n",
    "We reached scores very close to the best ones reported in the reference paper but without adding any feature and using just data from Clintox dataset.\n",
    "\n",
    "The Transformer drug encoding seems to be so complex that it just overfits the training data."
   ]
  },
  {
   "attachments": {},
   "cell_type": "markdown",
   "metadata": {},
   "source": [
    "##### Add Features from RDkit"
   ]
  },
  {
   "cell_type": "code",
   "execution_count": 54,
   "metadata": {},
   "outputs": [],
   "source": [
    "# Split data into training, testing and valuidation sets\n",
    "train_data = clintox_df[0]\n",
    "test_data  = clintox_df[1]\n",
    "valid_data = clintox_df[2]"
   ]
  },
  {
   "cell_type": "code",
   "execution_count": 55,
   "metadata": {},
   "outputs": [],
   "source": [
    "#Calculating LogP, MW, RB, AromaticAtoms, HeavyAtoms, AP  descriptors\n",
    "def compute_descriptors(df):\n",
    "    dfc = df.copy()\n",
    "    dfc[\"ROMol\"] = dfc[\"smiles\"].apply(lambda x: Chem.MolFromSmiles(x))\n",
    "    dfc['MolLogP'] = [Descriptors.MolLogP(mol) for mol in dfc['ROMol']]\n",
    "    dfc['RB'] =  [Descriptors.NumRotatableBonds(mol) for mol in dfc['ROMol']]\n",
    "    dfc['cLogP'] = [Descriptors.MolWt(mol) for mol in dfc['ROMol']]\n",
    "    dfc['ExactMolWt'] = [Descriptors.ExactMolWt(mol) for mol in dfc['ROMol']]\n",
    "    dfc['NumRotatableBonds'] = [Descriptors.NumRotatableBonds(mol) for mol in dfc['ROMol']]\n",
    "    dfc['MolWt'] = [Descriptors.MolWt(mol) for mol in dfc['ROMol']]\n",
    "    dfc['AromaticAtoms'] = [len(mol.GetAromaticAtoms()) for mol in dfc['ROMol']]\n",
    "    dfc['HeavyAtoms'] = [mol.GetNumHeavyAtoms() for mol in dfc['ROMol']]\n",
    "    dfc['AP'] = dfc['AromaticAtoms'] / dfc['HeavyAtoms']\n",
    "    \n",
    "    return dfc"
   ]
  },
  {
   "cell_type": "code",
   "execution_count": 56,
   "metadata": {},
   "outputs": [],
   "source": [
    "# Compute features on the already splitted data\n",
    "train_features, test_features, valid_features = [compute_descriptors(data) for data in [train_data, test_data, valid_data]]"
   ]
  },
  {
   "cell_type": "code",
   "execution_count": 57,
   "metadata": {},
   "outputs": [
    {
     "data": {
      "text/html": [
       "<div>\n",
       "<style scoped>\n",
       "    .dataframe tbody tr th:only-of-type {\n",
       "        vertical-align: middle;\n",
       "    }\n",
       "\n",
       "    .dataframe tbody tr th {\n",
       "        vertical-align: top;\n",
       "    }\n",
       "\n",
       "    .dataframe thead th {\n",
       "        text-align: right;\n",
       "    }\n",
       "</style>\n",
       "<table border=\"1\" class=\"dataframe\">\n",
       "  <thead>\n",
       "    <tr style=\"text-align: right;\">\n",
       "      <th></th>\n",
       "      <th>smiles</th>\n",
       "      <th>FDA_APPROVED</th>\n",
       "      <th>CT_TOX</th>\n",
       "      <th>ROMol</th>\n",
       "      <th>MolLogP</th>\n",
       "      <th>RB</th>\n",
       "      <th>cLogP</th>\n",
       "      <th>ExactMolWt</th>\n",
       "      <th>NumRotatableBonds</th>\n",
       "      <th>MolWt</th>\n",
       "      <th>AromaticAtoms</th>\n",
       "      <th>HeavyAtoms</th>\n",
       "      <th>AP</th>\n",
       "    </tr>\n",
       "  </thead>\n",
       "  <tbody>\n",
       "    <tr>\n",
       "      <th>755</th>\n",
       "      <td>CC(C)CN(C[C@H]([C@H](Cc1ccccc1)NC(=O)O[C@H]2CC...</td>\n",
       "      <td>1</td>\n",
       "      <td>0</td>\n",
       "      <td>&lt;rdkit.Chem.rdchem.Mol object at 0x0000022252B...</td>\n",
       "      <td>2.40280</td>\n",
       "      <td>11</td>\n",
       "      <td>505.637</td>\n",
       "      <td>505.224657</td>\n",
       "      <td>11</td>\n",
       "      <td>505.637</td>\n",
       "      <td>12</td>\n",
       "      <td>35</td>\n",
       "      <td>0.342857</td>\n",
       "    </tr>\n",
       "    <tr>\n",
       "      <th>96</th>\n",
       "      <td>C1[C@H](C(=O)NO1)[NH3+]</td>\n",
       "      <td>1</td>\n",
       "      <td>0</td>\n",
       "      <td>&lt;rdkit.Chem.rdchem.Mol object at 0x0000022252B...</td>\n",
       "      <td>-2.34170</td>\n",
       "      <td>0</td>\n",
       "      <td>103.101</td>\n",
       "      <td>103.050204</td>\n",
       "      <td>0</td>\n",
       "      <td>103.101</td>\n",
       "      <td>0</td>\n",
       "      <td>7</td>\n",
       "      <td>0.000000</td>\n",
       "    </tr>\n",
       "    <tr>\n",
       "      <th>671</th>\n",
       "      <td>CC(C)(C#N)C1=CC=C(C=C1)N2C3=C4C=C(C=CC4=NC=C3N...</td>\n",
       "      <td>0</td>\n",
       "      <td>1</td>\n",
       "      <td>&lt;rdkit.Chem.rdchem.Mol object at 0x0000022252B...</td>\n",
       "      <td>5.89378</td>\n",
       "      <td>3</td>\n",
       "      <td>469.548</td>\n",
       "      <td>469.190260</td>\n",
       "      <td>3</td>\n",
       "      <td>469.548</td>\n",
       "      <td>29</td>\n",
       "      <td>36</td>\n",
       "      <td>0.805556</td>\n",
       "    </tr>\n",
       "  </tbody>\n",
       "</table>\n",
       "</div>"
      ],
      "text/plain": [
       "                                                smiles  FDA_APPROVED  CT_TOX   \n",
       "755  CC(C)CN(C[C@H]([C@H](Cc1ccccc1)NC(=O)O[C@H]2CC...             1       0  \\\n",
       "96                             C1[C@H](C(=O)NO1)[NH3+]             1       0   \n",
       "671  CC(C)(C#N)C1=CC=C(C=C1)N2C3=C4C=C(C=CC4=NC=C3N...             0       1   \n",
       "\n",
       "                                                 ROMol  MolLogP  RB    cLogP   \n",
       "755  <rdkit.Chem.rdchem.Mol object at 0x0000022252B...  2.40280  11  505.637  \\\n",
       "96   <rdkit.Chem.rdchem.Mol object at 0x0000022252B... -2.34170   0  103.101   \n",
       "671  <rdkit.Chem.rdchem.Mol object at 0x0000022252B...  5.89378   3  469.548   \n",
       "\n",
       "     ExactMolWt  NumRotatableBonds    MolWt  AromaticAtoms  HeavyAtoms   \n",
       "755  505.224657                 11  505.637             12          35  \\\n",
       "96   103.050204                  0  103.101              0           7   \n",
       "671  469.190260                  3  469.548             29          36   \n",
       "\n",
       "           AP  \n",
       "755  0.342857  \n",
       "96   0.000000  \n",
       "671  0.805556  "
      ]
     },
     "execution_count": 57,
     "metadata": {},
     "output_type": "execute_result"
    }
   ],
   "source": [
    "# Check the sets with the new features\n",
    "train_features.head(3)"
   ]
  },
  {
   "cell_type": "code",
   "execution_count": 58,
   "metadata": {},
   "outputs": [],
   "source": [
    "# Get X and y for train, test, val splits\n",
    "features = ['smiles', 'FDA_APPROVED', 'ROMol', 'MolLogP', 'RB', 'cLogP',\n",
    "                         'ExactMolWt', 'NumRotatableBonds', 'MolWt', 'AromaticAtoms',\n",
    "                         'HeavyAtoms', 'AP']\n",
    "\n",
    "X_train = train_features[features]\n",
    "y_train = train_features[CLINTOX_TARGET]\n",
    "\n",
    "X_test = test_features[features]\n",
    "y_test = test_features[CLINTOX_TARGET]\n",
    "\n",
    "X_valid = valid_features[features]\n",
    "y_valid = valid_features[CLINTOX_TARGET]"
   ]
  },
  {
   "cell_type": "code",
   "execution_count": 59,
   "metadata": {},
   "outputs": [],
   "source": [
    "# Concatenate the features to make them compatible with DeepPurpose\n",
    "X_train_c = np.concatenate([X_train['smiles']] + [X_train.drop(['smiles', 'ROMol'], axis=1).values.flatten()], axis=0)\n",
    "X_test_c = np.concatenate([X_test['smiles']] + [X_test.drop(['smiles', 'ROMol'], axis=1).values.flatten()], axis=0)\n",
    "X_valid_c = np.concatenate([X_valid['smiles']] + [X_valid.drop(['smiles', 'ROMol'], axis=1).values.flatten()], axis=0)"
   ]
  },
  {
   "cell_type": "code",
   "execution_count": 60,
   "metadata": {},
   "outputs": [],
   "source": [
    "# # Train the DeepPurpose model using all the new features\n",
    "# drug_encodings = ['Morgan', 'Pubchem', 'Daylight', 'rdkit_2d_normalized', 'ESPF', 'ErG', 'CNN', 'Transformer']\n",
    "\n",
    "# [train_model(X_train_c, y_train, X_test_c, y_test, X_valid_c, y_valid, encoding) for encoding in drug_encodings]"
   ]
  },
  {
   "attachments": {},
   "cell_type": "markdown",
   "metadata": {},
   "source": [
    "As seen in the test with the models using just smiles as features, the best drug encodings seem to be ESPF and CNN, with CNN as the best one.\n",
    "\n",
    "It seems that adding these features didn't improve the results.\n",
    "\n",
    "We'll try to perform feature selection to see if we can remove some confounder features and improve the results obtained just from using the smiles."
   ]
  },
  {
   "attachments": {},
   "cell_type": "markdown",
   "metadata": {},
   "source": [
    "##### Features Selection"
   ]
  },
  {
   "cell_type": "code",
   "execution_count": 61,
   "metadata": {},
   "outputs": [],
   "source": [
    "# Get again X and y for train, test, val splits\n",
    "X_train = train_features[['smiles', 'FDA_APPROVED', 'ROMol', 'MolLogP', 'RB', 'cLogP',\n",
    "                         'ExactMolWt', 'NumRotatableBonds', 'MolWt', 'AromaticAtoms',\n",
    "                         'HeavyAtoms', 'AP']]\n",
    "y_train = train_features['CT_TOX']\n",
    "\n",
    "X_test = test_features[['smiles', 'FDA_APPROVED', 'ROMol', 'MolLogP', 'RB', 'cLogP',\n",
    "                         'ExactMolWt', 'NumRotatableBonds', 'MolWt', 'AromaticAtoms',\n",
    "                         'HeavyAtoms', 'AP']]\n",
    "y_test = test_features['CT_TOX']\n",
    "\n",
    "X_valid = valid_features[['smiles', 'FDA_APPROVED', 'ROMol', 'MolLogP', 'RB', 'cLogP',\n",
    "                         'ExactMolWt', 'NumRotatableBonds', 'MolWt', 'AromaticAtoms',\n",
    "                         'HeavyAtoms', 'AP']]\n",
    "y_valid = valid_features['CT_TOX']"
   ]
  },
  {
   "cell_type": "code",
   "execution_count": 62,
   "metadata": {},
   "outputs": [],
   "source": [
    "# Try feature selection stuff\n",
    "# Separate the target variable (if applicable)\n",
    "def feature_selection(X_train, X_test, X_valid, y_train, y_test, y_valid, num_features=3):\n",
    "    data_x, data_y = [X_train, X_test, X_valid], [y_train, y_test, y_valid]\n",
    "\n",
    "    x1, x2, x3, y1 = data_x[0].copy(),  data_x[1].copy(), data_x[2].copy(), data_y[0].copy()\n",
    "\n",
    "    # Remove the 'smiles'  and 'ROMol' columns from features\n",
    "    x1 = x1.drop(['smiles', 'ROMol'], axis=1)  \n",
    "    x2 = x2.drop(['smiles', 'ROMol'], axis=1) \n",
    "    x3 = x3.drop(['smiles', 'ROMol'], axis=1) \n",
    "\n",
    "    # Create a RandomForestRegressor as the estimator for RFE\n",
    "    estimator = RandomForestRegressor()\n",
    "\n",
    "    # Perform Recursive Feature Elimination (RFE)\n",
    "    rfe = RFE(estimator, n_features_to_select=num_features)  # Select the top num_features features\n",
    "    X_selected = rfe.fit_transform(x1, y1)\n",
    "\n",
    "    # Get the column names of the selected features\n",
    "    selected_feature_names = x1.columns[rfe.support_].tolist()\n",
    "\n",
    "    # Create a DataFrame with the selected features\n",
    "    df_selected = pd.DataFrame(X_selected, columns=selected_feature_names)\n",
    "\n",
    "    # Get best features also on validation and testing sets\n",
    "    x2 = data_x[1][selected_feature_names]\n",
    "    x3 = data_x[2][selected_feature_names]\n",
    "\n",
    "    # Concatenate the selected features DataFrame with the 'smiles' DataFrame\n",
    "    df_train = pd.concat([pd.DataFrame(data_x[0]['smiles'], columns=['smiles']), df_selected], axis=1)\n",
    "    df_train = np.concatenate([df_train['smiles']] + [df_train.drop(['smiles'], axis=1).values.flatten()], axis=0)\n",
    "\n",
    "    df_test = pd.concat([pd.DataFrame(data_x[1]['smiles'], columns=['smiles']), x2], axis=1)\n",
    "    df_test = np.concatenate([df_test['smiles']] + [df_test.drop(['smiles'], axis=1).values.flatten()], axis=0)\n",
    "\n",
    "    df_val = pd.concat([pd.DataFrame(data_x[2]['smiles'], columns=['smiles']), x3], axis=1)\n",
    "    df_val = np.concatenate([df_val['smiles']] + [df_val.drop(['smiles'], axis=1).values.flatten()], axis=0)\n",
    "\n",
    "    return df_train, df_test, df_val\n"
   ]
  },
  {
   "cell_type": "code",
   "execution_count": 63,
   "metadata": {},
   "outputs": [],
   "source": [
    "# Select the 5 most important features\n",
    "X_train_selected, X_test_selected, X_valid_selected = feature_selection(X_train, X_test, X_valid, y_train, y_test, y_valid, 5)"
   ]
  },
  {
   "cell_type": "code",
   "execution_count": 64,
   "metadata": {},
   "outputs": [],
   "source": [
    "# # Train the DeepPurpose model using all the 5 most important features and using the 2 best fingerprints\n",
    "# drug_encodings = ['ESPF', 'CNN']\n",
    "\n",
    "# [train_model(X_train_selected, y_train, X_test_selected, y_test, X_valid_selected, y_valid, encoding) for encoding in drug_encodings]"
   ]
  },
  {
   "attachments": {},
   "cell_type": "markdown",
   "metadata": {},
   "source": [
    "Using just the 5 most important features we reach values very near to 1 in all our evaluation metrics. That is quite unlikely in a real environment, and is probably due to the very small number of samples in the testing set (and also in the validation one).\n",
    "\n",
    "As we want to compare the results with the ones obtained on the reference paper, we can't modify the data and the splits, to guarantee a fair comparison.\n",
    "\n",
    "Just for curiosity we'll try to select even less features (just 3) to see if we can get a similar results with less features.\n",
    "\n",
    "Note that no data-leakage occurred, so the comparison is in fact fair."
   ]
  },
  {
   "cell_type": "code",
   "execution_count": 65,
   "metadata": {},
   "outputs": [],
   "source": [
    "# # Select the 3 most important features\n",
    "# X_train_selected, X_test_selected, X_valid_selected = feature_selection(X_train, X_test, X_valid, y_train, y_test, y_valid, 3)\n",
    "\n",
    "# # Train the DeepPurpose model using all the 5 most important features and using the 2 best fingerprints\n",
    "# drug_encodings = ['ESPF', 'CNN']\n",
    "\n",
    "# [train_model(X_train_selected, y_train, X_test_selected, y_test, X_valid_selected, y_valid, encoding) for encoding in drug_encodings]"
   ]
  },
  {
   "attachments": {},
   "cell_type": "markdown",
   "metadata": {},
   "source": [
    "Using just 3 features we get slightly worse results than with 5 features, but still very good ones, and requiring even less features to use the model."
   ]
  },
  {
   "attachments": {},
   "cell_type": "markdown",
   "metadata": {},
   "source": [
    "##### Hyper-parameters Tuning"
   ]
  },
  {
   "cell_type": "code",
   "execution_count": 66,
   "metadata": {},
   "outputs": [],
   "source": [
    "# Check if we really want to do it. Maybe just to have another checkmark in the report"
   ]
  },
  {
   "attachments": {},
   "cell_type": "markdown",
   "metadata": {},
   "source": [
    "#### Graph Convolutional Neural Network"
   ]
  },
  {
   "cell_type": "code",
   "execution_count": 67,
   "metadata": {},
   "outputs": [],
   "source": [
    "def featurize(data, task):\n",
    "    # Extract the smiles and target columns\n",
    "    smiles = data['smiles'].values\n",
    "    targets = data[tox21_tasks].values\n",
    "\n",
    "    # Define the featurizer\n",
    "    featurizer = dc.feat.graph_features.ConvMolFeaturizer()\n",
    "\n",
    "    # Featurize the molecules\n",
    "    mols = [Chem.MolFromSmiles(smile) for smile in smiles]\n",
    "    featurized_mols = featurizer.featurize(mols)\n",
    "\n",
    "    # Convert the dataset to DeepChem's NumpyDataset format\n",
    "    dataset = dc.data.NumpyDataset(X=featurized_mols, y=targets)\n",
    "    return dataset"
   ]
  },
  {
   "cell_type": "code",
   "execution_count": null,
   "metadata": {},
   "outputs": [],
   "source": []
  },
  {
   "attachments": {},
   "cell_type": "markdown",
   "metadata": {},
   "source": [
    "##### Cross-validation\n",
    "Perform cross-validation on the best model (DeepPurpose with CNN drug encoding)"
   ]
  },
  {
   "cell_type": "code",
   "execution_count": 100,
   "metadata": {},
   "outputs": [],
   "source": [
    "def train_model_crossval(X_train, y_train, X_test, y_test, X_valid, y_valid, drug_encoding='Morgan'):\n",
    "    # Get fingerprints for train, test, val splits\n",
    "    train = utils.data_process(X_drug=X_train, y=y_train.values, drug_encoding=drug_encoding, split_method='no_split', random_seed=SEED_VALUE)\n",
    "    val = utils.data_process(X_drug=X_valid, y=y_valid.values, drug_encoding=drug_encoding, split_method='no_split', random_seed=SEED_VALUE)\n",
    "    test = utils.data_process(X_drug=X_test, y=y_test.values, drug_encoding=drug_encoding, split_method='no_split', random_seed=SEED_VALUE)\n",
    "\n",
    "    # Configuring the model\n",
    "    config = utils.generate_config(drug_encoding=drug_encoding, mlp_hidden_dims_drug=[32, 16, 8], train_epoch=40, LR=0.001, batch_size=124)\n",
    "\n",
    "    model_dp = CompoundPred.model_initialize(**config)\n",
    "\n",
    "    # Training the model\n",
    "    print('\\n\\n', '-' * 30)\n",
    "    print(f'Model training using {drug_encoding} fingerprint:')\n",
    "    model_dp.train(train, val, test, verbose=1)\n",
    "\n",
    "    return model_dp"
   ]
  },
  {
   "cell_type": "code",
   "execution_count": 86,
   "metadata": {},
   "outputs": [],
   "source": [
    "# Perform StratifiedKFold cross-validation to check better the model performances\n",
    "kfold = StratifiedKFold(n_splits=5, shuffle=True, random_state=SEED_VALUE)\n",
    "\n",
    "accuracies, precisions, recalls, f1_scores, roc_aucs, balanced_accuracies = [], [], [], [], [], []"
   ]
  },
  {
   "cell_type": "code",
   "execution_count": 95,
   "metadata": {},
   "outputs": [],
   "source": [
    "# Get X and y for train, test, val splits\n",
    "X_train = train_data['smiles']\n",
    "y_train = train_data[CLINTOX_TARGET]\n",
    "\n",
    "X_test = test_data['smiles']\n",
    "y_test = test_data[CLINTOX_TARGET]\n",
    "\n",
    "X_valid = valid_data['smiles']\n",
    "y_valid = valid_data[CLINTOX_TARGET]\n",
    "\n",
    "# Merge X_train and X_valid to use them in the cross-validation\n",
    "X = pd.concat([X_train, X_valid], axis=0).reset_index(drop=True)\n",
    "y = pd.concat([y_train, y_valid], axis=0).reset_index(drop=True)"
   ]
  },
  {
   "cell_type": "code",
   "execution_count": 101,
   "metadata": {},
   "outputs": [
    {
     "name": "stdout",
     "output_type": "stream",
     "text": [
      "Drug Property Prediction Mode...\n",
      "in total: 1064 drugs\n",
      "encoding drug...\n",
      "unique drugs: 1064\n",
      "do not do train/test split on the data for already splitted data\n",
      "Drug Property Prediction Mode...\n",
      "in total: 266 drugs\n",
      "encoding drug...\n",
      "unique drugs: 266\n",
      "do not do train/test split on the data for already splitted data\n",
      "Drug Property Prediction Mode...\n",
      "in total: 266 drugs\n",
      "encoding drug...\n",
      "unique drugs: 266\n",
      "do not do train/test split on the data for already splitted data\n",
      "\n",
      "\n",
      " ------------------------------\n",
      "Model training using CNN fingerprint:\n",
      "Let's use CPU/s!\n",
      "--- Data Preparation ---\n",
      "--- Go for Training ---\n",
      "Training at Epoch 1 iteration 0 with loss 0.69785. Total time 0.0 hours\n",
      "Validation at Epoch 1 , AUROC: 0.91402 , AUPRC: 0.37131 , F1: 0.0\n",
      "Training at Epoch 2 iteration 0 with loss 0.33020. Total time 0.00055 hours\n",
      "Validation at Epoch 2 , AUROC: 0.94065 , AUPRC: 0.44710 , F1: 0.0\n",
      "Training at Epoch 3 iteration 0 with loss 0.16912. Total time 0.00083 hours\n",
      "Validation at Epoch 3 , AUROC: 0.94817 , AUPRC: 0.47996 , F1: 0.0\n",
      "Training at Epoch 4 iteration 0 with loss 0.22161. Total time 0.00138 hours\n",
      "Validation at Epoch 4 , AUROC: 0.95182 , AUPRC: 0.54185 , F1: 0.0\n",
      "Training at Epoch 5 iteration 0 with loss 0.13662. Total time 0.00194 hours\n",
      "Validation at Epoch 5 , AUROC: 0.96270 , AUPRC: 0.69189 , F1: 0.0\n",
      "Training at Epoch 6 iteration 0 with loss 0.09402. Total time 0.0025 hours\n",
      "Validation at Epoch 6 , AUROC: 0.95193 , AUPRC: 0.54404 , F1: 0.0\n",
      "Training at Epoch 7 iteration 0 with loss 0.13027. Total time 0.00305 hours\n",
      "Validation at Epoch 7 , AUROC: 0.95904 , AUPRC: 0.64253 , F1: 0.53658\n",
      "Training at Epoch 8 iteration 0 with loss 0.10530. Total time 0.00333 hours\n",
      "Validation at Epoch 8 , AUROC: 0.96697 , AUPRC: 0.73145 , F1: 0.62962\n",
      "Training at Epoch 9 iteration 0 with loss 0.13484. Total time 0.00388 hours\n",
      "Validation at Epoch 9 , AUROC: 0.96371 , AUPRC: 0.68292 , F1: 0.63636\n",
      "Training at Epoch 10 iteration 0 with loss 0.14767. Total time 0.00444 hours\n",
      "Validation at Epoch 10 , AUROC: 0.96534 , AUPRC: 0.69806 , F1: 0.70588\n",
      "Training at Epoch 11 iteration 0 with loss 0.08467. Total time 0.005 hours\n",
      "Validation at Epoch 11 , AUROC: 0.96443 , AUPRC: 0.66455 , F1: 0.08695\n",
      "Training at Epoch 12 iteration 0 with loss 0.10192. Total time 0.00527 hours\n",
      "Validation at Epoch 12 , AUROC: 0.97347 , AUPRC: 0.81518 , F1: 0.81081\n",
      "Training at Epoch 13 iteration 0 with loss 0.08595. Total time 0.00583 hours\n",
      "Validation at Epoch 13 , AUROC: 0.97652 , AUPRC: 0.85236 , F1: 0.4\n",
      "Training at Epoch 14 iteration 0 with loss 0.09996. Total time 0.00638 hours\n",
      "Validation at Epoch 14 , AUROC: 0.98018 , AUPRC: 0.86897 , F1: 0.83333\n",
      "Training at Epoch 15 iteration 0 with loss 0.03591. Total time 0.00666 hours\n",
      "Validation at Epoch 15 , AUROC: 0.98709 , AUPRC: 0.90314 , F1: 0.76923\n",
      "Training at Epoch 16 iteration 0 with loss 0.03191. Total time 0.00722 hours\n",
      "Validation at Epoch 16 , AUROC: 0.98689 , AUPRC: 0.91134 , F1: 0.81081\n",
      "Training at Epoch 17 iteration 0 with loss 0.02259. Total time 0.00777 hours\n",
      "Validation at Epoch 17 , AUROC: 0.98384 , AUPRC: 0.89380 , F1: 0.78787\n",
      "Training at Epoch 18 iteration 0 with loss 0.08139. Total time 0.00805 hours\n",
      "Validation at Epoch 18 , AUROC: 0.98668 , AUPRC: 0.91371 , F1: 0.83333\n",
      "Training at Epoch 19 iteration 0 with loss 0.02460. Total time 0.00861 hours\n",
      "Validation at Epoch 19 , AUROC: 0.98638 , AUPRC: 0.91432 , F1: 0.86486\n",
      "Training at Epoch 20 iteration 0 with loss 0.05782. Total time 0.00916 hours\n",
      "Validation at Epoch 20 , AUROC: 0.98770 , AUPRC: 0.91971 , F1: 0.83333\n",
      "Training at Epoch 21 iteration 0 with loss 0.06845. Total time 0.00944 hours\n",
      "Validation at Epoch 21 , AUROC: 0.98831 , AUPRC: 0.91963 , F1: 0.83333\n",
      "Training at Epoch 22 iteration 0 with loss 0.03217. Total time 0.01 hours\n",
      "Validation at Epoch 22 , AUROC: 0.98831 , AUPRC: 0.91907 , F1: 0.84210\n",
      "Training at Epoch 23 iteration 0 with loss 0.03838. Total time 0.01055 hours\n",
      "Validation at Epoch 23 , AUROC: 0.98749 , AUPRC: 0.91848 , F1: 0.82051\n",
      "Training at Epoch 24 iteration 0 with loss 0.02789. Total time 0.01111 hours\n",
      "Validation at Epoch 24 , AUROC: 0.98770 , AUPRC: 0.92011 , F1: 0.84210\n",
      "Training at Epoch 25 iteration 0 with loss 0.03430. Total time 0.01166 hours\n",
      "Validation at Epoch 25 , AUROC: 0.9875 , AUPRC: 0.91515 , F1: 0.84210\n",
      "Training at Epoch 26 iteration 0 with loss 0.02175. Total time 0.01222 hours\n",
      "Validation at Epoch 26 , AUROC: 0.98719 , AUPRC: 0.91181 , F1: 0.83333\n",
      "Training at Epoch 27 iteration 0 with loss 0.01441. Total time 0.0125 hours\n",
      "Validation at Epoch 27 , AUROC: 0.98617 , AUPRC: 0.91228 , F1: 0.81081\n",
      "Training at Epoch 28 iteration 0 with loss 0.00181. Total time 0.01305 hours\n",
      "Validation at Epoch 28 , AUROC: 0.98719 , AUPRC: 0.92068 , F1: 0.85\n",
      "Training at Epoch 29 iteration 0 with loss 0.01625. Total time 0.01361 hours\n",
      "Validation at Epoch 29 , AUROC: 0.98678 , AUPRC: 0.90389 , F1: 0.85714\n",
      "Training at Epoch 30 iteration 0 with loss 0.03687. Total time 0.01416 hours\n",
      "Validation at Epoch 30 , AUROC: 0.98638 , AUPRC: 0.92160 , F1: 0.85\n",
      "Training at Epoch 31 iteration 0 with loss 0.02397. Total time 0.01472 hours\n",
      "Validation at Epoch 31 , AUROC: 0.98770 , AUPRC: 0.92320 , F1: 0.86486\n",
      "Training at Epoch 32 iteration 0 with loss 0.04375. Total time 0.015 hours\n",
      "Validation at Epoch 32 , AUROC: 0.98689 , AUPRC: 0.91864 , F1: 0.86486\n",
      "Training at Epoch 33 iteration 0 with loss 0.01551. Total time 0.01555 hours\n",
      "Validation at Epoch 33 , AUROC: 0.98729 , AUPRC: 0.91806 , F1: 0.86486\n",
      "Training at Epoch 34 iteration 0 with loss 0.00463. Total time 0.01611 hours\n",
      "Validation at Epoch 34 , AUROC: 0.98628 , AUPRC: 0.91565 , F1: 0.80000\n",
      "Training at Epoch 35 iteration 0 with loss 0.02793. Total time 0.01638 hours\n",
      "Validation at Epoch 35 , AUROC: 0.98871 , AUPRC: 0.92156 , F1: 0.83333\n",
      "Training at Epoch 36 iteration 0 with loss 0.00064. Total time 0.01694 hours\n",
      "Validation at Epoch 36 , AUROC: 0.98831 , AUPRC: 0.92397 , F1: 0.83720\n",
      "Training at Epoch 37 iteration 0 with loss 0.01976. Total time 0.0175 hours\n",
      "Validation at Epoch 37 , AUROC: 0.98892 , AUPRC: 0.92324 , F1: 0.83333\n",
      "Training at Epoch 38 iteration 0 with loss 0.01384. Total time 0.01805 hours\n",
      "Validation at Epoch 38 , AUROC: 0.98770 , AUPRC: 0.91819 , F1: 0.80000\n",
      "Training at Epoch 39 iteration 0 with loss 0.01814. Total time 0.01833 hours\n",
      "Validation at Epoch 39 , AUROC: 0.98831 , AUPRC: 0.91799 , F1: 0.86486\n",
      "Training at Epoch 40 iteration 0 with loss 0.00318. Total time 0.01888 hours\n",
      "Validation at Epoch 40 , AUROC: 0.98851 , AUPRC: 0.91967 , F1: 0.86486\n",
      "--- Go for Testing ---\n",
      "Testing AUROC: 0.9889227642276422 , AUPRC: 0.9232466453694076 , F1: 0.8333333333333334\n",
      "--- Training Finished ---\n",
      "predicting...\n"
     ]
    },
    {
     "ename": "AttributeError",
     "evalue": "'Series' object has no attribute 'Label'",
     "output_type": "error",
     "traceback": [
      "\u001b[1;31m---------------------------------------------------------------------------\u001b[0m",
      "\u001b[1;31mAttributeError\u001b[0m                            Traceback (most recent call last)",
      "\u001b[1;32m~\\AppData\\Local\\Temp\\ipykernel_10144\\1966193504.py\u001b[0m in \u001b[0;36m?\u001b[1;34m()\u001b[0m\n\u001b[0;32m      7\u001b[0m     \u001b[1;31m# Train your model on X_train and y_train using DeepPurpose\u001b[0m\u001b[1;33m\u001b[0m\u001b[1;33m\u001b[0m\u001b[0m\n\u001b[0;32m      8\u001b[0m     \u001b[1;31m# Here we give again the training set as validation as it is used just to check how the model is performing, but the actual performances are tested on the validation set, so it is just a work-around to use DeepPurpose\u001b[0m\u001b[1;33m\u001b[0m\u001b[1;33m\u001b[0m\u001b[0m\n\u001b[0;32m      9\u001b[0m     \u001b[0mmodel\u001b[0m \u001b[1;33m=\u001b[0m \u001b[0mtrain_model_crossval\u001b[0m\u001b[1;33m(\u001b[0m\u001b[0mX_train\u001b[0m\u001b[1;33m,\u001b[0m \u001b[0my_train\u001b[0m\u001b[1;33m,\u001b[0m \u001b[0mX_val\u001b[0m\u001b[1;33m,\u001b[0m \u001b[0my_val\u001b[0m\u001b[1;33m,\u001b[0m \u001b[0mX_val\u001b[0m\u001b[1;33m,\u001b[0m \u001b[0my_val\u001b[0m\u001b[1;33m,\u001b[0m \u001b[1;34m'CNN'\u001b[0m\u001b[1;33m)\u001b[0m\u001b[1;33m\u001b[0m\u001b[1;33m\u001b[0m\u001b[0m\n\u001b[0;32m     10\u001b[0m \u001b[1;33m\u001b[0m\u001b[0m\n\u001b[1;32m---> 11\u001b[1;33m     \u001b[1;31m# Make predictions on the validation set\u001b[0m\u001b[1;33m\u001b[0m\u001b[1;33m\u001b[0m\u001b[0m\n\u001b[0m\u001b[0;32m     12\u001b[0m     \u001b[0my_pred\u001b[0m \u001b[1;33m=\u001b[0m \u001b[0mmodel\u001b[0m\u001b[1;33m.\u001b[0m\u001b[0mpredict\u001b[0m\u001b[1;33m(\u001b[0m\u001b[0mX_val\u001b[0m\u001b[1;33m)\u001b[0m\u001b[1;33m\u001b[0m\u001b[1;33m\u001b[0m\u001b[0m\n\u001b[0;32m     13\u001b[0m \u001b[1;33m\u001b[0m\u001b[0m\n\u001b[0;32m     14\u001b[0m     \u001b[1;31m# Convert continuous targets to binary targets using a threshold of 0.5\u001b[0m\u001b[1;33m\u001b[0m\u001b[1;33m\u001b[0m\u001b[0m\n",
      "\u001b[1;32mc:\\Users\\manue\\anaconda3\\envs\\trial\\lib\\site-packages\\DeepPurpose\\CompoundPred.py\u001b[0m in \u001b[0;36m?\u001b[1;34m(self, df_data, verbose)\u001b[0m\n\u001b[0;32m    451\u001b[0m                         \u001b[0mpd\u001b[0m\u001b[1;33m.\u001b[0m\u001b[0mDataFrame\u001b[0m\u001b[1;33m\u001b[0m\u001b[1;33m\u001b[0m\u001b[0m\n\u001b[0;32m    452\u001b[0m \t\t'''\n\u001b[0;32m    453\u001b[0m                 \u001b[1;32mif\u001b[0m \u001b[0mverbose\u001b[0m\u001b[1;33m:\u001b[0m\u001b[1;33m\u001b[0m\u001b[1;33m\u001b[0m\u001b[0m\n\u001b[0;32m    454\u001b[0m                         \u001b[0mprint\u001b[0m\u001b[1;33m(\u001b[0m\u001b[1;34m'predicting...'\u001b[0m\u001b[1;33m)\u001b[0m\u001b[1;33m\u001b[0m\u001b[1;33m\u001b[0m\u001b[0m\n\u001b[1;32m--> 455\u001b[1;33m                 \u001b[0minfo\u001b[0m \u001b[1;33m=\u001b[0m \u001b[0mdata_process_loader_Property_Prediction\u001b[0m\u001b[1;33m(\u001b[0m\u001b[0mdf_data\u001b[0m\u001b[1;33m.\u001b[0m\u001b[0mindex\u001b[0m\u001b[1;33m.\u001b[0m\u001b[0mvalues\u001b[0m\u001b[1;33m,\u001b[0m \u001b[0mdf_data\u001b[0m\u001b[1;33m.\u001b[0m\u001b[0mLabel\u001b[0m\u001b[1;33m.\u001b[0m\u001b[0mvalues\u001b[0m\u001b[1;33m,\u001b[0m \u001b[0mdf_data\u001b[0m\u001b[1;33m,\u001b[0m \u001b[1;33m**\u001b[0m\u001b[0mself\u001b[0m\u001b[1;33m.\u001b[0m\u001b[0mconfig\u001b[0m\u001b[1;33m)\u001b[0m\u001b[1;33m\u001b[0m\u001b[1;33m\u001b[0m\u001b[0m\n\u001b[0m\u001b[0;32m    456\u001b[0m                 \u001b[0mself\u001b[0m\u001b[1;33m.\u001b[0m\u001b[0mmodel\u001b[0m\u001b[1;33m.\u001b[0m\u001b[0mto\u001b[0m\u001b[1;33m(\u001b[0m\u001b[0mdevice\u001b[0m\u001b[1;33m)\u001b[0m\u001b[1;33m\u001b[0m\u001b[1;33m\u001b[0m\u001b[0m\n\u001b[0;32m    457\u001b[0m \t\tparams = {'batch_size': self.config['batch_size'],\n\u001b[0;32m    458\u001b[0m                                 \u001b[1;34m'shuffle'\u001b[0m\u001b[1;33m:\u001b[0m \u001b[1;32mFalse\u001b[0m\u001b[1;33m,\u001b[0m\u001b[1;33m\u001b[0m\u001b[1;33m\u001b[0m\u001b[0m\n",
      "\u001b[1;32mc:\\Users\\manue\\anaconda3\\envs\\trial\\lib\\site-packages\\pandas\\core\\generic.py\u001b[0m in \u001b[0;36m?\u001b[1;34m(self, name)\u001b[0m\n\u001b[0;32m   5985\u001b[0m             \u001b[1;32mand\u001b[0m \u001b[0mname\u001b[0m \u001b[1;32mnot\u001b[0m \u001b[1;32min\u001b[0m \u001b[0mself\u001b[0m\u001b[1;33m.\u001b[0m\u001b[0m_accessors\u001b[0m\u001b[1;33m\u001b[0m\u001b[1;33m\u001b[0m\u001b[0m\n\u001b[0;32m   5986\u001b[0m             \u001b[1;32mand\u001b[0m \u001b[0mself\u001b[0m\u001b[1;33m.\u001b[0m\u001b[0m_info_axis\u001b[0m\u001b[1;33m.\u001b[0m\u001b[0m_can_hold_identifiers_and_holds_name\u001b[0m\u001b[1;33m(\u001b[0m\u001b[0mname\u001b[0m\u001b[1;33m)\u001b[0m\u001b[1;33m\u001b[0m\u001b[1;33m\u001b[0m\u001b[0m\n\u001b[0;32m   5987\u001b[0m         ):\n\u001b[0;32m   5988\u001b[0m             \u001b[1;32mreturn\u001b[0m \u001b[0mself\u001b[0m\u001b[1;33m[\u001b[0m\u001b[0mname\u001b[0m\u001b[1;33m]\u001b[0m\u001b[1;33m\u001b[0m\u001b[1;33m\u001b[0m\u001b[0m\n\u001b[1;32m-> 5989\u001b[1;33m         \u001b[1;32mreturn\u001b[0m \u001b[0mobject\u001b[0m\u001b[1;33m.\u001b[0m\u001b[0m__getattribute__\u001b[0m\u001b[1;33m(\u001b[0m\u001b[0mself\u001b[0m\u001b[1;33m,\u001b[0m \u001b[0mname\u001b[0m\u001b[1;33m)\u001b[0m\u001b[1;33m\u001b[0m\u001b[1;33m\u001b[0m\u001b[0m\n\u001b[0m",
      "\u001b[1;31mAttributeError\u001b[0m: 'Series' object has no attribute 'Label'"
     ]
    },
    {
     "data": {
      "image/png": "[encoded data removed]",
      "text/plain": [
       "<Figure size 640x480 with 1 Axes>"
      ]
     },
     "metadata": {},
     "output_type": "display_data"
    },
    {
     "data": {
      "image/png": "[encoded data removed]",
      "text/plain": [
       "<Figure size 640x480 with 1 Axes>"
      ]
     },
     "metadata": {},
     "output_type": "display_data"
    },
    {
     "data": {
      "image/png": "[encoded data removed]",
      "text/plain": [
       "<Figure size 640x480 with 1 Axes>"
      ]
     },
     "metadata": {},
     "output_type": "display_data"
    }
   ],
   "source": [
    "# Perform the cross-validation\n",
    "for train_indices, val_indices in kfold.split(X, y):\n",
    "    X_train, X_val = X[train_indices], X[val_indices]\n",
    "    y_train, y_val = y[train_indices], y[val_indices]\n",
    "\n",
    "    # Train your model on X_train and y_train using DeepPurpose\n",
    "    # Here we give again the training set as validation as it is used just to check how the model is performing, but the actual performances are tested on the validation set, so it is just a work-around to use DeepPurpose\n",
    "    model = train_model_crossval(X_train, y_train, X_val, y_val, X_val, y_val, 'CNN')\n",
    "\n",
    "    # Make predictions on the validation set\n",
    "    y_pred = model.predict(X_val)\n",
    "\n",
    "    # Convert continuous targets to binary targets using a threshold of 0.5\n",
    "    y_val_binary = (y_val > 0.5).astype(int)\n",
    "    y_pred_binary = (y_pred > 0.5).astype(int)\n",
    "\n",
    "    # Calculate evaluation metrics on binary targets\n",
    "    accuracy = accuracy_score(y_val_binary, y_pred_binary)\n",
    "    precision = precision_score(y_val_binary, y_pred_binary)\n",
    "    recall = recall_score(y_val_binary, y_pred_binary)\n",
    "    f1 = f1_score(y_val_binary, y_pred_binary)\n",
    "    roc_auc = roc_auc_score(y_val, y_pred)\n",
    "    balanced_accuracy = balanced_accuracy_score(y_val_binary, y_pred_binary)\n",
    "\n",
    "    # Append the metrics to the lists\n",
    "    accuracies.append(accuracy)\n",
    "    precisions.append(precision)\n",
    "    recalls.append(recall)\n",
    "    f1_scores.append(f1)\n",
    "    roc_aucs.append(roc_auc)\n",
    "    balanced_accuracies.append(balanced_accuracy)"
   ]
  },
  {
   "cell_type": "code",
   "execution_count": 102,
   "metadata": {},
   "outputs": [
    {
     "name": "stdout",
     "output_type": "stream",
     "text": [
      "Mean results:\n",
      "   mean Accuracy    mean Precision    mean Recall    mean F1 Score    mean ROC AUC    mean Balanced Accuracy\n",
      "---------------  ----------------  -------------  ---------------  --------------  ------------------------\n",
      "            nan               nan            nan              nan             nan                       nan\n",
      "Std results:\n",
      "   Accuracy std    Precision std    Recall std    F1 Score std    ROC AUC std    Balanced Accuracy std\n",
      "--------------  ---------------  ------------  --------------  -------------  -----------------------\n",
      "           nan              nan           nan             nan            nan                      nan\n"
     ]
    }
   ],
   "source": [
    "# Compute mean and std of each metric and print them\n",
    "mean_accuracy, std_accuracy = np.mean(accuracies), np.std(accuracies)\n",
    "mean_precision, std_precision = np.mean(precisions), np.std(precisions)\n",
    "mean_recall, std_recall = np.mean(recalls), np.std(recalls)\n",
    "mean_f1, std_f1 = np.mean(f1_scores), np.std(f1_scores)\n",
    "mean_roc_auc, std_roc_auc = np.mean(roc_aucs), np.std(roc_aucs)\n",
    "mean_balanced_accuracy, std_balanced_accuracy = np.mean(balanced_accuracies), np.std(balanced_accuracies)\n",
    "\n",
    "# Create a list of metric names and values\n",
    "metrics_means, metrics_stds = [\"mean Accuracy\", \"mean Precision\", \"mean Recall\", \"mean F1 Score\", \"mean ROC AUC\", \"mean Balanced Accuracy\"], [\"Accuracy std\", \"Precision std\", \"Recall std\", \"F1 Score std\", \"ROC AUC std\", \"Balanced Accuracy std\"]\n",
    "values, stds = [mean_accuracy, mean_precision, mean_recall, mean_f1, mean_roc_auc, mean_balanced_accuracy], [std_accuracy, std_precision, std_recall, std_f1, std_roc_auc, std_balanced_accuracy]\n",
    "\n",
    "# Create a list of lists for tabulating\n",
    "table_means, table_stds = [metrics_means, values], [metrics_stds, stds]\n",
    "\n",
    "# Display the table\n",
    "print('Mean results:\\n', tabulate(table_means, headers='firstrow'))\n",
    "print('Std results:\\n', tabulate(table_stds, headers='firstrow'))"
   ]
  },
  {
   "attachments": {},
   "cell_type": "markdown",
   "metadata": {},
   "source": [
    "### Using Tox21 data"
   ]
  },
  {
   "cell_type": "code",
   "execution_count": null,
   "metadata": {},
   "outputs": [],
   "source": [
    "TOX21_TARGET = ['NR-AR', 'NR-Aromatase', 'NR-PPAR-gamma', 'SR-HSE', 'NR-AR-LBD', 'NR-ER', 'SR-ARE', 'SR-MMP', 'NR-AhR', 'NR-ER-LBD', 'SR-ATAD5', 'SR-p53']"
   ]
  },
  {
   "cell_type": "code",
   "execution_count": null,
   "metadata": {},
   "outputs": [
    {
     "name": "stdout",
     "output_type": "stream",
     "text": [
      "<class 'pandas.core.frame.DataFrame'>\n",
      "Index: 783 entries, 1516 to 2716\n",
      "Data columns (total 14 columns):\n",
      " #   Column         Non-Null Count  Dtype  \n",
      "---  ------         --------------  -----  \n",
      " 0   NR-AR          783 non-null    float64\n",
      " 1   NR-AR-LBD      783 non-null    float64\n",
      " 2   NR-AhR         783 non-null    float64\n",
      " 3   NR-Aromatase   783 non-null    float64\n",
      " 4   NR-ER          783 non-null    float64\n",
      " 5   NR-ER-LBD      783 non-null    float64\n",
      " 6   NR-PPAR-gamma  783 non-null    float64\n",
      " 7   SR-ARE         783 non-null    float64\n",
      " 8   SR-ATAD5       783 non-null    float64\n",
      " 9   SR-HSE         783 non-null    float64\n",
      " 10  SR-MMP         783 non-null    float64\n",
      " 11  SR-p53         783 non-null    float64\n",
      " 12  mol_id         783 non-null    object \n",
      " 13  smiles         783 non-null    object \n",
      "dtypes: float64(12), object(2)\n",
      "memory usage: 91.8+ KB\n"
     ]
    }
   ],
   "source": [
    "tox21_data[1].info()"
   ]
  },
  {
   "attachments": {},
   "cell_type": "markdown",
   "metadata": {},
   "source": [
    "#### Graph Convolutional Neural Networks"
   ]
  },
  {
   "cell_type": "code",
   "execution_count": null,
   "metadata": {},
   "outputs": [
    {
     "name": "stderr",
     "output_type": "stream",
     "text": [
      "[19:19:09] WARNING: not removing hydrogen atom without neighbors\n"
     ]
    }
   ],
   "source": [
    "# Define target columns\n",
    "smiles_field = 'smiles'\n",
    "\n",
    "train_data, valid_data, test_data = [featurize(data, TOX21_TARGET) for data in tox21_data]"
   ]
  },
  {
   "cell_type": "code",
   "execution_count": null,
   "metadata": {},
   "outputs": [
    {
     "data": {
      "text/plain": [
       "array([-1.,  0.,  1.])"
      ]
     },
     "execution_count": 58,
     "metadata": {},
     "output_type": "execute_result"
    }
   ],
   "source": [
    "# Check unique taregt values (on one of the targets)\n",
    "train_data.to_dataframe()['y1'].unique()"
   ]
  },
  {
   "cell_type": "code",
   "execution_count": null,
   "metadata": {},
   "outputs": [
    {
     "name": "stdout",
     "output_type": "stream",
     "text": [
      "Epoch 0 loss: 0.670947\n",
      "Epoch 1 loss: 0.676700\n",
      "Epoch 2 loss: 0.664144\n",
      "Epoch 3 loss: 0.647311\n",
      "Epoch 4 loss: 0.625222\n",
      "Epoch 5 loss: 0.683302\n",
      "Epoch 6 loss: 0.681459\n",
      "Epoch 7 loss: 0.722996\n",
      "Epoch 8 loss: 0.611750\n",
      "Epoch 9 loss: 0.587592\n",
      "Epoch 10 loss: 0.624600\n",
      "Epoch 11 loss: 0.628511\n",
      "Epoch 12 loss: 0.551594\n",
      "Epoch 13 loss: 0.524670\n",
      "Epoch 14 loss: 0.602119\n",
      "Epoch 15 loss: 0.459142\n",
      "Epoch 16 loss: 0.573777\n",
      "Epoch 17 loss: 0.569203\n",
      "Epoch 18 loss: 0.548396\n",
      "Epoch 19 loss: 0.547530\n",
      "Epoch 20 loss: 0.554824\n",
      "Epoch 21 loss: 0.552594\n",
      "Epoch 22 loss: 0.518900\n",
      "Epoch 23 loss: 0.600483\n",
      "Epoch 24 loss: 0.507534\n",
      "Epoch 25 loss: 0.542743\n",
      "Epoch 26 loss: 0.552911\n",
      "Epoch 27 loss: 0.594994\n",
      "Epoch 28 loss: 0.542977\n",
      "Epoch 29 loss: 0.516763\n",
      "Epoch 30 loss: 0.657077\n",
      "Epoch 31 loss: 0.645243\n",
      "Epoch 32 loss: 0.542808\n",
      "Epoch 33 loss: 0.540687\n",
      "Epoch 34 loss: 0.506311\n",
      "Epoch 35 loss: 0.515585\n",
      "Epoch 36 loss: 0.535699\n",
      "Epoch 37 loss: 0.500511\n",
      "Epoch 38 loss: 0.462674\n",
      "Epoch 39 loss: 0.531595\n",
      "Epoch 40 loss: 0.446909\n",
      "Epoch 41 loss: 0.517221\n",
      "Epoch 42 loss: 0.516966\n",
      "Epoch 43 loss: 0.565403\n",
      "Epoch 44 loss: 0.491617\n",
      "Epoch 45 loss: 0.451624\n",
      "Epoch 46 loss: 0.538449\n",
      "Epoch 47 loss: 0.526630\n",
      "Epoch 48 loss: 0.525040\n",
      "Epoch 49 loss: 0.546607\n"
     ]
    }
   ],
   "source": [
    "# Define the model\n",
    "model = dc.models.GraphConvModel(\n",
    "    len(tox21_tasks),\n",
    "    batch_size=batch,\n",
    "    mode='classification',\n",
    "    n_classes=3,\n",
    ")\n",
    "\n",
    "# Fit the model\n",
    "# model.fit(train_data, nb_epoch=5)\n",
    "\n",
    "# n_tasks = len(tox21_tasks)\n",
    "# model = GraphConvModel(n_tasks, batch_size=50, mode='classification')\n",
    "\n",
    "num_epochs = 50\n",
    "losses = []\n",
    "for i in range(num_epochs):\n",
    " loss = model.fit(train_data, nb_epoch=1)\n",
    " print(\"Epoch %d loss: %f\" % (i, loss))\n",
    " losses.append(loss)\n"
   ]
  },
  {
   "cell_type": "code",
   "execution_count": null,
   "metadata": {},
   "outputs": [
    {
     "data": {
      "image/png": "[encoded data removed]",
      "text/plain": [
       "<Figure size 640x480 with 1 Axes>"
      ]
     },
     "metadata": {},
     "output_type": "display_data"
    }
   ],
   "source": [
    "plt.ylabel(\"Loss\")\n",
    "plt.xlabel(\"Epoch\")\n",
    "x = range(num_epochs)\n",
    "y = losses\n",
    "plt.scatter(x, y)\n",
    "plt.show()"
   ]
  },
  {
   "cell_type": "code",
   "execution_count": null,
   "metadata": {},
   "outputs": [
    {
     "name": "stdout",
     "output_type": "stream",
     "text": [
      "Evaluating model\n",
      "Training ROC-AUC Score: 0.859540\n",
      "Validation ROC-AUC Score: 0.710589\n",
      "Testing ROC-AUC Score: 0.739683\n"
     ]
    }
   ],
   "source": [
    "metric = dc.metrics.Metric(dc.metrics.roc_auc_score, np.mean)\n",
    "\n",
    "print(\"Evaluating model\")\n",
    "train_scores = model.evaluate(train_data, [metric], n_classes=3)\n",
    "print(\"Training ROC-AUC Score: %f\" % train_scores[\"mean-roc_auc_score\"])\n",
    "valid_scores = model.evaluate(valid_data, [metric], n_classes=3)\n",
    "print(\"Validation ROC-AUC Score: %f\" % valid_scores[\"mean-roc_auc_score\"])\n",
    "test_scores = model.evaluate(test_data, [metric], n_classes=3)\n",
    "print(\"Testing ROC-AUC Score: %f\" % test_scores[\"mean-roc_auc_score\"])"
   ]
  },
  {
   "cell_type": "code",
   "execution_count": null,
   "metadata": {},
   "outputs": [],
   "source": []
  },
  {
   "attachments": {},
   "cell_type": "markdown",
   "metadata": {},
   "source": [
    "## Explainability"
   ]
  },
  {
   "attachments": {},
   "cell_type": "markdown",
   "metadata": {},
   "source": [
    "### Predictions Explainability"
   ]
  },
  {
   "cell_type": "code",
   "execution_count": null,
   "metadata": {},
   "outputs": [],
   "source": []
  },
  {
   "attachments": {},
   "cell_type": "markdown",
   "metadata": {},
   "source": [
    "### Applicability Domain"
   ]
  },
  {
   "cell_type": "code",
   "execution_count": null,
   "metadata": {},
   "outputs": [],
   "source": []
  }
 ],
 "metadata": {
  "kernelspec": {
   "display_name": "trial",
   "language": "python",
   "name": "python3"
  },
  "language_info": {
   "codemirror_mode": {
    "name": "ipython",
    "version": 3
   },
   "file_extension": ".py",
   "mimetype": "text/x-python",
   "name": "python",
   "nbconvert_exporter": "python",
   "pygments_lexer": "ipython3",
   "version": "3.9.16"
  },
  "orig_nbformat": 4
 },
 "nbformat": 4,
 "nbformat_minor": 2
}
